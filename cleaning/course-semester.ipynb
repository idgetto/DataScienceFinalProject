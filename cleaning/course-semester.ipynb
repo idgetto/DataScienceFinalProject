{
 "cells": [
  {
   "cell_type": "markdown",
   "metadata": {},
   "source": [
    "### This notebook will create a spreadsheet for course-semesters"
   ]
  },
  {
   "cell_type": "markdown",
   "metadata": {},
   "source": [
    "Course semesters have the following form:\n",
    "\n",
    "TODO: get the rest of the column names"
   ]
  },
  {
   "cell_type": "markdown",
   "metadata": {},
   "source": [
    "| course-semster | code    | semester | name               | redundant-codes  | ... | ... | ... |\n",
    "|----------------|---------|----------|--------------------|------------------|-----|-----|-----|\n",
    "| ENGR100-0304FA | ENGR100 | 0304FA   | Engineering Basics | [FND100, FND103] | ... | ... | ... |"
   ]
  },
  {
   "cell_type": "code",
   "execution_count": null,
   "metadata": {
    "collapsed": true
   },
   "outputs": [],
   "source": []
  }
 ],
 "metadata": {
  "kernelspec": {
   "display_name": "Python 2",
   "language": "python",
   "name": "python2"
  },
  "language_info": {
   "codemirror_mode": {
    "name": "ipython",
    "version": 2
   },
   "file_extension": ".py",
   "mimetype": "text/x-python",
   "name": "python",
   "nbconvert_exporter": "python",
   "pygments_lexer": "ipython2",
   "version": "2.7.11"
  }
 },
 "nbformat": 4,
 "nbformat_minor": 0
}
