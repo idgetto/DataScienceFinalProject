{
 "cells": [
  {
   "cell_type": "code",
   "execution_count": 1,
   "metadata": {
    "collapsed": true
   },
   "outputs": [],
   "source": [
    "### This notebook will create a spreadsheet for course-semesters"
   ]
  },
  {
   "cell_type": "markdown",
   "metadata": {},
   "source": [
    "Course semesters have the following form:"
   ]
  },
  {
   "cell_type": "markdown",
   "metadata": {},
   "source": [
    "| code-semster   | code    | semester | name               | prof        |redundant_codes   | prereqs   | student_ids  |\n",
    "|----------------|---------|----------|--------------------|-------------|------------------|-----------|--------------|\n",
    "| ENGR100 0304FA | ENGR100 | 0304FA   | Engineering Basics | Paul Ruvalo | [FND100, FND103] | [ENGR101] | [15, 43, 32] |"
   ]
  },
  {
   "cell_type": "code",
   "execution_count": 2,
   "metadata": {
    "collapsed": false
   },
   "outputs": [
    {
     "data": {
      "text/html": [
       "<div>\n",
       "<table border=\"1\" class=\"dataframe\">\n",
       "  <thead>\n",
       "    <tr style=\"text-align: right;\">\n",
       "      <th></th>\n",
       "      <th>studentid</th>\n",
       "      <th>semester</th>\n",
       "      <th>grade</th>\n",
       "      <th>major</th>\n",
       "      <th>concentration</th>\n",
       "      <th>code</th>\n",
       "      <th>section</th>\n",
       "      <th>coursetitle</th>\n",
       "      <th>sectiontitle</th>\n",
       "      <th>professor</th>\n",
       "      <th>course-sectiontitle</th>\n",
       "      <th>code-semester</th>\n",
       "    </tr>\n",
       "  </thead>\n",
       "  <tbody>\n",
       "    <tr>\n",
       "      <th>0</th>\n",
       "      <td>30876146</td>\n",
       "      <td>0708FA</td>\n",
       "      <td>SR</td>\n",
       "      <td>Engineering</td>\n",
       "      <td>Computing</td>\n",
       "      <td>AHS CAP SPR</td>\n",
       "      <td>1</td>\n",
       "      <td>AHS CapstoneSpring Pre-registration</td>\n",
       "      <td></td>\n",
       "      <td>Lynch, Caitrin</td>\n",
       "      <td>AHS CapstoneSpring Pre-registration           ...</td>\n",
       "      <td>AHS CAP SPR  0708FA</td>\n",
       "    </tr>\n",
       "    <tr>\n",
       "      <th>1</th>\n",
       "      <td>23925034</td>\n",
       "      <td>0607FA</td>\n",
       "      <td>SR</td>\n",
       "      <td>Engineering</td>\n",
       "      <td>Bioengineering</td>\n",
       "      <td>AHS CAP SPR</td>\n",
       "      <td>1</td>\n",
       "      <td>AHS CapstoneSpring Pre-registration</td>\n",
       "      <td></td>\n",
       "      <td>Martello, Robert</td>\n",
       "      <td>AHS CapstoneSpring Pre-registration           ...</td>\n",
       "      <td>AHS CAP SPR  0607FA</td>\n",
       "    </tr>\n",
       "    <tr>\n",
       "      <th>2</th>\n",
       "      <td>99052948</td>\n",
       "      <td>0607FA</td>\n",
       "      <td>SR</td>\n",
       "      <td>Electr'l &amp; Computer Engr</td>\n",
       "      <td>NaN</td>\n",
       "      <td>AHS CAP SPR</td>\n",
       "      <td>1</td>\n",
       "      <td>AHS CapstoneSpring Pre-registration</td>\n",
       "      <td></td>\n",
       "      <td>Martello, Robert</td>\n",
       "      <td>AHS CapstoneSpring Pre-registration           ...</td>\n",
       "      <td>AHS CAP SPR  0607FA</td>\n",
       "    </tr>\n",
       "    <tr>\n",
       "      <th>3</th>\n",
       "      <td>29826367</td>\n",
       "      <td>0607FA</td>\n",
       "      <td>SR</td>\n",
       "      <td>Mechanical Engineering</td>\n",
       "      <td>NaN</td>\n",
       "      <td>AHS CAP SPR</td>\n",
       "      <td>1</td>\n",
       "      <td>AHS CapstoneSpring Pre-registration</td>\n",
       "      <td></td>\n",
       "      <td>Martello, Robert</td>\n",
       "      <td>AHS CapstoneSpring Pre-registration           ...</td>\n",
       "      <td>AHS CAP SPR  0607FA</td>\n",
       "    </tr>\n",
       "    <tr>\n",
       "      <th>4</th>\n",
       "      <td>91614816</td>\n",
       "      <td>0607FA</td>\n",
       "      <td>SR</td>\n",
       "      <td>Mechanical Engineering</td>\n",
       "      <td>NaN</td>\n",
       "      <td>AHS CAP SPR</td>\n",
       "      <td>1</td>\n",
       "      <td>AHS CapstoneSpring Pre-registration</td>\n",
       "      <td></td>\n",
       "      <td>Martello, Robert</td>\n",
       "      <td>AHS CapstoneSpring Pre-registration           ...</td>\n",
       "      <td>AHS CAP SPR  0607FA</td>\n",
       "    </tr>\n",
       "  </tbody>\n",
       "</table>\n",
       "</div>"
      ],
      "text/plain": [
       "   studentid  semester grade                     major  \\\n",
       "0   30876146  0708FA      SR  Engineering                \n",
       "1   23925034  0607FA      SR  Engineering                \n",
       "2   99052948  0607FA      SR  Electr'l & Computer Engr   \n",
       "3   29826367  0607FA      SR  Mechanical Engineering     \n",
       "4   91614816  0607FA      SR  Mechanical Engineering     \n",
       "\n",
       "              concentration          code section  \\\n",
       "0  Computing                 AHS CAP SPR        1   \n",
       "1  Bioengineering            AHS CAP SPR        1   \n",
       "2                       NaN  AHS CAP SPR        1   \n",
       "3                       NaN  AHS CAP SPR        1   \n",
       "4                       NaN  AHS CAP SPR        1   \n",
       "\n",
       "                           coursetitle                      sectiontitle  \\\n",
       "0  AHS CapstoneSpring Pre-registration                                     \n",
       "1  AHS CapstoneSpring Pre-registration                                     \n",
       "2  AHS CapstoneSpring Pre-registration                                     \n",
       "3  AHS CapstoneSpring Pre-registration                                     \n",
       "4  AHS CapstoneSpring Pre-registration                                     \n",
       "\n",
       "                          professor  \\\n",
       "0  Lynch, Caitrin                     \n",
       "1  Martello, Robert                   \n",
       "2  Martello, Robert                   \n",
       "3  Martello, Robert                   \n",
       "4  Martello, Robert                   \n",
       "\n",
       "                                 course-sectiontitle          code-semester  \n",
       "0  AHS CapstoneSpring Pre-registration           ...  AHS CAP SPR  0708FA    \n",
       "1  AHS CapstoneSpring Pre-registration           ...  AHS CAP SPR  0607FA    \n",
       "2  AHS CapstoneSpring Pre-registration           ...  AHS CAP SPR  0607FA    \n",
       "3  AHS CapstoneSpring Pre-registration           ...  AHS CAP SPR  0607FA    \n",
       "4  AHS CapstoneSpring Pre-registration           ...  AHS CAP SPR  0607FA    "
      ]
     },
     "execution_count": 2,
     "metadata": {},
     "output_type": "execute_result"
    }
   ],
   "source": [
    "import pandas as pd\n",
    "\n",
    "data = pd.read_csv('../data/olin0216.csv')\n",
    "data.head()"
   ]
  },
  {
   "cell_type": "code",
   "execution_count": 3,
   "metadata": {
    "collapsed": false
   },
   "outputs": [
    {
     "data": {
      "text/plain": [
       "'AHS CAP SPR  0708FA  '"
      ]
     },
     "execution_count": 3,
     "metadata": {},
     "output_type": "execute_result"
    }
   ],
   "source": [
    "data['code-semester'][0]"
   ]
  },
  {
   "cell_type": "code",
   "execution_count": 4,
   "metadata": {
    "collapsed": true
   },
   "outputs": [],
   "source": [
    "grouped = data.groupby('code-semester')"
   ]
  },
  {
   "cell_type": "code",
   "execution_count": 6,
   "metadata": {
    "collapsed": false
   },
   "outputs": [
    {
     "ename": "AttributeError",
     "evalue": "'float' object has no attribute 'strip'",
     "output_type": "error",
     "traceback": [
      "\u001b[1;31m---------------------------------------------------------------------------\u001b[0m",
      "\u001b[1;31mAttributeError\u001b[0m                            Traceback (most recent call last)",
      "\u001b[1;32m<ipython-input-6-ac311f1c883e>\u001b[0m in \u001b[0;36m<module>\u001b[1;34m()\u001b[0m\n\u001b[0;32m     32\u001b[0m     \u001b[0mcourse_semesters\u001b[0m\u001b[1;33m[\u001b[0m\u001b[1;34m'semester'\u001b[0m\u001b[1;33m]\u001b[0m\u001b[1;33m.\u001b[0m\u001b[0mappend\u001b[0m\u001b[1;33m(\u001b[0m\u001b[0mstring\u001b[0m\u001b[1;33m.\u001b[0m\u001b[0mstrip\u001b[0m\u001b[1;33m(\u001b[0m\u001b[0msemester\u001b[0m\u001b[1;33m)\u001b[0m\u001b[1;33m)\u001b[0m\u001b[1;33m\u001b[0m\u001b[0m\n\u001b[0;32m     33\u001b[0m     \u001b[0mcourse_semesters\u001b[0m\u001b[1;33m[\u001b[0m\u001b[1;34m'name'\u001b[0m\u001b[1;33m]\u001b[0m\u001b[1;33m.\u001b[0m\u001b[0mappend\u001b[0m\u001b[1;33m(\u001b[0m\u001b[0mstring\u001b[0m\u001b[1;33m.\u001b[0m\u001b[0mstrip\u001b[0m\u001b[1;33m(\u001b[0m\u001b[0mname\u001b[0m\u001b[1;33m)\u001b[0m\u001b[1;33m)\u001b[0m\u001b[1;33m\u001b[0m\u001b[0m\n\u001b[1;32m---> 34\u001b[1;33m     \u001b[0mcourse_semesters\u001b[0m\u001b[1;33m[\u001b[0m\u001b[1;34m'prof'\u001b[0m\u001b[1;33m]\u001b[0m\u001b[1;33m.\u001b[0m\u001b[0mappend\u001b[0m\u001b[1;33m(\u001b[0m\u001b[0mstring\u001b[0m\u001b[1;33m.\u001b[0m\u001b[0mstrip\u001b[0m\u001b[1;33m(\u001b[0m\u001b[0mprof\u001b[0m\u001b[1;33m)\u001b[0m\u001b[1;33m)\u001b[0m\u001b[1;33m\u001b[0m\u001b[0m\n\u001b[0m\u001b[0;32m     35\u001b[0m     \u001b[0mcourse_semesters\u001b[0m\u001b[1;33m[\u001b[0m\u001b[1;34m'redundant_codes'\u001b[0m\u001b[1;33m]\u001b[0m\u001b[1;33m.\u001b[0m\u001b[0mappend\u001b[0m\u001b[1;33m(\u001b[0m\u001b[0mredundant_codes\u001b[0m\u001b[1;33m)\u001b[0m\u001b[1;33m\u001b[0m\u001b[0m\n\u001b[0;32m     36\u001b[0m     \u001b[0mcourse_semesters\u001b[0m\u001b[1;33m[\u001b[0m\u001b[1;34m'prereqs'\u001b[0m\u001b[1;33m]\u001b[0m\u001b[1;33m.\u001b[0m\u001b[0mappend\u001b[0m\u001b[1;33m(\u001b[0m\u001b[0mprereqs\u001b[0m\u001b[1;33m)\u001b[0m\u001b[1;33m\u001b[0m\u001b[0m\n",
      "\u001b[1;32m/home/isaac/anaconda/lib/python2.7/string.pyc\u001b[0m in \u001b[0;36mstrip\u001b[1;34m(s, chars)\u001b[0m\n\u001b[0;32m    257\u001b[0m \u001b[1;33m\u001b[0m\u001b[0m\n\u001b[0;32m    258\u001b[0m     \"\"\"\n\u001b[1;32m--> 259\u001b[1;33m     \u001b[1;32mreturn\u001b[0m \u001b[0ms\u001b[0m\u001b[1;33m.\u001b[0m\u001b[0mstrip\u001b[0m\u001b[1;33m(\u001b[0m\u001b[0mchars\u001b[0m\u001b[1;33m)\u001b[0m\u001b[1;33m\u001b[0m\u001b[0m\n\u001b[0m\u001b[0;32m    260\u001b[0m \u001b[1;33m\u001b[0m\u001b[0m\n\u001b[0;32m    261\u001b[0m \u001b[1;31m# Strip leading tabs and spaces\u001b[0m\u001b[1;33m\u001b[0m\u001b[1;33m\u001b[0m\u001b[0m\n",
      "\u001b[1;31mAttributeError\u001b[0m: 'float' object has no attribute 'strip'"
     ]
    }
   ],
   "source": [
    "from collections import OrderedDict\n",
    "import string\n",
    "course_semesters = OrderedDict()\n",
    "\n",
    "columns =  ['code-semester', \n",
    "            'code', \n",
    "            'semester', \n",
    "            'name', \n",
    "            'prof',\n",
    "            'redundant_codes',\n",
    "            'prereqs',\n",
    "            'student_ids']\n",
    "\n",
    "for column in columns:\n",
    "    course_semesters[column] = []\n",
    "\n",
    "for group in grouped:\n",
    "    code_semester = group[0]\n",
    "    registrations = group[1]\n",
    "    \n",
    "    first_registration = registrations.iloc[0]\n",
    "    code = first_registration.code\n",
    "    semester = first_registration.semester\n",
    "    name = first_registration['course-sectiontitle']\n",
    "    prof = str(first_registration.professor)\n",
    "    redundant_codes = [] # TODO: figure out what the redundant codes are\n",
    "    prereqs = [] # TODO: figure out what the prereqs\n",
    "    student_ids = registrations.studentid.unique().tolist()\n",
    "    \n",
    "    course_semesters['code-semester'].append(string.strip(code_semester))\n",
    "    course_semesters['code'].append(string.strip(code))\n",
    "    course_semesters['semester'].append(string.strip(semester))\n",
    "    course_semesters['name'].append(string.strip(name))\n",
    "    course_semesters['prof'].append(string.strip(prof))\n",
    "    course_semesters['redundant_codes'].append(redundant_codes)\n",
    "    course_semesters['prereqs'].append(prereqs)\n",
    "    course_semesters['student_ids'].append(student_ids)\n",
    "    \n",
    "course_semesters_df = pd.DataFrame(course_semesters)"
   ]
  },
  {
   "cell_type": "code",
   "execution_count": null,
   "metadata": {
    "collapsed": false
   },
   "outputs": [],
   "source": [
    "course_semesters_df.head(10)"
   ]
  },
  {
   "cell_type": "code",
   "execution_count": null,
   "metadata": {
    "collapsed": false
   },
   "outputs": [],
   "source": [
    "course_semesters_df.to_csv('../data/course-semesters.csv', index=False)"
   ]
  },
  {
   "cell_type": "code",
   "execution_count": null,
   "metadata": {
    "collapsed": true
   },
   "outputs": [],
   "source": []
  }
 ],
 "metadata": {
  "kernelspec": {
   "display_name": "Python 2",
   "language": "python",
   "name": "python2"
  },
  "language_info": {
   "codemirror_mode": {
    "name": "ipython",
    "version": 2
   },
   "file_extension": ".py",
   "mimetype": "text/x-python",
   "name": "python",
   "nbconvert_exporter": "python",
   "pygments_lexer": "ipython2",
   "version": "2.7.11"
  }
 },
 "nbformat": 4,
 "nbformat_minor": 0
}
