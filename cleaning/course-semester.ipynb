{
 "cells": [
  {
   "cell_type": "markdown",
   "metadata": {},
   "source": [
    "### This notebook will create a spreadsheet for course-semesters"
   ]
  },
  {
   "cell_type": "markdown",
   "metadata": {},
   "source": [
    "Course semesters have the following form:"
   ]
  },
  {
   "cell_type": "markdown",
   "metadata": {},
   "source": [
    "| code-semster   | code    | semester | name               | prof        |redundant_codes   | prereqs   | student_ids  |\n",
    "|----------------|---------|----------|--------------------|-------------|------------------|-----------|--------------|\n",
    "| ENGR100 0304FA | ENGR100 | 0304FA   | Engineering Basics | Paul Ruvalo | [FND100, FND103] | [ENGR101] | [15, 43, 32] |"
   ]
  },
  {
   "cell_type": "code",
   "execution_count": 1,
   "metadata": {
    "collapsed": false
   },
   "outputs": [
    {
     "data": {
      "text/html": [
       "<div>\n",
       "<table border=\"1\" class=\"dataframe\">\n",
       "  <thead>\n",
       "    <tr style=\"text-align: right;\">\n",
       "      <th></th>\n",
       "      <th>status</th>\n",
       "      <th>grad_class</th>\n",
       "      <th>id</th>\n",
       "      <th>semester</th>\n",
       "      <th>sex</th>\n",
       "      <th>grade</th>\n",
       "      <th>major_main</th>\n",
       "      <th>major_sub</th>\n",
       "      <th>code</th>\n",
       "      <th>Unnamed: 9</th>\n",
       "      <th>course_main</th>\n",
       "      <th>course_sub</th>\n",
       "      <th>professor</th>\n",
       "      <th>term</th>\n",
       "      <th>year</th>\n",
       "      <th>course_fullname</th>\n",
       "      <th>major_fullname</th>\n",
       "      <th>code-semester</th>\n",
       "    </tr>\n",
       "  </thead>\n",
       "  <tbody>\n",
       "    <tr>\n",
       "      <th>0</th>\n",
       "      <td>GRAD</td>\n",
       "      <td>2007</td>\n",
       "      <td>602</td>\n",
       "      <td>0304FA</td>\n",
       "      <td>M</td>\n",
       "      <td>FF</td>\n",
       "      <td>Undeclared</td>\n",
       "      <td>NaN</td>\n",
       "      <td>AHS1101</td>\n",
       "      <td>2</td>\n",
       "      <td>History and Society</td>\n",
       "      <td>Bodies in Motion: Migration...</td>\n",
       "      <td>Fleischmann, Fritz</td>\n",
       "      <td>FA</td>\n",
       "      <td>3</td>\n",
       "      <td>History and Society Bodies in Motion: Migratio...</td>\n",
       "      <td>Undeclared</td>\n",
       "      <td>AHS1101 0304FA</td>\n",
       "    </tr>\n",
       "    <tr>\n",
       "      <th>1</th>\n",
       "      <td>GRAD</td>\n",
       "      <td>2007</td>\n",
       "      <td>602</td>\n",
       "      <td>0304FA</td>\n",
       "      <td>M</td>\n",
       "      <td>FF</td>\n",
       "      <td>Undeclared</td>\n",
       "      <td>NaN</td>\n",
       "      <td>FND1210</td>\n",
       "      <td>1</td>\n",
       "      <td>Physical Foundations ofEngineering I</td>\n",
       "      <td>NaN</td>\n",
       "      <td>Zastavker, Yevgeniya</td>\n",
       "      <td>FA</td>\n",
       "      <td>3</td>\n",
       "      <td>Physical Foundations ofEngineering I</td>\n",
       "      <td>Undeclared</td>\n",
       "      <td>FND1210 0304FA</td>\n",
       "    </tr>\n",
       "    <tr>\n",
       "      <th>2</th>\n",
       "      <td>GRAD</td>\n",
       "      <td>2007</td>\n",
       "      <td>602</td>\n",
       "      <td>0304FA</td>\n",
       "      <td>M</td>\n",
       "      <td>FF</td>\n",
       "      <td>Undeclared</td>\n",
       "      <td>NaN</td>\n",
       "      <td>FND1312</td>\n",
       "      <td>1</td>\n",
       "      <td>Mathematical Foundations ofEngineering I: Calc...</td>\n",
       "      <td>NaN</td>\n",
       "      <td>Tilley, Burt S.</td>\n",
       "      <td>FA</td>\n",
       "      <td>3</td>\n",
       "      <td>Mathematical Foundations ofEngineering I: Calc...</td>\n",
       "      <td>Undeclared</td>\n",
       "      <td>FND1312 0304FA</td>\n",
       "    </tr>\n",
       "    <tr>\n",
       "      <th>3</th>\n",
       "      <td>GRAD</td>\n",
       "      <td>2007</td>\n",
       "      <td>602</td>\n",
       "      <td>0304FA</td>\n",
       "      <td>M</td>\n",
       "      <td>FF</td>\n",
       "      <td>Undeclared</td>\n",
       "      <td>NaN</td>\n",
       "      <td>FND1410</td>\n",
       "      <td>1</td>\n",
       "      <td>Foundations of EngineeringProject I</td>\n",
       "      <td>Mechanical Nature</td>\n",
       "      <td>Linder, Benjamin</td>\n",
       "      <td>FA</td>\n",
       "      <td>3</td>\n",
       "      <td>Foundations of EngineeringProject I Mechanical...</td>\n",
       "      <td>Undeclared</td>\n",
       "      <td>FND1410 0304FA</td>\n",
       "    </tr>\n",
       "    <tr>\n",
       "      <th>4</th>\n",
       "      <td>GRAD</td>\n",
       "      <td>2007</td>\n",
       "      <td>602</td>\n",
       "      <td>0304FA</td>\n",
       "      <td>M</td>\n",
       "      <td>FF</td>\n",
       "      <td>Undeclared</td>\n",
       "      <td>NaN</td>\n",
       "      <td>FND1510</td>\n",
       "      <td>3</td>\n",
       "      <td>Intro to Modeling &amp; Control</td>\n",
       "      <td>NaN</td>\n",
       "      <td>Pratt, Gill</td>\n",
       "      <td>FA</td>\n",
       "      <td>3</td>\n",
       "      <td>Intro to Modeling &amp; Control</td>\n",
       "      <td>Undeclared</td>\n",
       "      <td>FND1510 0304FA</td>\n",
       "    </tr>\n",
       "  </tbody>\n",
       "</table>\n",
       "</div>"
      ],
      "text/plain": [
       "  status  grad_class   id semester sex grade  major_main major_sub     code  \\\n",
       "0   GRAD        2007  602   0304FA   M    FF  Undeclared       NaN  AHS1101   \n",
       "1   GRAD        2007  602   0304FA   M    FF  Undeclared       NaN  FND1210   \n",
       "2   GRAD        2007  602   0304FA   M    FF  Undeclared       NaN  FND1312   \n",
       "3   GRAD        2007  602   0304FA   M    FF  Undeclared       NaN  FND1410   \n",
       "4   GRAD        2007  602   0304FA   M    FF  Undeclared       NaN  FND1510   \n",
       "\n",
       "  Unnamed: 9                                        course_main  \\\n",
       "0          2                                History and Society   \n",
       "1          1               Physical Foundations ofEngineering I   \n",
       "2          1  Mathematical Foundations ofEngineering I: Calc...   \n",
       "3          1                Foundations of EngineeringProject I   \n",
       "4          3                        Intro to Modeling & Control   \n",
       "\n",
       "                       course_sub             professor term  year  \\\n",
       "0  Bodies in Motion: Migration...    Fleischmann, Fritz   FA     3   \n",
       "1                             NaN  Zastavker, Yevgeniya   FA     3   \n",
       "2                             NaN       Tilley, Burt S.   FA     3   \n",
       "3               Mechanical Nature      Linder, Benjamin   FA     3   \n",
       "4                             NaN           Pratt, Gill   FA     3   \n",
       "\n",
       "                                     course_fullname major_fullname  \\\n",
       "0  History and Society Bodies in Motion: Migratio...    Undeclared    \n",
       "1              Physical Foundations ofEngineering I     Undeclared    \n",
       "2  Mathematical Foundations ofEngineering I: Calc...    Undeclared    \n",
       "3  Foundations of EngineeringProject I Mechanical...    Undeclared    \n",
       "4                       Intro to Modeling & Control     Undeclared    \n",
       "\n",
       "    code-semester  \n",
       "0  AHS1101 0304FA  \n",
       "1  FND1210 0304FA  \n",
       "2  FND1312 0304FA  \n",
       "3  FND1410 0304FA  \n",
       "4  FND1510 0304FA  "
      ]
     },
     "execution_count": 1,
     "metadata": {},
     "output_type": "execute_result"
    }
   ],
   "source": [
    "import pandas as pd\n",
    "\n",
    "data = pd.read_csv('../data/olincourseenrollment0214.csv')\n",
    "data.head()"
   ]
  },
  {
   "cell_type": "code",
   "execution_count": 2,
   "metadata": {
    "collapsed": false
   },
   "outputs": [
    {
     "data": {
      "text/plain": [
       "'AHS1101 0304FA'"
      ]
     },
     "execution_count": 2,
     "metadata": {},
     "output_type": "execute_result"
    }
   ],
   "source": [
    "data['code-semester'][0]"
   ]
  },
  {
   "cell_type": "code",
   "execution_count": 3,
   "metadata": {
    "collapsed": true
   },
   "outputs": [],
   "source": [
    "grouped = data.groupby('code-semester')"
   ]
  },
  {
   "cell_type": "code",
   "execution_count": 4,
   "metadata": {
    "collapsed": false
   },
   "outputs": [
    {
     "ename": "KeyError",
     "evalue": "'prereqs'",
     "output_type": "error",
     "traceback": [
      "\u001b[1;31m---------------------------------------------------------------------------\u001b[0m",
      "\u001b[1;31mKeyError\u001b[0m                                  Traceback (most recent call last)",
      "\u001b[1;32m<ipython-input-4-1acd6b564cb1>\u001b[0m in \u001b[0;36m<module>\u001b[1;34m()\u001b[0m\n\u001b[0;32m     33\u001b[0m     \u001b[0mcourse_semesters\u001b[0m\u001b[1;33m[\u001b[0m\u001b[1;34m'prof'\u001b[0m\u001b[1;33m]\u001b[0m\u001b[1;33m.\u001b[0m\u001b[0mappend\u001b[0m\u001b[1;33m(\u001b[0m\u001b[0mprof\u001b[0m\u001b[1;33m)\u001b[0m\u001b[1;33m\u001b[0m\u001b[0m\n\u001b[0;32m     34\u001b[0m     \u001b[0mcourse_semesters\u001b[0m\u001b[1;33m[\u001b[0m\u001b[1;34m'redundant_codes'\u001b[0m\u001b[1;33m]\u001b[0m\u001b[1;33m.\u001b[0m\u001b[0mappend\u001b[0m\u001b[1;33m(\u001b[0m\u001b[0mredundant_codes\u001b[0m\u001b[1;33m)\u001b[0m\u001b[1;33m\u001b[0m\u001b[0m\n\u001b[1;32m---> 35\u001b[1;33m     \u001b[0mcourse_semesters\u001b[0m\u001b[1;33m[\u001b[0m\u001b[1;34m'prereqs'\u001b[0m\u001b[1;33m]\u001b[0m\u001b[1;33m.\u001b[0m\u001b[0mappend\u001b[0m\u001b[1;33m(\u001b[0m\u001b[0mprereqs\u001b[0m\u001b[1;33m)\u001b[0m\u001b[1;33m\u001b[0m\u001b[0m\n\u001b[0m\u001b[0;32m     36\u001b[0m     \u001b[0mcourse_semesters\u001b[0m\u001b[1;33m[\u001b[0m\u001b[1;34m'student_ids'\u001b[0m\u001b[1;33m]\u001b[0m\u001b[1;33m.\u001b[0m\u001b[0mappend\u001b[0m\u001b[1;33m(\u001b[0m\u001b[0mstudent_ids\u001b[0m\u001b[1;33m)\u001b[0m\u001b[1;33m\u001b[0m\u001b[0m\n\u001b[0;32m     37\u001b[0m \u001b[1;33m\u001b[0m\u001b[0m\n",
      "\u001b[1;31mKeyError\u001b[0m: 'prereqs'"
     ]
    }
   ],
   "source": [
    "from collections import OrderedDict\n",
    "course_semesters = OrderedDict()\n",
    "\n",
    "columns =  ['code-semester', \n",
    "            'code', \n",
    "            'semester', \n",
    "            'name', \n",
    "            'prof',\n",
    "            'redundant_codes',\n",
    "            'prereqs',\n",
    "            'student_ids']\n",
    "\n",
    "for column in columns:\n",
    "    course_semesters[column] = []\n",
    "\n",
    "for group in grouped:\n",
    "    code_semester = group[0]\n",
    "    registrations = group[1]\n",
    "    \n",
    "    first_registration = registrations.iloc[0]\n",
    "    code = first_registration.code\n",
    "    semester = first_registration.semester\n",
    "    name = first_registration.course_fullname\n",
    "    prof = first_registration.professor\n",
    "    redundant_codes = [] # TODO: figure out what the redundant codes are\n",
    "    prereqs = [] # TODO: figure out what the prereqs\n",
    "    student_ids = registrations.id.unique().tolist()\n",
    "    \n",
    "    course_semesters['code-semester'].append(code_semester)\n",
    "    course_semesters['code'].append(code)\n",
    "    course_semesters['semester'].append(semester)\n",
    "    course_semesters['name'].append(name)\n",
    "    course_semesters['prof'].append(prof)\n",
    "    course_semesters['redundant_codes'].append(redundant_codes)\n",
    "    course_semesters['prereqs'].append(prereqs)\n",
    "    course_semesters['student_ids'].append(student_ids)\n",
    "    \n",
    "course_semesters_df = pd.DataFrame(course_semesters)"
   ]
  },
  {
   "cell_type": "code",
   "execution_count": null,
   "metadata": {
    "collapsed": false
   },
   "outputs": [],
   "source": [
    "course_semesters_df.head(10)"
   ]
  },
  {
   "cell_type": "code",
   "execution_count": null,
   "metadata": {
    "collapsed": false
   },
   "outputs": [],
   "source": [
    "course_semesters_df.to_csv('../data/course-semesters.csv', index=False)"
   ]
  }
 ],
 "metadata": {
  "kernelspec": {
   "display_name": "Python 2",
   "language": "python",
   "name": "python2"
  },
  "language_info": {
   "codemirror_mode": {
    "name": "ipython",
    "version": 2
   },
   "file_extension": ".py",
   "mimetype": "text/x-python",
   "name": "python",
   "nbconvert_exporter": "python",
   "pygments_lexer": "ipython2",
   "version": "2.7.11"
  }
 },
 "nbformat": 4,
 "nbformat_minor": 0
}
