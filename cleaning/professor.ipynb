{
 "cells": [
  {
   "cell_type": "markdown",
   "metadata": {},
   "source": [
    "### Create professor csv file in the form\n"
   ]
  },
  {
   "cell_type": "markdown",
   "metadata": {},
   "source": [
    "|name|code-semester|department|\n",
    "|--|--|--|\n",
    "|Zastavker, Yevgeniya|[FND1210, ]|ECE|"
   ]
  },
  {
   "cell_type": "code",
   "execution_count": 91,
   "metadata": {
    "collapsed": true
   },
   "outputs": [],
   "source": [
    "import pandas as pd\n",
    "data = pd.read_csv('../data/olincourseenrollment0214.csv')"
   ]
  },
  {
   "cell_type": "code",
   "execution_count": 92,
   "metadata": {
    "collapsed": false
   },
   "outputs": [],
   "source": [
    "grouped = data.groupby('professor')"
   ]
  },
  {
   "cell_type": "code",
   "execution_count": 93,
   "metadata": {
    "collapsed": false
   },
   "outputs": [],
   "source": [
    "from collections import OrderedDict\n",
    "professord = OrderedDict()\n",
    "\n",
    "columns =  ['name', \n",
    "            'code-semester']\n",
    "\n",
    "for column in columns:\n",
    "    professord[column] = []"
   ]
  },
  {
   "cell_type": "code",
   "execution_count": 94,
   "metadata": {
    "collapsed": false
   },
   "outputs": [],
   "source": [
    "for group in grouped:\n",
    "    professord['name'].append(group[0])\n",
    "    professord['code-semester'].append(group[1]['code-semester'].unique())"
   ]
  },
  {
   "cell_type": "code",
   "execution_count": 95,
   "metadata": {
    "collapsed": false
   },
   "outputs": [],
   "source": [
    "professor = pd.DataFrame(professord)"
   ]
  },
  {
   "cell_type": "code",
   "execution_count": 96,
   "metadata": {
    "collapsed": false
   },
   "outputs": [
    {
     "data": {
      "text/html": [
       "<div>\n",
       "<table border=\"1\" class=\"dataframe\">\n",
       "  <thead>\n",
       "    <tr style=\"text-align: right;\">\n",
       "      <th></th>\n",
       "      <th>name</th>\n",
       "      <th>code-semester</th>\n",
       "    </tr>\n",
       "  </thead>\n",
       "  <tbody>\n",
       "    <tr>\n",
       "      <th>0</th>\n",
       "      <td>Abbas, Hassan</td>\n",
       "      <td>[AHSE2199A 0607SP, AHSE2199 0708SP, AHSE1199 0...</td>\n",
       "    </tr>\n",
       "    <tr>\n",
       "      <th>1</th>\n",
       "      <td>Adams, Sarah Spence</td>\n",
       "      <td>[FND1310 0203FA, FND1311 0203FA, FND1320 0203S...</td>\n",
       "    </tr>\n",
       "    <tr>\n",
       "      <th>2</th>\n",
       "      <td>Adler, Jonathan</td>\n",
       "      <td>[AHSE2199A 0910SP, AHSE0197 0910FA, AHSE4198 0...</td>\n",
       "    </tr>\n",
       "    <tr>\n",
       "      <th>3</th>\n",
       "      <td>Allen, Isabel Elaine</td>\n",
       "      <td>[FND2410 0304FA, BAB5001 0405SP]</td>\n",
       "    </tr>\n",
       "    <tr>\n",
       "      <th>4</th>\n",
       "      <td>Anderson, David</td>\n",
       "      <td>[MEC1000 0607FA, ENGR1200 0405FA, ENGR2210 050...</td>\n",
       "    </tr>\n",
       "  </tbody>\n",
       "</table>\n",
       "</div>"
      ],
      "text/plain": [
       "                   name                                      code-semester\n",
       "0         Abbas, Hassan  [AHSE2199A 0607SP, AHSE2199 0708SP, AHSE1199 0...\n",
       "1   Adams, Sarah Spence  [FND1310 0203FA, FND1311 0203FA, FND1320 0203S...\n",
       "2       Adler, Jonathan  [AHSE2199A 0910SP, AHSE0197 0910FA, AHSE4198 0...\n",
       "3  Allen, Isabel Elaine                   [FND2410 0304FA, BAB5001 0405SP]\n",
       "4       Anderson, David  [MEC1000 0607FA, ENGR1200 0405FA, ENGR2210 050..."
      ]
     },
     "execution_count": 96,
     "metadata": {},
     "output_type": "execute_result"
    }
   ],
   "source": [
    "professor.head()"
   ]
  },
  {
   "cell_type": "code",
   "execution_count": 101,
   "metadata": {
    "collapsed": false
   },
   "outputs": [
    {
     "name": "stdout",
     "output_type": "stream",
     "text": [
      "['0203FA' '0203SP' '0304FA' '0304SP' '0405FA' '0405SP' '0506FA' '0506SP'\n",
      " '0607FA' '0607SP' '0708FA' '0708SP' '0809FA' '0809SP' '0910FA' '0910SP'\n",
      " '1011FA' '1011SP' '1112FA' '1112SP' '1213FA' '1213SP' '1314FA' '1314SP']\n"
     ]
    }
   ],
   "source": [
    "semesters = data['semester'].unique()\n",
    "semesters.sort()\n",
    "print semesters"
   ]
  },
  {
   "cell_type": "code",
   "execution_count": 102,
   "metadata": {
    "collapsed": false
   },
   "outputs": [],
   "source": [
    "def year(semesters):\n",
    "    start_sem = 0\n",
    "    end_sem = 0\n",
    "    semlist = []\n",
    "    for semester in semesters:\n",
    "        semlist.append(semester[-6:])\n",
    "    semlist.sort()\n",
    "    return semlist[0]+semlist[-1]\n",
    "\n",
    "def start_year(sem):\n",
    "    return sem[0:6]\n",
    "\n",
    "def end_year(sem):\n",
    "    if sem[-6:] == \"1314SP\":\n",
    "        return \n",
    "    return sem[-6:]\n",
    "\n",
    "professor['sem'] = professor['code-semester'].apply(year)\n",
    "professor['start_sem'] = professor['sem'].apply(start_year)\n",
    "professor['end_sem'] = professor['sem'].apply(end_year)"
   ]
  },
  {
   "cell_type": "code",
   "execution_count": 103,
   "metadata": {
    "collapsed": false
   },
   "outputs": [
    {
     "data": {
      "text/html": [
       "<div>\n",
       "<table border=\"1\" class=\"dataframe\">\n",
       "  <thead>\n",
       "    <tr style=\"text-align: right;\">\n",
       "      <th></th>\n",
       "      <th>name</th>\n",
       "      <th>code-semester</th>\n",
       "      <th>start_sem</th>\n",
       "      <th>end_sem</th>\n",
       "    </tr>\n",
       "  </thead>\n",
       "  <tbody>\n",
       "    <tr>\n",
       "      <th>0</th>\n",
       "      <td>Abbas, Hassan</td>\n",
       "      <td>[AHSE2199A 0607SP, AHSE2199 0708SP, AHSE1199 0...</td>\n",
       "      <td>0607SP</td>\n",
       "      <td>0708SP</td>\n",
       "    </tr>\n",
       "    <tr>\n",
       "      <th>1</th>\n",
       "      <td>Adams, Sarah Spence</td>\n",
       "      <td>[FND1310 0203FA, FND1311 0203FA, FND1320 0203S...</td>\n",
       "      <td>0203FA</td>\n",
       "      <td>1314FA</td>\n",
       "    </tr>\n",
       "    <tr>\n",
       "      <th>2</th>\n",
       "      <td>Adler, Jonathan</td>\n",
       "      <td>[AHSE2199A 0910SP, AHSE0197 0910FA, AHSE4198 0...</td>\n",
       "      <td>0910FA</td>\n",
       "      <td>None</td>\n",
       "    </tr>\n",
       "    <tr>\n",
       "      <th>3</th>\n",
       "      <td>Allen, Isabel Elaine</td>\n",
       "      <td>[FND2410 0304FA, BAB5001 0405SP]</td>\n",
       "      <td>0304FA</td>\n",
       "      <td>0405SP</td>\n",
       "    </tr>\n",
       "    <tr>\n",
       "      <th>4</th>\n",
       "      <td>Anderson, David</td>\n",
       "      <td>[MEC1000 0607FA, ENGR1200 0405FA, ENGR2210 050...</td>\n",
       "      <td>0405FA</td>\n",
       "      <td>1213SP</td>\n",
       "    </tr>\n",
       "  </tbody>\n",
       "</table>\n",
       "</div>"
      ],
      "text/plain": [
       "                   name                                      code-semester  \\\n",
       "0         Abbas, Hassan  [AHSE2199A 0607SP, AHSE2199 0708SP, AHSE1199 0...   \n",
       "1   Adams, Sarah Spence  [FND1310 0203FA, FND1311 0203FA, FND1320 0203S...   \n",
       "2       Adler, Jonathan  [AHSE2199A 0910SP, AHSE0197 0910FA, AHSE4198 0...   \n",
       "3  Allen, Isabel Elaine                   [FND2410 0304FA, BAB5001 0405SP]   \n",
       "4       Anderson, David  [MEC1000 0607FA, ENGR1200 0405FA, ENGR2210 050...   \n",
       "\n",
       "  start_sem end_sem  \n",
       "0    0607SP  0708SP  \n",
       "1    0203FA  1314FA  \n",
       "2    0910FA    None  \n",
       "3    0304FA  0405SP  \n",
       "4    0405FA  1213SP  "
      ]
     },
     "execution_count": 103,
     "metadata": {},
     "output_type": "execute_result"
    }
   ],
   "source": [
    "del professor['sem']\n",
    "professor.head()"
   ]
  },
  {
   "cell_type": "code",
   "execution_count": 104,
   "metadata": {
    "collapsed": true
   },
   "outputs": [],
   "source": [
    "professor.to_excel('../data/professor.xlsx', index=False)"
   ]
  },
  {
   "cell_type": "code",
   "execution_count": null,
   "metadata": {
    "collapsed": true
   },
   "outputs": [],
   "source": []
  }
 ],
 "metadata": {
  "kernelspec": {
   "display_name": "Python 2",
   "language": "python",
   "name": "python2"
  },
  "language_info": {
   "codemirror_mode": {
    "name": "ipython",
    "version": 2
   },
   "file_extension": ".py",
   "mimetype": "text/x-python",
   "name": "python",
   "nbconvert_exporter": "python",
   "pygments_lexer": "ipython2",
   "version": "2.7.11"
  }
 },
 "nbformat": 4,
 "nbformat_minor": 0
}
