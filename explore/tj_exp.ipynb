{
 "cells": [
  {
   "cell_type": "markdown",
   "metadata": {},
   "source": [
    "## Data Exploration by TJ\n",
    "\n",
    "Here I explore the Olin course registration data from years 2002-2014. Before we go into visualizations, we wanted to understand what we don't understand. Mostly I just expanded the unique value types in each column and found that we do not know what a lot of the values mean."
   ]
  },
  {
   "cell_type": "code",
   "execution_count": 5,
   "metadata": {
    "collapsed": false
   },
   "outputs": [],
   "source": [
    "#importing train dataset\n",
    "import pandas as pd\n",
    "train = pd.read_excel('olincourseenrollment0214.xlsx')"
   ]
  },
  {
   "cell_type": "code",
   "execution_count": 7,
   "metadata": {
    "collapsed": false
   },
   "outputs": [
    {
     "name": "stdout",
     "output_type": "stream",
     "text": [
      "<class 'pandas.core.frame.DataFrame'>\n",
      "Int64Index: 29537 entries, 0 to 29536\n",
      "Data columns (total 13 columns):\n",
      "status         29537 non-null object\n",
      "grad_class     29537 non-null int64\n",
      "id             29537 non-null int64\n",
      "semester       29537 non-null object\n",
      "sex            29537 non-null object\n",
      "grade          29537 non-null object\n",
      "major_main     29537 non-null object\n",
      "major_sub      10997 non-null object\n",
      "code           29537 non-null object\n",
      "Unnamed: 9     29537 non-null object\n",
      "course_main    29537 non-null object\n",
      "course_sub     4386 non-null object\n",
      "professor      29537 non-null object\n",
      "dtypes: int64(2), object(11)\n",
      "memory usage: 3.2+ MB\n"
     ]
    }
   ],
   "source": [
    "# Observing the data with a cursory method.\n",
    "train.info()"
   ]
  },
  {
   "cell_type": "code",
   "execution_count": 8,
   "metadata": {
    "collapsed": false
   },
   "outputs": [
    {
     "name": "stdout",
     "output_type": "stream",
     "text": [
      "total no. of cases:  29537\n",
      "no. of unique data in status: 17\n",
      "no. of unique data in grad_class: 9\n",
      "no. of unique data in id: 980\n",
      "no. of unique data in semester: 24\n",
      "no. of unique data in sex: 2\n",
      "no. of unique data in grade: 8\n",
      "no. of unique data in major_main: 5\n",
      "no. of unique data in major_sub: 8\n",
      "no. of unique data in code: 283\n",
      "no. of unique data in Unnamed: 9: 48\n",
      "no. of unique data in course_main: 245\n",
      "no. of unique data in course_sub: 415\n",
      "no. of unique data in professor: 131\n"
     ]
    }
   ],
   "source": [
    "# Checking total number of unique data in each column of data set\n",
    "print 'total no. of cases: ', len(train)\n",
    "for field in train:\n",
    "    if field in ['Id']:\n",
    "        continue\n",
    "    else:\n",
    "        print 'no. of unique data in ' + field + ':', len(train[field].unique())"
   ]
  },
  {
   "cell_type": "code",
   "execution_count": 20,
   "metadata": {
    "collapsed": false,
    "scrolled": true
   },
   "outputs": [
    {
     "name": "stdout",
     "output_type": "stream",
     "text": [
      "ACPT :  6242\n",
      "RQW :  282\n",
      "WD :  246\n",
      "GS :  325\n",
      "RLOA :  376\n",
      "REAM :  297\n",
      "COMP :  259\n",
      "AWAY :  182\n",
      "RWAY :  464\n",
      "NOGR :  175\n",
      "PB :  20\n",
      "MW :  114\n",
      "LOA :  72\n",
      "AW :  42\n",
      "WDYR :  17\n",
      "AWD :  151\n",
      "GRAD :  20273\n"
     ]
    }
   ],
   "source": [
    "holder = {}\n",
    "for status in train['status']:\n",
    "    if status not in holder:\n",
    "        holder[status] = 1\n",
    "    else:\n",
    "        holder[status] = holder[status] + 1\n",
    "\n",
    "for key in holder:\n",
    "    print key, \": \", holder[key]"
   ]
  },
  {
   "cell_type": "code",
   "execution_count": 22,
   "metadata": {
    "collapsed": false
   },
   "outputs": [
    {
     "name": "stdout",
     "output_type": "stream",
     "text": [
      "FR :  4755\n",
      "GR :  2\n",
      "SR :  5423\n",
      "SP :  8\n",
      "JR :  5572\n",
      "SO :  8005\n",
      "FF :  5590\n",
      "TF :  182\n"
     ]
    }
   ],
   "source": [
    "holder = {}\n",
    "for status in train['grade']:\n",
    "    if status not in holder:\n",
    "        holder[status] = 1\n",
    "    else:\n",
    "        holder[status] = holder[status] + 1\n",
    "\n",
    "for key in holder:\n",
    "    print key, \": \", holder[key]"
   ]
  },
  {
   "cell_type": "code",
   "execution_count": 23,
   "metadata": {
    "collapsed": false
   },
   "outputs": [
    {
     "name": "stdout",
     "output_type": "stream",
     "text": [
      "Undeclared :  15358\n",
      "Engineering :  5147\n",
      "Exchange Student :  8\n",
      "Mechanical Engineering :  4415\n",
      "Electr'l & Computer Engr :  4609\n"
     ]
    }
   ],
   "source": [
    "holder = {}\n",
    "for status in train['major_main']:\n",
    "    if status not in holder:\n",
    "        holder[status] = 1\n",
    "    else:\n",
    "        holder[status] = holder[status] + 1\n",
    "\n",
    "for i in holder:\n",
    "    print i, \": \", holder[i]"
   ]
  },
  {
   "cell_type": "code",
   "execution_count": 24,
   "metadata": {
    "collapsed": false
   },
   "outputs": [
    {
     "name": "stdout",
     "output_type": "stream",
     "text": [
      "nan 18540\n",
      "Materials Science 1218\n",
      "Self Designed 2396\n",
      "Computing 2274\n",
      "Robotics 460\n",
      "Design 344\n",
      "Systems 1863\n",
      "Bioengineering 2442\n"
     ]
    }
   ],
   "source": [
    "holder = {}\n",
    "for status in train['major_sub']:\n",
    "    if status not in holder:\n",
    "        holder[status] = 1\n",
    "    else:\n",
    "        holder[status] = holder[status] + 1\n",
    "\n",
    "for i in holder:\n",
    "    print i, holder[i]"
   ]
  },
  {
   "cell_type": "code",
   "execution_count": null,
   "metadata": {
    "collapsed": true
   },
   "outputs": [],
   "source": []
  }
 ],
 "metadata": {
  "kernelspec": {
   "display_name": "Python 2",
   "language": "python",
   "name": "python2"
  },
  "language_info": {
   "codemirror_mode": {
    "name": "ipython",
    "version": 2
   },
   "file_extension": ".py",
   "mimetype": "text/x-python",
   "name": "python",
   "nbconvert_exporter": "python",
   "pygments_lexer": "ipython2",
   "version": "2.7.11"
  }
 },
 "nbformat": 4,
 "nbformat_minor": 0
}
