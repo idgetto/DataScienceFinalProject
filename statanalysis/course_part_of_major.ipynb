{
 "cells": [
  {
   "cell_type": "code",
   "execution_count": 116,
   "metadata": {
    "collapsed": false
   },
   "outputs": [
    {
     "data": {
      "text/html": [
       "<div>\n",
       "<table border=\"1\" class=\"dataframe\">\n",
       "  <thead>\n",
       "    <tr style=\"text-align: right;\">\n",
       "      <th></th>\n",
       "      <th>studentid</th>\n",
       "      <th>entranceyear</th>\n",
       "      <th>finalyear</th>\n",
       "      <th>majors</th>\n",
       "      <th>concentrations</th>\n",
       "      <th>finalmajor</th>\n",
       "      <th>finalconcentration</th>\n",
       "      <th>code-semester</th>\n",
       "    </tr>\n",
       "  </thead>\n",
       "  <tbody>\n",
       "    <tr>\n",
       "      <th>0</th>\n",
       "      <td>10136845</td>\n",
       "      <td>2013</td>\n",
       "      <td>2016</td>\n",
       "      <td>['Undeclared              ' 'Mechanical Engine...</td>\n",
       "      <td>[nan]</td>\n",
       "      <td>Mechanical Engineering</td>\n",
       "      <td>NaN</td>\n",
       "      <td>['AHSE1145     1314FA  ' 'AHSE2141     1314SP ...</td>\n",
       "    </tr>\n",
       "    <tr>\n",
       "      <th>1</th>\n",
       "      <td>10191843</td>\n",
       "      <td>2014</td>\n",
       "      <td>2015</td>\n",
       "      <td>['Undeclared              ']</td>\n",
       "      <td>[nan]</td>\n",
       "      <td>Undeclared</td>\n",
       "      <td>NaN</td>\n",
       "      <td>['AHSE1145     1415FA  ' 'AHSE1515     1415SP ...</td>\n",
       "    </tr>\n",
       "    <tr>\n",
       "      <th>2</th>\n",
       "      <td>10208842</td>\n",
       "      <td>2014</td>\n",
       "      <td>2016</td>\n",
       "      <td>['Undeclared              ' 'Engineering      ...</td>\n",
       "      <td>['Computing               ']</td>\n",
       "      <td>Engineering</td>\n",
       "      <td>Computing</td>\n",
       "      <td>['AHSE1199     1415FA  ' 'AHSE1515     1415SP ...</td>\n",
       "    </tr>\n",
       "    <tr>\n",
       "      <th>3</th>\n",
       "      <td>10324389</td>\n",
       "      <td>2007</td>\n",
       "      <td>2011</td>\n",
       "      <td>['Undeclared              ' 'Engineering      ...</td>\n",
       "      <td>['Self Designed           ']</td>\n",
       "      <td>Engineering</td>\n",
       "      <td>Self Designed</td>\n",
       "      <td>['AHSE1199     0708FA  ' 'AHSE1500     0809FA ...</td>\n",
       "    </tr>\n",
       "    <tr>\n",
       "      <th>4</th>\n",
       "      <td>10463379</td>\n",
       "      <td>2003</td>\n",
       "      <td>2007</td>\n",
       "      <td>['Undeclared              ' \"Electr'l &amp; Comput...</td>\n",
       "      <td>[nan]</td>\n",
       "      <td>Mechanical Engineering</td>\n",
       "      <td>NaN</td>\n",
       "      <td>['AHS1101      0304FA  ' 'AHS1111      0304SP ...</td>\n",
       "    </tr>\n",
       "  </tbody>\n",
       "</table>\n",
       "</div>"
      ],
      "text/plain": [
       "   studentid  entranceyear  finalyear  \\\n",
       "0   10136845          2013       2016   \n",
       "1   10191843          2014       2015   \n",
       "2   10208842          2014       2016   \n",
       "3   10324389          2007       2011   \n",
       "4   10463379          2003       2007   \n",
       "\n",
       "                                              majors  \\\n",
       "0  ['Undeclared              ' 'Mechanical Engine...   \n",
       "1                       ['Undeclared              ']   \n",
       "2  ['Undeclared              ' 'Engineering      ...   \n",
       "3  ['Undeclared              ' 'Engineering      ...   \n",
       "4  ['Undeclared              ' \"Electr'l & Comput...   \n",
       "\n",
       "                 concentrations                finalmajor  \\\n",
       "0                         [nan]  Mechanical Engineering     \n",
       "1                         [nan]  Undeclared                 \n",
       "2  ['Computing               ']  Engineering                \n",
       "3  ['Self Designed           ']  Engineering                \n",
       "4                         [nan]  Mechanical Engineering     \n",
       "\n",
       "         finalconcentration                                      code-semester  \n",
       "0                       NaN  ['AHSE1145     1314FA  ' 'AHSE2141     1314SP ...  \n",
       "1                       NaN  ['AHSE1145     1415FA  ' 'AHSE1515     1415SP ...  \n",
       "2  Computing                 ['AHSE1199     1415FA  ' 'AHSE1515     1415SP ...  \n",
       "3  Self Designed             ['AHSE1199     0708FA  ' 'AHSE1500     0809FA ...  \n",
       "4                       NaN  ['AHS1101      0304FA  ' 'AHS1111      0304SP ...  "
      ]
     },
     "execution_count": 116,
     "metadata": {},
     "output_type": "execute_result"
    }
   ],
   "source": [
    "import pandas as pd\n",
    "\n",
    "enrollment = pd.read_csv('../data/enrollment.csv')\n",
    "students = pd.read_csv('../data/student0216.csv')\n",
    "\n",
    "students.head()\n",
    "print students.finalmajor.unique()"
   ]
  },
  {
   "cell_type": "code",
   "execution_count": 119,
   "metadata": {
    "collapsed": false
   },
   "outputs": [],
   "source": [
    "def course_part_of_major(course, major):\n",
    "    major_counts = get_major_counts(major)\n",
    "    course_major_counts = get_course_major_count(course, major)\n",
    "    print major_counts\n",
    "    print course_major_counts\n",
    "    \n",
    "    above = course_major_counts <= major_counts\n",
    "    pvalue = sum(above) / float(len(major_counts))\n",
    "    return pvalue\n",
    "    \n",
    "def get_course_major_count(course, major):\n",
    "    course_student_ids = get_course_student_ids(course)\n",
    "    majors = students[students.studentid.isin(course_student_ids)].finalmajor\n",
    "    major_count = sum(majors == major)\n",
    "    return major_count\n",
    "        \n",
    "def get_major_counts(major):\n",
    "    courses = enrollment.columns[1:]\n",
    "    major_counts = []\n",
    "    for course in courses:\n",
    "        major_count = get_course_major_count(course, major)\n",
    "        major_counts.append(major_count)\n",
    "    return major_counts\n",
    "        \n",
    "def get_course_student_ids(course):\n",
    "    return enrollment[enrollment.loc[:, course] == True].index.tolist()"
   ]
  },
  {
   "cell_type": "code",
   "execution_count": 120,
   "metadata": {
    "collapsed": false
   },
   "outputs": [
    {
     "name": "stdout",
     "output_type": "stream",
     "text": [
      "[0, 0, 0, 0, 0, 0, 0, 0, 0, 0, 0, 0, 0, 0, 0, 0, 0, 0, 0, 0, 0, 0, 0, 0, 0, 0, 0, 0, 0, 0, 0, 0, 0, 0, 0, 0, 0, 0, 0, 0, 0, 0, 0, 0, 0, 0, 0, 0, 0, 0, 0, 0, 0, 0, 0, 0, 0, 0, 0, 0, 0, 0, 0, 0, 0, 0, 0, 0, 0, 0, 0, 0, 0, 0, 0, 0, 0, 0, 0, 0, 0, 0, 0, 0, 0, 0, 0, 0, 0, 0, 0, 0, 0, 0, 0, 0, 0, 0, 0, 0, 0, 0, 0, 0, 0, 0, 0, 0, 0, 0, 0, 0, 0, 0, 0, 0, 0, 0, 0, 0, 0, 0, 0, 0, 0, 0, 0, 0, 0, 0, 0, 0, 0, 0, 0, 0, 0, 0, 0, 0, 0, 0, 0, 0, 0, 0, 0, 0, 0, 0, 0, 0, 0, 0, 0, 0, 0, 0, 0, 0, 0, 0, 0, 0, 0, 0, 0, 0, 0, 0, 0, 0, 0, 0, 0, 0, 0, 0, 0, 0, 0, 0, 0, 0, 0, 0, 0, 0, 0, 0, 0, 0, 0, 0, 0, 0, 0, 0, 0, 0, 0, 0, 0, 0, 0, 0, 0, 0, 0, 0, 0, 0, 0, 0, 0, 0, 0, 0, 0, 0, 0, 0, 0, 0, 0, 0, 0, 0, 0, 0, 0, 0, 0, 0, 0, 0, 0, 0, 0, 0, 0, 0, 0, 0, 0, 0, 0, 0, 0, 0, 0, 0, 0, 0, 0, 0, 0, 0, 0, 0, 0, 0, 0, 0, 0, 0, 0, 0, 0, 0, 0, 0, 0, 0, 0, 0, 0, 0, 0, 0, 0, 0, 0, 0, 0, 0, 0, 0, 0, 0, 0, 0, 0, 0, 0, 0, 0, 0, 0, 0, 0, 0, 0, 0, 0, 0, 0, 0, 0, 0, 0, 0, 0, 0, 0, 0, 0, 0, 0, 0, 0, 0, 0, 0, 0, 0, 0, 0, 0, 0, 0, 0, 0, 0, 0, 0, 0, 0, 0, 0, 0, 0, 0, 0, 0, 0, 0, 0, 0, 0, 0, 0, 0, 0, 0, 0, 0, 0, 0, 0, 0, 0, 0, 0, 0, 0, 0, 0, 0, 0, 0, 0, 0, 0, 0, 0, 0, 0, 0, 0, 0, 0, 0, 0, 0, 0, 0, 0, 0, 0, 0, 0, 0, 0, 0, 0, 0, 0, 0, 0, 0, 0, 0, 0, 0, 0, 0, 0, 0, 0, 0, 0, 0, 0, 0, 0, 0, 0, 0, 0, 0, 0, 0, 0, 0, 0, 0, 0, 0, 0, 0, 0, 0, 0, 0, 0, 0, 0, 0, 0, 0, 0, 0, 0, 0, 0, 0, 0, 0, 0, 0, 0, 0, 0, 0, 0, 0, 0, 0, 0, 0, 0, 0, 0, 0, 0, 0, 0, 0, 0, 0, 0, 0, 0, 0, 0, 0, 0, 0, 0, 0, 0, 0, 0, 0, 0, 0, 0, 0, 0, 0, 0, 0, 0, 0, 0, 0, 0, 0, 0, 0, 0, 0, 0, 0, 0, 0, 0, 0, 0, 0, 0, 0, 0, 0, 0, 0, 0, 0, 0]\n",
      "0\n"
     ]
    },
    {
     "ename": "TypeError",
     "evalue": "'bool' object is not iterable",
     "output_type": "error",
     "traceback": [
      "\u001b[1;31m---------------------------------------------------------------------------\u001b[0m",
      "\u001b[1;31mTypeError\u001b[0m                                 Traceback (most recent call last)",
      "\u001b[1;32m<ipython-input-120-989364bff5cb>\u001b[0m in \u001b[0;36m<module>\u001b[1;34m()\u001b[0m\n\u001b[1;32m----> 1\u001b[1;33m \u001b[0mcourse_part_of_major\u001b[0m\u001b[1;33m(\u001b[0m\u001b[1;34m'Dynamics'\u001b[0m\u001b[1;33m,\u001b[0m \u001b[1;34m'Mechanical Engineering'\u001b[0m\u001b[1;33m)\u001b[0m\u001b[1;33m\u001b[0m\u001b[0m\n\u001b[0m",
      "\u001b[1;32m<ipython-input-119-cf4276ec8866>\u001b[0m in \u001b[0;36mcourse_part_of_major\u001b[1;34m(course, major)\u001b[0m\n\u001b[0;32m      6\u001b[0m \u001b[1;33m\u001b[0m\u001b[0m\n\u001b[0;32m      7\u001b[0m     \u001b[0mabove\u001b[0m \u001b[1;33m=\u001b[0m \u001b[0mcourse_major_counts\u001b[0m \u001b[1;33m<=\u001b[0m \u001b[0mmajor_counts\u001b[0m\u001b[1;33m\u001b[0m\u001b[0m\n\u001b[1;32m----> 8\u001b[1;33m     \u001b[0mpvalue\u001b[0m \u001b[1;33m=\u001b[0m \u001b[0msum\u001b[0m\u001b[1;33m(\u001b[0m\u001b[0mabove\u001b[0m\u001b[1;33m)\u001b[0m \u001b[1;33m/\u001b[0m \u001b[0mfloat\u001b[0m\u001b[1;33m(\u001b[0m\u001b[0mlen\u001b[0m\u001b[1;33m(\u001b[0m\u001b[0mmajor_counts\u001b[0m\u001b[1;33m)\u001b[0m\u001b[1;33m)\u001b[0m\u001b[1;33m\u001b[0m\u001b[0m\n\u001b[0m\u001b[0;32m      9\u001b[0m     \u001b[1;32mreturn\u001b[0m \u001b[0mpvalue\u001b[0m\u001b[1;33m\u001b[0m\u001b[0m\n\u001b[0;32m     10\u001b[0m \u001b[1;33m\u001b[0m\u001b[0m\n",
      "\u001b[1;31mTypeError\u001b[0m: 'bool' object is not iterable"
     ]
    }
   ],
   "source": [
    "course_part_of_major('Dynamics', 'Mechanical Engineering')"
   ]
  },
  {
   "cell_type": "code",
   "execution_count": null,
   "metadata": {
    "collapsed": false
   },
   "outputs": [],
   "source": [
    "course_part_of_major('Technology in American History', 'Mechanical Engineering')"
   ]
  },
  {
   "cell_type": "code",
   "execution_count": null,
   "metadata": {
    "collapsed": false
   },
   "outputs": [],
   "source": [
    "import random\n",
    "\n",
    "courses = enrollment.columns[1:]\n",
    "some_courses = random.sample(courses, 5)\n",
    "some_courses += ['Signals and Systems']\n",
    "\n",
    "pvalues = [course_part_of_major(course, \"Electr'l & Computer Engr\") for course in some_courses]\n",
    "print pvalues"
   ]
  },
  {
   "cell_type": "code",
   "execution_count": null,
   "metadata": {
    "collapsed": false
   },
   "outputs": [],
   "source": [
    "import matplotlib.pyplot as plt\n",
    "import seaborn as sns; sns.set()\n",
    "%matplotlib inline\n",
    "\n",
    "sns.barplot(pvalues, some_courses)\n",
    "plt.show()"
   ]
  },
  {
   "cell_type": "code",
   "execution_count": null,
   "metadata": {
    "collapsed": false
   },
   "outputs": [],
   "source": []
  },
  {
   "cell_type": "code",
   "execution_count": null,
   "metadata": {
    "collapsed": true
   },
   "outputs": [],
   "source": []
  }
 ],
 "metadata": {
  "kernelspec": {
   "display_name": "Python 2",
   "language": "python",
   "name": "python2"
  },
  "language_info": {
   "codemirror_mode": {
    "name": "ipython",
    "version": 2
   },
   "file_extension": ".py",
   "mimetype": "text/x-python",
   "name": "python",
   "nbconvert_exporter": "python",
   "pygments_lexer": "ipython2",
   "version": "2.7.11"
  }
 },
 "nbformat": 4,
 "nbformat_minor": 0
}
