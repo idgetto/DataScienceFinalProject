{
 "cells": [
  {
   "cell_type": "code",
   "execution_count": 15,
   "metadata": {
    "collapsed": false
   },
   "outputs": [
    {
     "data": {
      "text/html": [
       "<div>\n",
       "<table border=\"1\" class=\"dataframe\">\n",
       "  <thead>\n",
       "    <tr style=\"text-align: right;\">\n",
       "      <th></th>\n",
       "      <th>id</th>\n",
       "      <th>sex</th>\n",
       "      <th>entrance_year</th>\n",
       "      <th>grad_class</th>\n",
       "      <th>final_major</th>\n",
       "      <th>final_major_main</th>\n",
       "      <th>final_major_sub</th>\n",
       "      <th>code-semester</th>\n",
       "    </tr>\n",
       "  </thead>\n",
       "  <tbody>\n",
       "    <tr>\n",
       "      <th>0</th>\n",
       "      <td>602</td>\n",
       "      <td>M</td>\n",
       "      <td>2003</td>\n",
       "      <td>2007</td>\n",
       "      <td>Mechanical Engineering</td>\n",
       "      <td>Mechanical Engineering</td>\n",
       "      <td>NaN</td>\n",
       "      <td>['AHS1101 0304FA', 'FND1210 0304FA', 'FND1312 ...</td>\n",
       "    </tr>\n",
       "    <tr>\n",
       "      <th>1</th>\n",
       "      <td>537</td>\n",
       "      <td>F</td>\n",
       "      <td>2002</td>\n",
       "      <td>0</td>\n",
       "      <td>Engineering</td>\n",
       "      <td>Engineering</td>\n",
       "      <td>NaN</td>\n",
       "      <td>['FND1210 0203FA', 'FND1310 0203FA', 'FND1311 ...</td>\n",
       "    </tr>\n",
       "    <tr>\n",
       "      <th>2</th>\n",
       "      <td>856</td>\n",
       "      <td>M</td>\n",
       "      <td>2003</td>\n",
       "      <td>2007</td>\n",
       "      <td>Engineering Systems</td>\n",
       "      <td>Engineering</td>\n",
       "      <td>Systems</td>\n",
       "      <td>['FND1210 0304FA', 'FND1312 0304FA', 'FND1410 ...</td>\n",
       "    </tr>\n",
       "    <tr>\n",
       "      <th>3</th>\n",
       "      <td>535</td>\n",
       "      <td>F</td>\n",
       "      <td>2004</td>\n",
       "      <td>2008</td>\n",
       "      <td>Engineering Computing</td>\n",
       "      <td>Engineering</td>\n",
       "      <td>Computing</td>\n",
       "      <td>['ENGR1110 0405FA', 'ENGR1200 0405FA', 'MTH111...</td>\n",
       "    </tr>\n",
       "    <tr>\n",
       "      <th>4</th>\n",
       "      <td>483</td>\n",
       "      <td>M</td>\n",
       "      <td>2004</td>\n",
       "      <td>2008</td>\n",
       "      <td>Engineering Systems</td>\n",
       "      <td>Engineering</td>\n",
       "      <td>Systems</td>\n",
       "      <td>['ENGR1110 0405FA', 'ENGR1200 0405FA', 'MTH111...</td>\n",
       "    </tr>\n",
       "  </tbody>\n",
       "</table>\n",
       "</div>"
      ],
      "text/plain": [
       "    id sex  entrance_year  grad_class              final_major  \\\n",
       "0  602   M           2003        2007  Mechanical Engineering    \n",
       "1  537   F           2002           0             Engineering    \n",
       "2  856   M           2003        2007      Engineering Systems   \n",
       "3  535   F           2004        2008    Engineering Computing   \n",
       "4  483   M           2004        2008      Engineering Systems   \n",
       "\n",
       "         final_major_main final_major_sub  \\\n",
       "0  Mechanical Engineering             NaN   \n",
       "1             Engineering             NaN   \n",
       "2             Engineering         Systems   \n",
       "3             Engineering       Computing   \n",
       "4             Engineering         Systems   \n",
       "\n",
       "                                       code-semester  \n",
       "0  ['AHS1101 0304FA', 'FND1210 0304FA', 'FND1312 ...  \n",
       "1  ['FND1210 0203FA', 'FND1310 0203FA', 'FND1311 ...  \n",
       "2  ['FND1210 0304FA', 'FND1312 0304FA', 'FND1410 ...  \n",
       "3  ['ENGR1110 0405FA', 'ENGR1200 0405FA', 'MTH111...  \n",
       "4  ['ENGR1110 0405FA', 'ENGR1200 0405FA', 'MTH111...  "
      ]
     },
     "execution_count": 15,
     "metadata": {},
     "output_type": "execute_result"
    }
   ],
   "source": [
    "import pandas as pd\n",
    "\n",
    "enrollment = pd.read_csv('../data/enrollment.csv')\n",
    "students = pd.read_csv('../data/student0214.csv')\n",
    "\n",
    "students.head()"
   ]
  },
  {
   "cell_type": "code",
   "execution_count": 84,
   "metadata": {
    "collapsed": false
   },
   "outputs": [],
   "source": [
    "def course_part_of_major(course, major):\n",
    "    major_counts = get_major_counts(major)\n",
    "    course_major_counts = get_course_major_count(course, major)\n",
    "    \n",
    "    above = course_major_counts <= major_counts\n",
    "    pvalue = sum(above) / float(len(major_counts))\n",
    "    return pvalue\n",
    "    \n",
    "def get_course_major_count(course, major):\n",
    "    course_student_ids = get_course_student_ids(course)\n",
    "    majors = students[students.id.isin(course_student_ids)].final_major_main\n",
    "    major_count = sum(majors == major)\n",
    "    return major_count\n",
    "        \n",
    "def get_major_counts(major):\n",
    "    courses = enrollment.columns[1:]\n",
    "    major_counts = []\n",
    "    for course in courses:\n",
    "        major_count = get_course_major_count(course, major)\n",
    "        major_counts.append(major_count)\n",
    "    return major_counts\n",
    "        \n",
    "def get_course_student_ids(course):\n",
    "    return enrollment[enrollment.loc[:, course] == True].index.tolist()"
   ]
  },
  {
   "cell_type": "code",
   "execution_count": 85,
   "metadata": {
    "collapsed": false
   },
   "outputs": [
    {
     "name": "stdout",
     "output_type": "stream",
     "text": [
      "[4, 10, 6, 5, 4, 7, 16, 4, 4, 5, 0, 7, 5, 29, 3, 33, 3, 4, 4, 34, 11, 6, 3, 10, 12, 4, 24, 3, 4, 4, 7, 3, 5, 9, 1, 2, 3, 5, 2, 2, 3, 3, 5, 3, 4, 5, 0, 125, 39, 42, 2, 4, 37, 24, 25, 2, 0, 2, 4, 3, 2, 1, 0, 2, 2, 5, 2, 2, 4, 9, 1, 3, 3, 1, 4, 7, 6, 1, 0, 2, 6, 4, 4, 2, 3, 4, 6, 3, 4, 3, 2, 3, 1, 1, 2, 2, 2, 1, 0, 1, 2, 3, 3, 4, 6, 52, 3, 5, 2, 1, 8, 1, 0, 18, 7, 3, 11, 2, 1, 0, 2, 18, 55, 55, 31, 31, 2, 34, 4, 26, 5, 1, 0, 9, 2, 5, 2, 2, 1, 3, 5, 1, 1, 6, 7, 56, 50, 3, 18, 64, 30, 75, 18, 63, 31, 71, 32, 4, 1, 2, 1, 2, 0, 0, 219, 14, 24, 3, 2, 3, 3, 2, 11, 2, 2, 1, 202, 127, 100, 0, 53, 36, 68, 64, 79, 45, 21, 19, 147, 6, 0, 7, 3, 2, 1, 0, 4, 11, 1, 3, 0, 3, 3, 0, 3, 0, 0, 1, 49, 7, 53, 17, 4, 4, 8, 49, 1, 16, 12, 0, 1, 3, 3, 3, 3, 2, 6, 2, 53, 18, 64, 0, 0, 4, 5, 23, 26, 11, 3, 4, 4, 0, 0, 0, 5, 4, 2, 0, 2, 1, 89, 4, 61, 2, 12, 5, 8, 2, 1, 7, 1, 2, 4, 3, 5, 4, 9, 0, 6, 3, 2, 0, 1, 0, 0, 56, 3, 54, 1, 5, 19, 5, 15, 2, 7, 1, 3, 7, 6, 24, 9, 8, 0, 0, 3, 10, 9, 3, 0, 4, 1, 7, 40, 17, 3, 25, 2, 3, 2, 7, 5, 1, 1, 7, 59, 104, 13, 93, 1, 1, 0, 33, 33, 20, 20, 13, 33, 6, 20, 4, 3, 5, 20, 3, 5, 13, 20, 18, 31, 5, 7, 8, 20, 16, 20, 178, 28, 12, 17, 16, 9, 3, 0, 0, 0, 1, 1, 4, 0, 11, 12, 6, 13, 16, 5, 0, 76, 137, 93, 11, 100, 114, 11, 121, 7, 3, 10, 0, 6, 117, 1, 20, 33, 27, 5, 5, 2, 1, 2, 3, 1, 9, 8, 6, 15, 2, 4, 4, 2, 1, 3, 6, 21, 25, 2, 3, 41, 3, 23, 3, 36, 5, 4, 5, 2, 6, 121, 3, 24, 12, 5, 1, 1, 82, 54, 12, 4, 10, 11, 5, 0, 5, 2, 0, 22, 8, 5, 2, 4, 14, 6, 7, 2, 5, 5, 3, 6, 0, 4, 2, 24, 6, 35, 1, 28, 98, 8, 3, 9, 4, 23, 7, 12, 3, 5, 7, 1, 11, 2, 8, 15, 4, 2, 2, 4, 0, 12, 4, 12, 3, 1, 3, 2, 7, 16, 4, 2, 4, 5, 1, 2, 30, 17, 3, 2, 3, 2, 4, 3, 8, 2, 1, 5, 15, 1, 1, 0, 0, 2, 2, 4, 3, 1, 0, 0, 3, 1, 1, 10, 3]\n"
     ]
    },
    {
     "data": {
      "text/plain": [
       "0.046153846153846156"
      ]
     },
     "execution_count": 85,
     "metadata": {},
     "output_type": "execute_result"
    }
   ],
   "source": [
    "course_part_of_major('Dynamics', 'Mechanical Engineering')"
   ]
  },
  {
   "cell_type": "code",
   "execution_count": 86,
   "metadata": {
    "collapsed": false
   },
   "outputs": [
    {
     "name": "stdout",
     "output_type": "stream",
     "text": [
      "[4, 10, 6, 5, 4, 7, 16, 4, 4, 5, 0, 7, 5, 29, 3, 33, 3, 4, 4, 34, 11, 6, 3, 10, 12, 4, 24, 3, 4, 4, 7, 3, 5, 9, 1, 2, 3, 5, 2, 2, 3, 3, 5, 3, 4, 5, 0, 125, 39, 42, 2, 4, 37, 24, 25, 2, 0, 2, 4, 3, 2, 1, 0, 2, 2, 5, 2, 2, 4, 9, 1, 3, 3, 1, 4, 7, 6, 1, 0, 2, 6, 4, 4, 2, 3, 4, 6, 3, 4, 3, 2, 3, 1, 1, 2, 2, 2, 1, 0, 1, 2, 3, 3, 4, 6, 52, 3, 5, 2, 1, 8, 1, 0, 18, 7, 3, 11, 2, 1, 0, 2, 18, 55, 55, 31, 31, 2, 34, 4, 26, 5, 1, 0, 9, 2, 5, 2, 2, 1, 3, 5, 1, 1, 6, 7, 56, 50, 3, 18, 64, 30, 75, 18, 63, 31, 71, 32, 4, 1, 2, 1, 2, 0, 0, 219, 14, 24, 3, 2, 3, 3, 2, 11, 2, 2, 1, 202, 127, 100, 0, 53, 36, 68, 64, 79, 45, 21, 19, 147, 6, 0, 7, 3, 2, 1, 0, 4, 11, 1, 3, 0, 3, 3, 0, 3, 0, 0, 1, 49, 7, 53, 17, 4, 4, 8, 49, 1, 16, 12, 0, 1, 3, 3, 3, 3, 2, 6, 2, 53, 18, 64, 0, 0, 4, 5, 23, 26, 11, 3, 4, 4, 0, 0, 0, 5, 4, 2, 0, 2, 1, 89, 4, 61, 2, 12, 5, 8, 2, 1, 7, 1, 2, 4, 3, 5, 4, 9, 0, 6, 3, 2, 0, 1, 0, 0, 56, 3, 54, 1, 5, 19, 5, 15, 2, 7, 1, 3, 7, 6, 24, 9, 8, 0, 0, 3, 10, 9, 3, 0, 4, 1, 7, 40, 17, 3, 25, 2, 3, 2, 7, 5, 1, 1, 7, 59, 104, 13, 93, 1, 1, 0, 33, 33, 20, 20, 13, 33, 6, 20, 4, 3, 5, 20, 3, 5, 13, 20, 18, 31, 5, 7, 8, 20, 16, 20, 178, 28, 12, 17, 16, 9, 3, 0, 0, 0, 1, 1, 4, 0, 11, 12, 6, 13, 16, 5, 0, 76, 137, 93, 11, 100, 114, 11, 121, 7, 3, 10, 0, 6, 117, 1, 20, 33, 27, 5, 5, 2, 1, 2, 3, 1, 9, 8, 6, 15, 2, 4, 4, 2, 1, 3, 6, 21, 25, 2, 3, 41, 3, 23, 3, 36, 5, 4, 5, 2, 6, 121, 3, 24, 12, 5, 1, 1, 82, 54, 12, 4, 10, 11, 5, 0, 5, 2, 0, 22, 8, 5, 2, 4, 14, 6, 7, 2, 5, 5, 3, 6, 0, 4, 2, 24, 6, 35, 1, 28, 98, 8, 3, 9, 4, 23, 7, 12, 3, 5, 7, 1, 11, 2, 8, 15, 4, 2, 2, 4, 0, 12, 4, 12, 3, 1, 3, 2, 7, 16, 4, 2, 4, 5, 1, 2, 30, 17, 3, 2, 3, 2, 4, 3, 8, 2, 1, 5, 15, 1, 1, 0, 0, 2, 2, 4, 3, 1, 0, 0, 3, 1, 1, 10, 3]\n"
     ]
    },
    {
     "data": {
      "text/plain": [
       "0.56153846153846154"
      ]
     },
     "execution_count": 86,
     "metadata": {},
     "output_type": "execute_result"
    }
   ],
   "source": [
    "course_part_of_major('Technology in American History', 'Mechanical Engineering')"
   ]
  },
  {
   "cell_type": "code",
   "execution_count": 103,
   "metadata": {
    "collapsed": false
   },
   "outputs": [
    {
     "name": "stdout",
     "output_type": "stream",
     "text": [
      "[2, 8, 8, 5, 4, 7, 18, 5, 4, 6, 1, 3, 4, 22, 2, 49, 3, 2, 4, 35, 11, 6, 10, 14, 5, 3, 18, 5, 1, 0, 10, 2, 6, 2, 3, 7, 4, 0, 4, 1, 2, 2, 6, 3, 6, 10, 1, 127, 43, 50, 4, 1, 48, 21, 21, 4, 3, 1, 3, 0, 2, 2, 5, 0, 2, 4, 3, 2, 2, 12, 2, 3, 1, 6, 5, 8, 6, 5, 3, 1, 8, 3, 1, 4, 3, 1, 2, 2, 1, 5, 3, 3, 2, 1, 1, 4, 5, 2, 1, 2, 4, 2, 4, 5, 6, 41, 4, 2, 3, 2, 6, 4, 1, 23, 10, 0, 9, 0, 2, 2, 2, 17, 63, 63, 23, 23, 0, 44, 7, 31, 0, 0, 0, 9, 0, 7, 3, 2, 2, 0, 5, 2, 0, 3, 2, 72, 57, 2, 14, 58, 41, 73, 14, 58, 41, 72, 46, 1, 0, 1, 0, 1, 4, 3, 233, 18, 29, 6, 4, 0, 4, 0, 8, 2, 6, 0, 209, 119, 111, 1, 76, 32, 94, 80, 83, 48, 17, 21, 154, 9, 0, 10, 4, 2, 4, 1, 4, 3, 3, 9, 0, 7, 0, 0, 5, 0, 3, 1, 50, 4, 41, 11, 5, 3, 5, 54, 2, 16, 11, 3, 1, 2, 1, 6, 7, 2, 12, 2, 77, 20, 84, 0, 3, 7, 8, 40, 33, 18, 10, 8, 3, 1, 1, 0, 4, 2, 1, 5, 2, 1, 84, 12, 49, 1, 15, 8, 3, 3, 1, 7, 0, 3, 2, 1, 4, 0, 6, 1, 3, 7, 4, 2, 0, 2, 1, 27, 2, 34, 2, 6, 16, 7, 9, 4, 1, 2, 2, 5, 2, 21, 11, 6, 3, 2, 2, 7, 5, 2, 1, 2, 3, 3, 47, 17, 4, 30, 4, 4, 1, 7, 3, 2, 4, 3, 55, 107, 18, 81, 4, 2, 1, 28, 28, 17, 17, 11, 28, 5, 17, 2, 4, 4, 17, 4, 3, 11, 17, 17, 26, 7, 4, 6, 17, 17, 17, 177, 19, 20, 11, 21, 9, 1, 0, 0, 0, 0, 1, 0, 0, 6, 16, 8, 9, 13, 8, 0, 64, 161, 107, 6, 87, 124, 6, 123, 5, 5, 10, 2, 6, 124, 3, 18, 26, 30, 5, 5, 6, 0, 4, 3, 0, 7, 8, 1, 8, 2, 1, 5, 1, 1, 1, 3, 35, 27, 6, 3, 43, 3, 27, 2, 43, 5, 4, 2, 1, 8, 140, 5, 17, 21, 4, 1, 1, 72, 53, 17, 7, 10, 6, 3, 1, 5, 6, 2, 19, 10, 11, 6, 4, 18, 2, 8, 5, 3, 5, 3, 8, 1, 9, 0, 28, 8, 28, 6, 22, 102, 3, 3, 16, 4, 22, 5, 11, 4, 4, 4, 4, 20, 2, 8, 8, 1, 0, 3, 1, 2, 18, 6, 13, 5, 2, 1, 2, 2, 9, 4, 3, 3, 2, 3, 1, 23, 13, 3, 5, 1, 1, 2, 0, 12, 1, 1, 2, 17, 2, 0, 0, 0, 2, 0, 7, 2, 5, 0, 1, 1, 1, 2, 3, 0]\n",
      "[2, 8, 8, 5, 4, 7, 18, 5, 4, 6, 1, 3, 4, 22, 2, 49, 3, 2, 4, 35, 11, 6, 10, 14, 5, 3, 18, 5, 1, 0, 10, 2, 6, 2, 3, 7, 4, 0, 4, 1, 2, 2, 6, 3, 6, 10, 1, 127, 43, 50, 4, 1, 48, 21, 21, 4, 3, 1, 3, 0, 2, 2, 5, 0, 2, 4, 3, 2, 2, 12, 2, 3, 1, 6, 5, 8, 6, 5, 3, 1, 8, 3, 1, 4, 3, 1, 2, 2, 1, 5, 3, 3, 2, 1, 1, 4, 5, 2, 1, 2, 4, 2, 4, 5, 6, 41, 4, 2, 3, 2, 6, 4, 1, 23, 10, 0, 9, 0, 2, 2, 2, 17, 63, 63, 23, 23, 0, 44, 7, 31, 0, 0, 0, 9, 0, 7, 3, 2, 2, 0, 5, 2, 0, 3, 2, 72, 57, 2, 14, 58, 41, 73, 14, 58, 41, 72, 46, 1, 0, 1, 0, 1, 4, 3, 233, 18, 29, 6, 4, 0, 4, 0, 8, 2, 6, 0, 209, 119, 111, 1, 76, 32, 94, 80, 83, 48, 17, 21, 154, 9, 0, 10, 4, 2, 4, 1, 4, 3, 3, 9, 0, 7, 0, 0, 5, 0, 3, 1, 50, 4, 41, 11, 5, 3, 5, 54, 2, 16, 11, 3, 1, 2, 1, 6, 7, 2, 12, 2, 77, 20, 84, 0, 3, 7, 8, 40, 33, 18, 10, 8, 3, 1, 1, 0, 4, 2, 1, 5, 2, 1, 84, 12, 49, 1, 15, 8, 3, 3, 1, 7, 0, 3, 2, 1, 4, 0, 6, 1, 3, 7, 4, 2, 0, 2, 1, 27, 2, 34, 2, 6, 16, 7, 9, 4, 1, 2, 2, 5, 2, 21, 11, 6, 3, 2, 2, 7, 5, 2, 1, 2, 3, 3, 47, 17, 4, 30, 4, 4, 1, 7, 3, 2, 4, 3, 55, 107, 18, 81, 4, 2, 1, 28, 28, 17, 17, 11, 28, 5, 17, 2, 4, 4, 17, 4, 3, 11, 17, 17, 26, 7, 4, 6, 17, 17, 17, 177, 19, 20, 11, 21, 9, 1, 0, 0, 0, 0, 1, 0, 0, 6, 16, 8, 9, 13, 8, 0, 64, 161, 107, 6, 87, 124, 6, 123, 5, 5, 10, 2, 6, 124, 3, 18, 26, 30, 5, 5, 6, 0, 4, 3, 0, 7, 8, 1, 8, 2, 1, 5, 1, 1, 1, 3, 35, 27, 6, 3, 43, 3, 27, 2, 43, 5, 4, 2, 1, 8, 140, 5, 17, 21, 4, 1, 1, 72, 53, 17, 7, 10, 6, 3, 1, 5, 6, 2, 19, 10, 11, 6, 4, 18, 2, 8, 5, 3, 5, 3, 8, 1, 9, 0, 28, 8, 28, 6, 22, 102, 3, 3, 16, 4, 22, 5, 11, 4, 4, 4, 4, 20, 2, 8, 8, 1, 0, 3, 1, 2, 18, 6, 13, 5, 2, 1, 2, 2, 9, 4, 3, 3, 2, 3, 1, 23, 13, 3, 5, 1, 1, 2, 0, 12, 1, 1, 2, 17, 2, 0, 0, 0, 2, 0, 7, 2, 5, 0, 1, 1, 1, 2, 3, 0]\n",
      "[2, 8, 8, 5, 4, 7, 18, 5, 4, 6, 1, 3, 4, 22, 2, 49, 3, 2, 4, 35, 11, 6, 10, 14, 5, 3, 18, 5, 1, 0, 10, 2, 6, 2, 3, 7, 4, 0, 4, 1, 2, 2, 6, 3, 6, 10, 1, 127, 43, 50, 4, 1, 48, 21, 21, 4, 3, 1, 3, 0, 2, 2, 5, 0, 2, 4, 3, 2, 2, 12, 2, 3, 1, 6, 5, 8, 6, 5, 3, 1, 8, 3, 1, 4, 3, 1, 2, 2, 1, 5, 3, 3, 2, 1, 1, 4, 5, 2, 1, 2, 4, 2, 4, 5, 6, 41, 4, 2, 3, 2, 6, 4, 1, 23, 10, 0, 9, 0, 2, 2, 2, 17, 63, 63, 23, 23, 0, 44, 7, 31, 0, 0, 0, 9, 0, 7, 3, 2, 2, 0, 5, 2, 0, 3, 2, 72, 57, 2, 14, 58, 41, 73, 14, 58, 41, 72, 46, 1, 0, 1, 0, 1, 4, 3, 233, 18, 29, 6, 4, 0, 4, 0, 8, 2, 6, 0, 209, 119, 111, 1, 76, 32, 94, 80, 83, 48, 17, 21, 154, 9, 0, 10, 4, 2, 4, 1, 4, 3, 3, 9, 0, 7, 0, 0, 5, 0, 3, 1, 50, 4, 41, 11, 5, 3, 5, 54, 2, 16, 11, 3, 1, 2, 1, 6, 7, 2, 12, 2, 77, 20, 84, 0, 3, 7, 8, 40, 33, 18, 10, 8, 3, 1, 1, 0, 4, 2, 1, 5, 2, 1, 84, 12, 49, 1, 15, 8, 3, 3, 1, 7, 0, 3, 2, 1, 4, 0, 6, 1, 3, 7, 4, 2, 0, 2, 1, 27, 2, 34, 2, 6, 16, 7, 9, 4, 1, 2, 2, 5, 2, 21, 11, 6, 3, 2, 2, 7, 5, 2, 1, 2, 3, 3, 47, 17, 4, 30, 4, 4, 1, 7, 3, 2, 4, 3, 55, 107, 18, 81, 4, 2, 1, 28, 28, 17, 17, 11, 28, 5, 17, 2, 4, 4, 17, 4, 3, 11, 17, 17, 26, 7, 4, 6, 17, 17, 17, 177, 19, 20, 11, 21, 9, 1, 0, 0, 0, 0, 1, 0, 0, 6, 16, 8, 9, 13, 8, 0, 64, 161, 107, 6, 87, 124, 6, 123, 5, 5, 10, 2, 6, 124, 3, 18, 26, 30, 5, 5, 6, 0, 4, 3, 0, 7, 8, 1, 8, 2, 1, 5, 1, 1, 1, 3, 35, 27, 6, 3, 43, 3, 27, 2, 43, 5, 4, 2, 1, 8, 140, 5, 17, 21, 4, 1, 1, 72, 53, 17, 7, 10, 6, 3, 1, 5, 6, 2, 19, 10, 11, 6, 4, 18, 2, 8, 5, 3, 5, 3, 8, 1, 9, 0, 28, 8, 28, 6, 22, 102, 3, 3, 16, 4, 22, 5, 11, 4, 4, 4, 4, 20, 2, 8, 8, 1, 0, 3, 1, 2, 18, 6, 13, 5, 2, 1, 2, 2, 9, 4, 3, 3, 2, 3, 1, 23, 13, 3, 5, 1, 1, 2, 0, 12, 1, 1, 2, 17, 2, 0, 0, 0, 2, 0, 7, 2, 5, 0, 1, 1, 1, 2, 3, 0]\n",
      "[2, 8, 8, 5, 4, 7, 18, 5, 4, 6, 1, 3, 4, 22, 2, 49, 3, 2, 4, 35, 11, 6, 10, 14, 5, 3, 18, 5, 1, 0, 10, 2, 6, 2, 3, 7, 4, 0, 4, 1, 2, 2, 6, 3, 6, 10, 1, 127, 43, 50, 4, 1, 48, 21, 21, 4, 3, 1, 3, 0, 2, 2, 5, 0, 2, 4, 3, 2, 2, 12, 2, 3, 1, 6, 5, 8, 6, 5, 3, 1, 8, 3, 1, 4, 3, 1, 2, 2, 1, 5, 3, 3, 2, 1, 1, 4, 5, 2, 1, 2, 4, 2, 4, 5, 6, 41, 4, 2, 3, 2, 6, 4, 1, 23, 10, 0, 9, 0, 2, 2, 2, 17, 63, 63, 23, 23, 0, 44, 7, 31, 0, 0, 0, 9, 0, 7, 3, 2, 2, 0, 5, 2, 0, 3, 2, 72, 57, 2, 14, 58, 41, 73, 14, 58, 41, 72, 46, 1, 0, 1, 0, 1, 4, 3, 233, 18, 29, 6, 4, 0, 4, 0, 8, 2, 6, 0, 209, 119, 111, 1, 76, 32, 94, 80, 83, 48, 17, 21, 154, 9, 0, 10, 4, 2, 4, 1, 4, 3, 3, 9, 0, 7, 0, 0, 5, 0, 3, 1, 50, 4, 41, 11, 5, 3, 5, 54, 2, 16, 11, 3, 1, 2, 1, 6, 7, 2, 12, 2, 77, 20, 84, 0, 3, 7, 8, 40, 33, 18, 10, 8, 3, 1, 1, 0, 4, 2, 1, 5, 2, 1, 84, 12, 49, 1, 15, 8, 3, 3, 1, 7, 0, 3, 2, 1, 4, 0, 6, 1, 3, 7, 4, 2, 0, 2, 1, 27, 2, 34, 2, 6, 16, 7, 9, 4, 1, 2, 2, 5, 2, 21, 11, 6, 3, 2, 2, 7, 5, 2, 1, 2, 3, 3, 47, 17, 4, 30, 4, 4, 1, 7, 3, 2, 4, 3, 55, 107, 18, 81, 4, 2, 1, 28, 28, 17, 17, 11, 28, 5, 17, 2, 4, 4, 17, 4, 3, 11, 17, 17, 26, 7, 4, 6, 17, 17, 17, 177, 19, 20, 11, 21, 9, 1, 0, 0, 0, 0, 1, 0, 0, 6, 16, 8, 9, 13, 8, 0, 64, 161, 107, 6, 87, 124, 6, 123, 5, 5, 10, 2, 6, 124, 3, 18, 26, 30, 5, 5, 6, 0, 4, 3, 0, 7, 8, 1, 8, 2, 1, 5, 1, 1, 1, 3, 35, 27, 6, 3, 43, 3, 27, 2, 43, 5, 4, 2, 1, 8, 140, 5, 17, 21, 4, 1, 1, 72, 53, 17, 7, 10, 6, 3, 1, 5, 6, 2, 19, 10, 11, 6, 4, 18, 2, 8, 5, 3, 5, 3, 8, 1, 9, 0, 28, 8, 28, 6, 22, 102, 3, 3, 16, 4, 22, 5, 11, 4, 4, 4, 4, 20, 2, 8, 8, 1, 0, 3, 1, 2, 18, 6, 13, 5, 2, 1, 2, 2, 9, 4, 3, 3, 2, 3, 1, 23, 13, 3, 5, 1, 1, 2, 0, 12, 1, 1, 2, 17, 2, 0, 0, 0, 2, 0, 7, 2, 5, 0, 1, 1, 1, 2, 3, 0]\n",
      "[2, 8, 8, 5, 4, 7, 18, 5, 4, 6, 1, 3, 4, 22, 2, 49, 3, 2, 4, 35, 11, 6, 10, 14, 5, 3, 18, 5, 1, 0, 10, 2, 6, 2, 3, 7, 4, 0, 4, 1, 2, 2, 6, 3, 6, 10, 1, 127, 43, 50, 4, 1, 48, 21, 21, 4, 3, 1, 3, 0, 2, 2, 5, 0, 2, 4, 3, 2, 2, 12, 2, 3, 1, 6, 5, 8, 6, 5, 3, 1, 8, 3, 1, 4, 3, 1, 2, 2, 1, 5, 3, 3, 2, 1, 1, 4, 5, 2, 1, 2, 4, 2, 4, 5, 6, 41, 4, 2, 3, 2, 6, 4, 1, 23, 10, 0, 9, 0, 2, 2, 2, 17, 63, 63, 23, 23, 0, 44, 7, 31, 0, 0, 0, 9, 0, 7, 3, 2, 2, 0, 5, 2, 0, 3, 2, 72, 57, 2, 14, 58, 41, 73, 14, 58, 41, 72, 46, 1, 0, 1, 0, 1, 4, 3, 233, 18, 29, 6, 4, 0, 4, 0, 8, 2, 6, 0, 209, 119, 111, 1, 76, 32, 94, 80, 83, 48, 17, 21, 154, 9, 0, 10, 4, 2, 4, 1, 4, 3, 3, 9, 0, 7, 0, 0, 5, 0, 3, 1, 50, 4, 41, 11, 5, 3, 5, 54, 2, 16, 11, 3, 1, 2, 1, 6, 7, 2, 12, 2, 77, 20, 84, 0, 3, 7, 8, 40, 33, 18, 10, 8, 3, 1, 1, 0, 4, 2, 1, 5, 2, 1, 84, 12, 49, 1, 15, 8, 3, 3, 1, 7, 0, 3, 2, 1, 4, 0, 6, 1, 3, 7, 4, 2, 0, 2, 1, 27, 2, 34, 2, 6, 16, 7, 9, 4, 1, 2, 2, 5, 2, 21, 11, 6, 3, 2, 2, 7, 5, 2, 1, 2, 3, 3, 47, 17, 4, 30, 4, 4, 1, 7, 3, 2, 4, 3, 55, 107, 18, 81, 4, 2, 1, 28, 28, 17, 17, 11, 28, 5, 17, 2, 4, 4, 17, 4, 3, 11, 17, 17, 26, 7, 4, 6, 17, 17, 17, 177, 19, 20, 11, 21, 9, 1, 0, 0, 0, 0, 1, 0, 0, 6, 16, 8, 9, 13, 8, 0, 64, 161, 107, 6, 87, 124, 6, 123, 5, 5, 10, 2, 6, 124, 3, 18, 26, 30, 5, 5, 6, 0, 4, 3, 0, 7, 8, 1, 8, 2, 1, 5, 1, 1, 1, 3, 35, 27, 6, 3, 43, 3, 27, 2, 43, 5, 4, 2, 1, 8, 140, 5, 17, 21, 4, 1, 1, 72, 53, 17, 7, 10, 6, 3, 1, 5, 6, 2, 19, 10, 11, 6, 4, 18, 2, 8, 5, 3, 5, 3, 8, 1, 9, 0, 28, 8, 28, 6, 22, 102, 3, 3, 16, 4, 22, 5, 11, 4, 4, 4, 4, 20, 2, 8, 8, 1, 0, 3, 1, 2, 18, 6, 13, 5, 2, 1, 2, 2, 9, 4, 3, 3, 2, 3, 1, 23, 13, 3, 5, 1, 1, 2, 0, 12, 1, 1, 2, 17, 2, 0, 0, 0, 2, 0, 7, 2, 5, 0, 1, 1, 1, 2, 3, 0]\n",
      "[2, 8, 8, 5, 4, 7, 18, 5, 4, 6, 1, 3, 4, 22, 2, 49, 3, 2, 4, 35, 11, 6, 10, 14, 5, 3, 18, 5, 1, 0, 10, 2, 6, 2, 3, 7, 4, 0, 4, 1, 2, 2, 6, 3, 6, 10, 1, 127, 43, 50, 4, 1, 48, 21, 21, 4, 3, 1, 3, 0, 2, 2, 5, 0, 2, 4, 3, 2, 2, 12, 2, 3, 1, 6, 5, 8, 6, 5, 3, 1, 8, 3, 1, 4, 3, 1, 2, 2, 1, 5, 3, 3, 2, 1, 1, 4, 5, 2, 1, 2, 4, 2, 4, 5, 6, 41, 4, 2, 3, 2, 6, 4, 1, 23, 10, 0, 9, 0, 2, 2, 2, 17, 63, 63, 23, 23, 0, 44, 7, 31, 0, 0, 0, 9, 0, 7, 3, 2, 2, 0, 5, 2, 0, 3, 2, 72, 57, 2, 14, 58, 41, 73, 14, 58, 41, 72, 46, 1, 0, 1, 0, 1, 4, 3, 233, 18, 29, 6, 4, 0, 4, 0, 8, 2, 6, 0, 209, 119, 111, 1, 76, 32, 94, 80, 83, 48, 17, 21, 154, 9, 0, 10, 4, 2, 4, 1, 4, 3, 3, 9, 0, 7, 0, 0, 5, 0, 3, 1, 50, 4, 41, 11, 5, 3, 5, 54, 2, 16, 11, 3, 1, 2, 1, 6, 7, 2, 12, 2, 77, 20, 84, 0, 3, 7, 8, 40, 33, 18, 10, 8, 3, 1, 1, 0, 4, 2, 1, 5, 2, 1, 84, 12, 49, 1, 15, 8, 3, 3, 1, 7, 0, 3, 2, 1, 4, 0, 6, 1, 3, 7, 4, 2, 0, 2, 1, 27, 2, 34, 2, 6, 16, 7, 9, 4, 1, 2, 2, 5, 2, 21, 11, 6, 3, 2, 2, 7, 5, 2, 1, 2, 3, 3, 47, 17, 4, 30, 4, 4, 1, 7, 3, 2, 4, 3, 55, 107, 18, 81, 4, 2, 1, 28, 28, 17, 17, 11, 28, 5, 17, 2, 4, 4, 17, 4, 3, 11, 17, 17, 26, 7, 4, 6, 17, 17, 17, 177, 19, 20, 11, 21, 9, 1, 0, 0, 0, 0, 1, 0, 0, 6, 16, 8, 9, 13, 8, 0, 64, 161, 107, 6, 87, 124, 6, 123, 5, 5, 10, 2, 6, 124, 3, 18, 26, 30, 5, 5, 6, 0, 4, 3, 0, 7, 8, 1, 8, 2, 1, 5, 1, 1, 1, 3, 35, 27, 6, 3, 43, 3, 27, 2, 43, 5, 4, 2, 1, 8, 140, 5, 17, 21, 4, 1, 1, 72, 53, 17, 7, 10, 6, 3, 1, 5, 6, 2, 19, 10, 11, 6, 4, 18, 2, 8, 5, 3, 5, 3, 8, 1, 9, 0, 28, 8, 28, 6, 22, 102, 3, 3, 16, 4, 22, 5, 11, 4, 4, 4, 4, 20, 2, 8, 8, 1, 0, 3, 1, 2, 18, 6, 13, 5, 2, 1, 2, 2, 9, 4, 3, 3, 2, 3, 1, 23, 13, 3, 5, 1, 1, 2, 0, 12, 1, 1, 2, 17, 2, 0, 0, 0, 2, 0, 7, 2, 5, 0, 1, 1, 1, 2, 3, 0]\n",
      "[0.79807692307692313, 0.79807692307692313, 0.66346153846153844, 0.16538461538461538, 0.33461538461538459, 0.038461538461538464]\n"
     ]
    }
   ],
   "source": [
    "import random\n",
    "\n",
    "courses = enrollment.columns[1:]\n",
    "some_courses = random.sample(courses, 5)\n",
    "some_courses += ['Signals and Systems']\n",
    "\n",
    "pvalues = [course_part_of_major(course, \"Electr'l & Computer Engr\") for course in some_courses]\n",
    "print pvalues"
   ]
  },
  {
   "cell_type": "code",
   "execution_count": 104,
   "metadata": {
    "collapsed": false
   },
   "outputs": [
    {
     "data": {
      "image/png": "[encoded data removed]",
      "text/plain": [
       "<matplotlib.figure.Figure at 0x7fe91cf9e710>"
      ]
     },
     "metadata": {},
     "output_type": "display_data"
    }
   ],
   "source": [
    "import matplotlib.pyplot as plt\n",
    "import seaborn as sns; sns.set()\n",
    "%matplotlib inline\n",
    "\n",
    "sns.barplot(pvalues, some_courses)\n",
    "plt.show()"
   ]
  },
  {
   "cell_type": "code",
   "execution_count": null,
   "metadata": {
    "collapsed": false
   },
   "outputs": [],
   "source": []
  },
  {
   "cell_type": "code",
   "execution_count": null,
   "metadata": {
    "collapsed": true
   },
   "outputs": [],
   "source": []
  }
 ],
 "metadata": {
  "kernelspec": {
   "display_name": "Python 2",
   "language": "python",
   "name": "python2"
  },
  "language_info": {
   "codemirror_mode": {
    "name": "ipython",
    "version": 2
   },
   "file_extension": ".py",
   "mimetype": "text/x-python",
   "name": "python",
   "nbconvert_exporter": "python",
   "pygments_lexer": "ipython2",
   "version": "2.7.11"
  }
 },
 "nbformat": 4,
 "nbformat_minor": 0
}
