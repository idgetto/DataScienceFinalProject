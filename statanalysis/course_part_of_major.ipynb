{
 "cells": [
  {
   "cell_type": "code",
<<<<<<< HEAD
   "execution_count": 13,
=======
   "execution_count": 1,
>>>>>>> bb0a1d3d00b853026e94a0fa04d83c1309f04614
   "metadata": {
    "collapsed": false
   },
   "outputs": [
    {
     "name": "stdout",
     "output_type": "stream",
     "text": [
      "['Mechanical Engineering' 'Undeclared' 'Engineering'\n",
      " \"Electr'l & Computer Engr\" 'Engineering_Pending' 'Cross-Registration'\n",
      " 'Exchange Student']\n"
     ]
    },
    {
     "data": {
      "text/html": [
       "<div>\n",
       "<table border=\"1\" class=\"dataframe\">\n",
       "  <thead>\n",
       "    <tr style=\"text-align: right;\">\n",
       "      <th></th>\n",
       "      <th>studentid</th>\n",
       "      <th>entranceyear</th>\n",
       "      <th>finalyear</th>\n",
       "      <th>majors</th>\n",
       "      <th>concentrations</th>\n",
       "      <th>finalmajor</th>\n",
       "      <th>finalconcentration</th>\n",
       "      <th>code-semester</th>\n",
       "    </tr>\n",
       "  </thead>\n",
       "  <tbody>\n",
       "    <tr>\n",
       "      <th>0</th>\n",
       "      <td>10136845</td>\n",
       "      <td>2013</td>\n",
       "      <td>2016</td>\n",
       "      <td>['Undeclared' 'Mechanical Engineering']</td>\n",
       "      <td>[nan]</td>\n",
       "      <td>Mechanical Engineering</td>\n",
       "      <td>NaN</td>\n",
       "      <td>['AHSE1145     1314FA' 'AHSE2141     1314SP' '...</td>\n",
       "    </tr>\n",
       "    <tr>\n",
       "      <th>1</th>\n",
       "      <td>10191843</td>\n",
       "      <td>2014</td>\n",
       "      <td>2015</td>\n",
       "      <td>['Undeclared']</td>\n",
       "      <td>[nan]</td>\n",
       "      <td>Undeclared</td>\n",
       "      <td>NaN</td>\n",
       "      <td>['AHSE1145     1415FA' 'AHSE1515     1415SP' '...</td>\n",
       "    </tr>\n",
       "    <tr>\n",
       "      <th>2</th>\n",
       "      <td>10208842</td>\n",
       "      <td>2014</td>\n",
       "      <td>2016</td>\n",
       "      <td>['Undeclared' 'Engineering']</td>\n",
       "      <td>['Computing']</td>\n",
       "      <td>Engineering</td>\n",
       "      <td>Computing</td>\n",
       "      <td>['AHSE1199     1415FA' 'AHSE1515     1415SP' '...</td>\n",
       "    </tr>\n",
       "    <tr>\n",
       "      <th>3</th>\n",
       "      <td>10324389</td>\n",
       "      <td>2007</td>\n",
       "      <td>2011</td>\n",
       "      <td>['Undeclared' 'Engineering']</td>\n",
       "      <td>['Self Designed']</td>\n",
       "      <td>Engineering</td>\n",
       "      <td>Self Designed</td>\n",
       "      <td>['AHSE1199     0708FA' 'AHSE1500     0809FA' '...</td>\n",
       "    </tr>\n",
       "    <tr>\n",
       "      <th>4</th>\n",
       "      <td>10463379</td>\n",
       "      <td>2003</td>\n",
       "      <td>2007</td>\n",
       "      <td>['Undeclared' \"Electr'l &amp; Computer Engr\" 'Mech...</td>\n",
       "      <td>[nan]</td>\n",
       "      <td>Mechanical Engineering</td>\n",
       "      <td>NaN</td>\n",
       "      <td>['AHS1101      0304FA' 'AHS1111      0304SP' '...</td>\n",
       "    </tr>\n",
       "  </tbody>\n",
       "</table>\n",
       "</div>"
      ],
      "text/plain": [
       "   studentid  entranceyear  finalyear  \\\n",
       "0   10136845          2013       2016   \n",
       "1   10191843          2014       2015   \n",
       "2   10208842          2014       2016   \n",
       "3   10324389          2007       2011   \n",
       "4   10463379          2003       2007   \n",
       "\n",
       "                                              majors     concentrations  \\\n",
       "0            ['Undeclared' 'Mechanical Engineering']              [nan]   \n",
       "1                                     ['Undeclared']              [nan]   \n",
       "2                       ['Undeclared' 'Engineering']      ['Computing']   \n",
       "3                       ['Undeclared' 'Engineering']  ['Self Designed']   \n",
       "4  ['Undeclared' \"Electr'l & Computer Engr\" 'Mech...              [nan]   \n",
       "\n",
       "               finalmajor finalconcentration  \\\n",
       "0  Mechanical Engineering                NaN   \n",
       "1              Undeclared                NaN   \n",
       "2             Engineering          Computing   \n",
       "3             Engineering      Self Designed   \n",
       "4  Mechanical Engineering                NaN   \n",
       "\n",
       "                                       code-semester  \n",
       "0  ['AHSE1145     1314FA' 'AHSE2141     1314SP' '...  \n",
       "1  ['AHSE1145     1415FA' 'AHSE1515     1415SP' '...  \n",
       "2  ['AHSE1199     1415FA' 'AHSE1515     1415SP' '...  \n",
       "3  ['AHSE1199     0708FA' 'AHSE1500     0809FA' '...  \n",
       "4  ['AHS1101      0304FA' 'AHS1111      0304SP' '...  "
      ]
     },
<<<<<<< HEAD
     "execution_count": 13,
=======
     "execution_count": 1,
>>>>>>> bb0a1d3d00b853026e94a0fa04d83c1309f04614
     "metadata": {},
     "output_type": "execute_result"
    }
   ],
   "source": [
    "import pandas as pd\n",
    "\n",
    "enrollment = pd.read_csv('../data/enrollment.csv')\n",
    "students = pd.read_csv('../data/student0216.csv')\n",
    "\n",
    "students.head()\n",
    "print students.finalmajor.unique()\n",
    "\n",
    "students.head()"
   ]
  },
  {
   "cell_type": "code",
<<<<<<< HEAD
   "execution_count": 14,
=======
   "execution_count": 2,
>>>>>>> bb0a1d3d00b853026e94a0fa04d83c1309f04614
   "metadata": {
    "collapsed": false
   },
   "outputs": [],
   "source": [
    "def course_part_of_major(course, major):\n",
    "    major_counts = get_major_counts(major)\n",
    "    course_major_counts = get_course_major_count(course, major)\n",
    "    \n",
    "    above = course_major_counts <= major_counts\n",
    "    pvalue = sum(above) / float(len(major_counts))\n",
    "    return pvalue\n",
    "    \n",
    "def get_course_major_count(course, major):\n",
    "    course_student_ids = get_course_student_ids(course)\n",
    "    majors = students[students.studentid.isin(course_student_ids)].finalmajor\n",
    "    major_count = sum(majors == major)\n",
    "    return major_count\n",
    "        \n",
    "def get_major_counts(major):\n",
    "    courses = enrollment.columns[1:]\n",
    "    major_counts = []\n",
    "    for course in courses:\n",
    "        major_count = get_course_major_count(course, major)\n",
    "        major_counts.append(major_count)\n",
    "    return major_counts\n",
    "        \n",
    "def get_course_student_ids(course):\n",
    "    return enrollment[enrollment.loc[:, course] == True].studentid.tolist()"
   ]
  },
  {
   "cell_type": "code",
<<<<<<< HEAD
   "execution_count": 15,
=======
   "execution_count": 3,
>>>>>>> bb0a1d3d00b853026e94a0fa04d83c1309f04614
   "metadata": {
    "collapsed": false
   },
   "outputs": [
    {
<<<<<<< HEAD
     "ename": "KeyError",
     "evalue": "'the label [Dynamics] is not in the [columns]'",
     "output_type": "error",
     "traceback": [
      "\u001b[1;31m---------------------------------------------------------------------------\u001b[0m",
      "\u001b[1;31mKeyError\u001b[0m                                  Traceback (most recent call last)",
      "\u001b[1;32m<ipython-input-15-989364bff5cb>\u001b[0m in \u001b[0;36m<module>\u001b[1;34m()\u001b[0m\n\u001b[1;32m----> 1\u001b[1;33m \u001b[0mcourse_part_of_major\u001b[0m\u001b[1;33m(\u001b[0m\u001b[1;34m'Dynamics'\u001b[0m\u001b[1;33m,\u001b[0m \u001b[1;34m'Mechanical Engineering'\u001b[0m\u001b[1;33m)\u001b[0m\u001b[1;33m\u001b[0m\u001b[0m\n\u001b[0m",
      "\u001b[1;32m<ipython-input-14-5949c185937f>\u001b[0m in \u001b[0;36mcourse_part_of_major\u001b[1;34m(course, major)\u001b[0m\n\u001b[0;32m      1\u001b[0m \u001b[1;32mdef\u001b[0m \u001b[0mcourse_part_of_major\u001b[0m\u001b[1;33m(\u001b[0m\u001b[0mcourse\u001b[0m\u001b[1;33m,\u001b[0m \u001b[0mmajor\u001b[0m\u001b[1;33m)\u001b[0m\u001b[1;33m:\u001b[0m\u001b[1;33m\u001b[0m\u001b[0m\n\u001b[0;32m      2\u001b[0m     \u001b[0mmajor_counts\u001b[0m \u001b[1;33m=\u001b[0m \u001b[0mget_major_counts\u001b[0m\u001b[1;33m(\u001b[0m\u001b[0mmajor\u001b[0m\u001b[1;33m)\u001b[0m\u001b[1;33m\u001b[0m\u001b[0m\n\u001b[1;32m----> 3\u001b[1;33m     \u001b[0mcourse_major_counts\u001b[0m \u001b[1;33m=\u001b[0m \u001b[0mget_course_major_count\u001b[0m\u001b[1;33m(\u001b[0m\u001b[0mcourse\u001b[0m\u001b[1;33m,\u001b[0m \u001b[0mmajor\u001b[0m\u001b[1;33m)\u001b[0m\u001b[1;33m\u001b[0m\u001b[0m\n\u001b[0m\u001b[0;32m      4\u001b[0m \u001b[1;33m\u001b[0m\u001b[0m\n\u001b[0;32m      5\u001b[0m     \u001b[0mabove\u001b[0m \u001b[1;33m=\u001b[0m \u001b[0mcourse_major_counts\u001b[0m \u001b[1;33m<=\u001b[0m \u001b[0mmajor_counts\u001b[0m\u001b[1;33m\u001b[0m\u001b[0m\n",
      "\u001b[1;32m<ipython-input-14-5949c185937f>\u001b[0m in \u001b[0;36mget_course_major_count\u001b[1;34m(course, major)\u001b[0m\n\u001b[0;32m      8\u001b[0m \u001b[1;33m\u001b[0m\u001b[0m\n\u001b[0;32m      9\u001b[0m \u001b[1;32mdef\u001b[0m \u001b[0mget_course_major_count\u001b[0m\u001b[1;33m(\u001b[0m\u001b[0mcourse\u001b[0m\u001b[1;33m,\u001b[0m \u001b[0mmajor\u001b[0m\u001b[1;33m)\u001b[0m\u001b[1;33m:\u001b[0m\u001b[1;33m\u001b[0m\u001b[0m\n\u001b[1;32m---> 10\u001b[1;33m     \u001b[0mcourse_student_ids\u001b[0m \u001b[1;33m=\u001b[0m \u001b[0mget_course_student_ids\u001b[0m\u001b[1;33m(\u001b[0m\u001b[0mcourse\u001b[0m\u001b[1;33m)\u001b[0m\u001b[1;33m\u001b[0m\u001b[0m\n\u001b[0m\u001b[0;32m     11\u001b[0m     \u001b[0mmajors\u001b[0m \u001b[1;33m=\u001b[0m \u001b[0mstudents\u001b[0m\u001b[1;33m[\u001b[0m\u001b[0mstudents\u001b[0m\u001b[1;33m.\u001b[0m\u001b[0mid\u001b[0m\u001b[1;33m.\u001b[0m\u001b[0misin\u001b[0m\u001b[1;33m(\u001b[0m\u001b[0mcourse_student_ids\u001b[0m\u001b[1;33m)\u001b[0m\u001b[1;33m]\u001b[0m\u001b[1;33m.\u001b[0m\u001b[0mfinal_major_main\u001b[0m\u001b[1;33m\u001b[0m\u001b[0m\n\u001b[0;32m     12\u001b[0m     \u001b[0mmajor_count\u001b[0m \u001b[1;33m=\u001b[0m \u001b[0msum\u001b[0m\u001b[1;33m(\u001b[0m\u001b[0mmajors\u001b[0m \u001b[1;33m==\u001b[0m \u001b[0mmajor\u001b[0m\u001b[1;33m)\u001b[0m\u001b[1;33m\u001b[0m\u001b[0m\n",
      "\u001b[1;32m<ipython-input-14-5949c185937f>\u001b[0m in \u001b[0;36mget_course_student_ids\u001b[1;34m(course)\u001b[0m\n\u001b[0;32m     22\u001b[0m \u001b[1;33m\u001b[0m\u001b[0m\n\u001b[0;32m     23\u001b[0m \u001b[1;32mdef\u001b[0m \u001b[0mget_course_student_ids\u001b[0m\u001b[1;33m(\u001b[0m\u001b[0mcourse\u001b[0m\u001b[1;33m)\u001b[0m\u001b[1;33m:\u001b[0m\u001b[1;33m\u001b[0m\u001b[0m\n\u001b[1;32m---> 24\u001b[1;33m     \u001b[1;32mreturn\u001b[0m \u001b[0menrollment\u001b[0m\u001b[1;33m[\u001b[0m\u001b[0menrollment\u001b[0m\u001b[1;33m.\u001b[0m\u001b[0mloc\u001b[0m\u001b[1;33m[\u001b[0m\u001b[1;33m:\u001b[0m\u001b[1;33m,\u001b[0m \u001b[0mcourse\u001b[0m\u001b[1;33m]\u001b[0m \u001b[1;33m==\u001b[0m \u001b[0mTrue\u001b[0m\u001b[1;33m]\u001b[0m\u001b[1;33m.\u001b[0m\u001b[0mindex\u001b[0m\u001b[1;33m.\u001b[0m\u001b[0mtolist\u001b[0m\u001b[1;33m(\u001b[0m\u001b[1;33m)\u001b[0m\u001b[1;33m\u001b[0m\u001b[0m\n\u001b[0m",
      "\u001b[1;32m/home/jkim/anaconda2/lib/python2.7/site-packages/pandas/core/indexing.pyc\u001b[0m in \u001b[0;36m__getitem__\u001b[1;34m(self, key)\u001b[0m\n\u001b[0;32m   1223\u001b[0m     \u001b[1;32mdef\u001b[0m \u001b[0m__getitem__\u001b[0m\u001b[1;33m(\u001b[0m\u001b[0mself\u001b[0m\u001b[1;33m,\u001b[0m \u001b[0mkey\u001b[0m\u001b[1;33m)\u001b[0m\u001b[1;33m:\u001b[0m\u001b[1;33m\u001b[0m\u001b[0m\n\u001b[0;32m   1224\u001b[0m         \u001b[1;32mif\u001b[0m \u001b[0mtype\u001b[0m\u001b[1;33m(\u001b[0m\u001b[0mkey\u001b[0m\u001b[1;33m)\u001b[0m \u001b[1;32mis\u001b[0m \u001b[0mtuple\u001b[0m\u001b[1;33m:\u001b[0m\u001b[1;33m\u001b[0m\u001b[0m\n\u001b[1;32m-> 1225\u001b[1;33m             \u001b[1;32mreturn\u001b[0m \u001b[0mself\u001b[0m\u001b[1;33m.\u001b[0m\u001b[0m_getitem_tuple\u001b[0m\u001b[1;33m(\u001b[0m\u001b[0mkey\u001b[0m\u001b[1;33m)\u001b[0m\u001b[1;33m\u001b[0m\u001b[0m\n\u001b[0m\u001b[0;32m   1226\u001b[0m         \u001b[1;32melse\u001b[0m\u001b[1;33m:\u001b[0m\u001b[1;33m\u001b[0m\u001b[0m\n\u001b[0;32m   1227\u001b[0m             \u001b[1;32mreturn\u001b[0m \u001b[0mself\u001b[0m\u001b[1;33m.\u001b[0m\u001b[0m_getitem_axis\u001b[0m\u001b[1;33m(\u001b[0m\u001b[0mkey\u001b[0m\u001b[1;33m,\u001b[0m \u001b[0maxis\u001b[0m\u001b[1;33m=\u001b[0m\u001b[1;36m0\u001b[0m\u001b[1;33m)\u001b[0m\u001b[1;33m\u001b[0m\u001b[0m\n",
      "\u001b[1;32m/home/jkim/anaconda2/lib/python2.7/site-packages/pandas/core/indexing.pyc\u001b[0m in \u001b[0;36m_getitem_tuple\u001b[1;34m(self, tup)\u001b[0m\n\u001b[0;32m    736\u001b[0m     \u001b[1;32mdef\u001b[0m \u001b[0m_getitem_tuple\u001b[0m\u001b[1;33m(\u001b[0m\u001b[0mself\u001b[0m\u001b[1;33m,\u001b[0m \u001b[0mtup\u001b[0m\u001b[1;33m)\u001b[0m\u001b[1;33m:\u001b[0m\u001b[1;33m\u001b[0m\u001b[0m\n\u001b[0;32m    737\u001b[0m         \u001b[1;32mtry\u001b[0m\u001b[1;33m:\u001b[0m\u001b[1;33m\u001b[0m\u001b[0m\n\u001b[1;32m--> 738\u001b[1;33m             \u001b[1;32mreturn\u001b[0m \u001b[0mself\u001b[0m\u001b[1;33m.\u001b[0m\u001b[0m_getitem_lowerdim\u001b[0m\u001b[1;33m(\u001b[0m\u001b[0mtup\u001b[0m\u001b[1;33m)\u001b[0m\u001b[1;33m\u001b[0m\u001b[0m\n\u001b[0m\u001b[0;32m    739\u001b[0m         \u001b[1;32mexcept\u001b[0m \u001b[0mIndexingError\u001b[0m\u001b[1;33m:\u001b[0m\u001b[1;33m\u001b[0m\u001b[0m\n\u001b[0;32m    740\u001b[0m             \u001b[1;32mpass\u001b[0m\u001b[1;33m\u001b[0m\u001b[0m\n",
      "\u001b[1;32m/home/jkim/anaconda2/lib/python2.7/site-packages/pandas/core/indexing.pyc\u001b[0m in \u001b[0;36m_getitem_lowerdim\u001b[1;34m(self, tup)\u001b[0m\n\u001b[0;32m    861\u001b[0m         \u001b[1;32mfor\u001b[0m \u001b[0mi\u001b[0m\u001b[1;33m,\u001b[0m \u001b[0mkey\u001b[0m \u001b[1;32min\u001b[0m \u001b[0menumerate\u001b[0m\u001b[1;33m(\u001b[0m\u001b[0mtup\u001b[0m\u001b[1;33m)\u001b[0m\u001b[1;33m:\u001b[0m\u001b[1;33m\u001b[0m\u001b[0m\n\u001b[0;32m    862\u001b[0m             \u001b[1;32mif\u001b[0m \u001b[0mis_label_like\u001b[0m\u001b[1;33m(\u001b[0m\u001b[0mkey\u001b[0m\u001b[1;33m)\u001b[0m \u001b[1;32mor\u001b[0m \u001b[0misinstance\u001b[0m\u001b[1;33m(\u001b[0m\u001b[0mkey\u001b[0m\u001b[1;33m,\u001b[0m \u001b[0mtuple\u001b[0m\u001b[1;33m)\u001b[0m\u001b[1;33m:\u001b[0m\u001b[1;33m\u001b[0m\u001b[0m\n\u001b[1;32m--> 863\u001b[1;33m                 \u001b[0msection\u001b[0m \u001b[1;33m=\u001b[0m \u001b[0mself\u001b[0m\u001b[1;33m.\u001b[0m\u001b[0m_getitem_axis\u001b[0m\u001b[1;33m(\u001b[0m\u001b[0mkey\u001b[0m\u001b[1;33m,\u001b[0m \u001b[0maxis\u001b[0m\u001b[1;33m=\u001b[0m\u001b[0mi\u001b[0m\u001b[1;33m)\u001b[0m\u001b[1;33m\u001b[0m\u001b[0m\n\u001b[0m\u001b[0;32m    864\u001b[0m \u001b[1;33m\u001b[0m\u001b[0m\n\u001b[0;32m    865\u001b[0m                 \u001b[1;31m# we have yielded a scalar ?\u001b[0m\u001b[1;33m\u001b[0m\u001b[1;33m\u001b[0m\u001b[0m\n",
      "\u001b[1;32m/home/jkim/anaconda2/lib/python2.7/site-packages/pandas/core/indexing.pyc\u001b[0m in \u001b[0;36m_getitem_axis\u001b[1;34m(self, key, axis)\u001b[0m\n\u001b[0;32m   1369\u001b[0m \u001b[1;33m\u001b[0m\u001b[0m\n\u001b[0;32m   1370\u001b[0m         \u001b[1;31m# fall thru to straight lookup\u001b[0m\u001b[1;33m\u001b[0m\u001b[1;33m\u001b[0m\u001b[0m\n\u001b[1;32m-> 1371\u001b[1;33m         \u001b[0mself\u001b[0m\u001b[1;33m.\u001b[0m\u001b[0m_has_valid_type\u001b[0m\u001b[1;33m(\u001b[0m\u001b[0mkey\u001b[0m\u001b[1;33m,\u001b[0m \u001b[0maxis\u001b[0m\u001b[1;33m)\u001b[0m\u001b[1;33m\u001b[0m\u001b[0m\n\u001b[0m\u001b[0;32m   1372\u001b[0m         \u001b[1;32mreturn\u001b[0m \u001b[0mself\u001b[0m\u001b[1;33m.\u001b[0m\u001b[0m_get_label\u001b[0m\u001b[1;33m(\u001b[0m\u001b[0mkey\u001b[0m\u001b[1;33m,\u001b[0m \u001b[0maxis\u001b[0m\u001b[1;33m=\u001b[0m\u001b[0maxis\u001b[0m\u001b[1;33m)\u001b[0m\u001b[1;33m\u001b[0m\u001b[0m\n\u001b[0;32m   1373\u001b[0m \u001b[1;33m\u001b[0m\u001b[0m\n",
      "\u001b[1;32m/home/jkim/anaconda2/lib/python2.7/site-packages/pandas/core/indexing.pyc\u001b[0m in \u001b[0;36m_has_valid_type\u001b[1;34m(self, key, axis)\u001b[0m\n\u001b[0;32m   1331\u001b[0m                 \u001b[1;32mraise\u001b[0m\u001b[1;33m\u001b[0m\u001b[0m\n\u001b[0;32m   1332\u001b[0m             \u001b[1;32mexcept\u001b[0m\u001b[1;33m:\u001b[0m\u001b[1;33m\u001b[0m\u001b[0m\n\u001b[1;32m-> 1333\u001b[1;33m                 \u001b[0merror\u001b[0m\u001b[1;33m(\u001b[0m\u001b[1;33m)\u001b[0m\u001b[1;33m\u001b[0m\u001b[0m\n\u001b[0m\u001b[0;32m   1334\u001b[0m \u001b[1;33m\u001b[0m\u001b[0m\n\u001b[0;32m   1335\u001b[0m         \u001b[1;32mreturn\u001b[0m \u001b[0mTrue\u001b[0m\u001b[1;33m\u001b[0m\u001b[0m\n",
      "\u001b[1;32m/home/jkim/anaconda2/lib/python2.7/site-packages/pandas/core/indexing.pyc\u001b[0m in \u001b[0;36merror\u001b[1;34m()\u001b[0m\n\u001b[0;32m   1318\u001b[0m                         \"cannot use label indexing with a null key\")\n\u001b[0;32m   1319\u001b[0m                 raise KeyError(\"the label [%s] is not in the [%s]\" %\n\u001b[1;32m-> 1320\u001b[1;33m                                (key, self.obj._get_axis_name(axis)))\n\u001b[0m\u001b[0;32m   1321\u001b[0m \u001b[1;33m\u001b[0m\u001b[0m\n\u001b[0;32m   1322\u001b[0m             \u001b[1;32mtry\u001b[0m\u001b[1;33m:\u001b[0m\u001b[1;33m\u001b[0m\u001b[0m\n",
      "\u001b[1;31mKeyError\u001b[0m: 'the label [Dynamics] is not in the [columns]'"
     ]
=======
     "data": {
      "text/plain": [
       "0.0019305019305019305"
      ]
     },
     "execution_count": 3,
     "metadata": {},
     "output_type": "execute_result"
>>>>>>> bb0a1d3d00b853026e94a0fa04d83c1309f04614
    }
   ],
   "source": [
    "course_part_of_major('Dynamics', 'Mechanical Engineering')"
   ]
  },
  {
   "cell_type": "code",
<<<<<<< HEAD
   "execution_count": 12,
=======
   "execution_count": 4,
>>>>>>> bb0a1d3d00b853026e94a0fa04d83c1309f04614
   "metadata": {
    "collapsed": false
   },
   "outputs": [
    {
<<<<<<< HEAD
     "ename": "AttributeError",
     "evalue": "'DataFrame' object has no attribute 'id'",
     "output_type": "error",
     "traceback": [
      "\u001b[1;31m---------------------------------------------------------------------------\u001b[0m",
      "\u001b[1;31mAttributeError\u001b[0m                            Traceback (most recent call last)",
      "\u001b[1;32m<ipython-input-12-88bf4905a97f>\u001b[0m in \u001b[0;36m<module>\u001b[1;34m()\u001b[0m\n\u001b[1;32m----> 1\u001b[1;33m \u001b[0mcourse_part_of_major\u001b[0m\u001b[1;33m(\u001b[0m\u001b[1;34m'Technology in American History'\u001b[0m\u001b[1;33m,\u001b[0m \u001b[1;34m'Mechanical Engineering'\u001b[0m\u001b[1;33m)\u001b[0m\u001b[1;33m\u001b[0m\u001b[0m\n\u001b[0m",
      "\u001b[1;32m<ipython-input-10-5949c185937f>\u001b[0m in \u001b[0;36mcourse_part_of_major\u001b[1;34m(course, major)\u001b[0m\n\u001b[0;32m      1\u001b[0m \u001b[1;32mdef\u001b[0m \u001b[0mcourse_part_of_major\u001b[0m\u001b[1;33m(\u001b[0m\u001b[0mcourse\u001b[0m\u001b[1;33m,\u001b[0m \u001b[0mmajor\u001b[0m\u001b[1;33m)\u001b[0m\u001b[1;33m:\u001b[0m\u001b[1;33m\u001b[0m\u001b[0m\n\u001b[1;32m----> 2\u001b[1;33m     \u001b[0mmajor_counts\u001b[0m \u001b[1;33m=\u001b[0m \u001b[0mget_major_counts\u001b[0m\u001b[1;33m(\u001b[0m\u001b[0mmajor\u001b[0m\u001b[1;33m)\u001b[0m\u001b[1;33m\u001b[0m\u001b[0m\n\u001b[0m\u001b[0;32m      3\u001b[0m     \u001b[0mcourse_major_counts\u001b[0m \u001b[1;33m=\u001b[0m \u001b[0mget_course_major_count\u001b[0m\u001b[1;33m(\u001b[0m\u001b[0mcourse\u001b[0m\u001b[1;33m,\u001b[0m \u001b[0mmajor\u001b[0m\u001b[1;33m)\u001b[0m\u001b[1;33m\u001b[0m\u001b[0m\n\u001b[0;32m      4\u001b[0m \u001b[1;33m\u001b[0m\u001b[0m\n\u001b[0;32m      5\u001b[0m     \u001b[0mabove\u001b[0m \u001b[1;33m=\u001b[0m \u001b[0mcourse_major_counts\u001b[0m \u001b[1;33m<=\u001b[0m \u001b[0mmajor_counts\u001b[0m\u001b[1;33m\u001b[0m\u001b[0m\n",
      "\u001b[1;32m<ipython-input-10-5949c185937f>\u001b[0m in \u001b[0;36mget_major_counts\u001b[1;34m(major)\u001b[0m\n\u001b[0;32m     17\u001b[0m     \u001b[0mmajor_counts\u001b[0m \u001b[1;33m=\u001b[0m \u001b[1;33m[\u001b[0m\u001b[1;33m]\u001b[0m\u001b[1;33m\u001b[0m\u001b[0m\n\u001b[0;32m     18\u001b[0m     \u001b[1;32mfor\u001b[0m \u001b[0mcourse\u001b[0m \u001b[1;32min\u001b[0m \u001b[0mcourses\u001b[0m\u001b[1;33m:\u001b[0m\u001b[1;33m\u001b[0m\u001b[0m\n\u001b[1;32m---> 19\u001b[1;33m         \u001b[0mmajor_count\u001b[0m \u001b[1;33m=\u001b[0m \u001b[0mget_course_major_count\u001b[0m\u001b[1;33m(\u001b[0m\u001b[0mcourse\u001b[0m\u001b[1;33m,\u001b[0m \u001b[0mmajor\u001b[0m\u001b[1;33m)\u001b[0m\u001b[1;33m\u001b[0m\u001b[0m\n\u001b[0m\u001b[0;32m     20\u001b[0m         \u001b[0mmajor_counts\u001b[0m\u001b[1;33m.\u001b[0m\u001b[0mappend\u001b[0m\u001b[1;33m(\u001b[0m\u001b[0mmajor_count\u001b[0m\u001b[1;33m)\u001b[0m\u001b[1;33m\u001b[0m\u001b[0m\n\u001b[0;32m     21\u001b[0m     \u001b[1;32mreturn\u001b[0m \u001b[0mmajor_counts\u001b[0m\u001b[1;33m\u001b[0m\u001b[0m\n",
      "\u001b[1;32m<ipython-input-10-5949c185937f>\u001b[0m in \u001b[0;36mget_course_major_count\u001b[1;34m(course, major)\u001b[0m\n\u001b[0;32m      9\u001b[0m \u001b[1;32mdef\u001b[0m \u001b[0mget_course_major_count\u001b[0m\u001b[1;33m(\u001b[0m\u001b[0mcourse\u001b[0m\u001b[1;33m,\u001b[0m \u001b[0mmajor\u001b[0m\u001b[1;33m)\u001b[0m\u001b[1;33m:\u001b[0m\u001b[1;33m\u001b[0m\u001b[0m\n\u001b[0;32m     10\u001b[0m     \u001b[0mcourse_student_ids\u001b[0m \u001b[1;33m=\u001b[0m \u001b[0mget_course_student_ids\u001b[0m\u001b[1;33m(\u001b[0m\u001b[0mcourse\u001b[0m\u001b[1;33m)\u001b[0m\u001b[1;33m\u001b[0m\u001b[0m\n\u001b[1;32m---> 11\u001b[1;33m     \u001b[0mmajors\u001b[0m \u001b[1;33m=\u001b[0m \u001b[0mstudents\u001b[0m\u001b[1;33m[\u001b[0m\u001b[0mstudents\u001b[0m\u001b[1;33m.\u001b[0m\u001b[0mid\u001b[0m\u001b[1;33m.\u001b[0m\u001b[0misin\u001b[0m\u001b[1;33m(\u001b[0m\u001b[0mcourse_student_ids\u001b[0m\u001b[1;33m)\u001b[0m\u001b[1;33m]\u001b[0m\u001b[1;33m.\u001b[0m\u001b[0mfinal_major_main\u001b[0m\u001b[1;33m\u001b[0m\u001b[0m\n\u001b[0m\u001b[0;32m     12\u001b[0m     \u001b[0mmajor_count\u001b[0m \u001b[1;33m=\u001b[0m \u001b[0msum\u001b[0m\u001b[1;33m(\u001b[0m\u001b[0mmajors\u001b[0m \u001b[1;33m==\u001b[0m \u001b[0mmajor\u001b[0m\u001b[1;33m)\u001b[0m\u001b[1;33m\u001b[0m\u001b[0m\n\u001b[0;32m     13\u001b[0m     \u001b[1;32mreturn\u001b[0m \u001b[0mmajor_count\u001b[0m\u001b[1;33m\u001b[0m\u001b[0m\n",
      "\u001b[1;32m/home/jkim/anaconda2/lib/python2.7/site-packages/pandas/core/generic.pyc\u001b[0m in \u001b[0;36m__getattr__\u001b[1;34m(self, name)\u001b[0m\n\u001b[0;32m   2358\u001b[0m                 \u001b[1;32mreturn\u001b[0m \u001b[0mself\u001b[0m\u001b[1;33m[\u001b[0m\u001b[0mname\u001b[0m\u001b[1;33m]\u001b[0m\u001b[1;33m\u001b[0m\u001b[0m\n\u001b[0;32m   2359\u001b[0m             raise AttributeError(\"'%s' object has no attribute '%s'\" %\n\u001b[1;32m-> 2360\u001b[1;33m                                  (type(self).__name__, name))\n\u001b[0m\u001b[0;32m   2361\u001b[0m \u001b[1;33m\u001b[0m\u001b[0m\n\u001b[0;32m   2362\u001b[0m     \u001b[1;32mdef\u001b[0m \u001b[0m__setattr__\u001b[0m\u001b[1;33m(\u001b[0m\u001b[0mself\u001b[0m\u001b[1;33m,\u001b[0m \u001b[0mname\u001b[0m\u001b[1;33m,\u001b[0m \u001b[0mvalue\u001b[0m\u001b[1;33m)\u001b[0m\u001b[1;33m:\u001b[0m\u001b[1;33m\u001b[0m\u001b[0m\n",
      "\u001b[1;31mAttributeError\u001b[0m: 'DataFrame' object has no attribute 'id'"
     ]
=======
     "data": {
      "text/plain": [
       "0.3359073359073359"
      ]
     },
     "execution_count": 4,
     "metadata": {},
     "output_type": "execute_result"
>>>>>>> bb0a1d3d00b853026e94a0fa04d83c1309f04614
    }
   ],
   "source": [
    "course_part_of_major('Technology in American History', 'Mechanical Engineering')"
   ]
  },
  {
   "cell_type": "code",
<<<<<<< HEAD
   "execution_count": 7,
=======
   "execution_count": 5,
>>>>>>> bb0a1d3d00b853026e94a0fa04d83c1309f04614
   "metadata": {
    "collapsed": false
   },
   "outputs": [
    {
<<<<<<< HEAD
     "ename": "TypeError",
     "evalue": "'bool' object is not iterable",
     "output_type": "error",
     "traceback": [
      "\u001b[1;31m---------------------------------------------------------------------------\u001b[0m",
      "\u001b[1;31mTypeError\u001b[0m                                 Traceback (most recent call last)",
      "\u001b[1;32m<ipython-input-7-6339bd10c7d3>\u001b[0m in \u001b[0;36m<module>\u001b[1;34m()\u001b[0m\n\u001b[0;32m      5\u001b[0m \u001b[0msome_courses\u001b[0m \u001b[1;33m+=\u001b[0m \u001b[1;33m[\u001b[0m\u001b[1;34m'Signals and Systems'\u001b[0m\u001b[1;33m]\u001b[0m\u001b[1;33m\u001b[0m\u001b[0m\n\u001b[0;32m      6\u001b[0m \u001b[1;33m\u001b[0m\u001b[0m\n\u001b[1;32m----> 7\u001b[1;33m \u001b[0mpvalues\u001b[0m \u001b[1;33m=\u001b[0m \u001b[1;33m[\u001b[0m\u001b[0mcourse_part_of_major\u001b[0m\u001b[1;33m(\u001b[0m\u001b[0mcourse\u001b[0m\u001b[1;33m,\u001b[0m \u001b[1;34m\"Electr'l & Computer Engr\"\u001b[0m\u001b[1;33m)\u001b[0m \u001b[1;32mfor\u001b[0m \u001b[0mcourse\u001b[0m \u001b[1;32min\u001b[0m \u001b[0msome_courses\u001b[0m\u001b[1;33m]\u001b[0m\u001b[1;33m\u001b[0m\u001b[0m\n\u001b[0m\u001b[0;32m      8\u001b[0m \u001b[1;32mprint\u001b[0m \u001b[0mpvalues\u001b[0m\u001b[1;33m\u001b[0m\u001b[0m\n",
      "\u001b[1;32m<ipython-input-4-5949c185937f>\u001b[0m in \u001b[0;36mcourse_part_of_major\u001b[1;34m(course, major)\u001b[0m\n\u001b[0;32m      4\u001b[0m \u001b[1;33m\u001b[0m\u001b[0m\n\u001b[0;32m      5\u001b[0m     \u001b[0mabove\u001b[0m \u001b[1;33m=\u001b[0m \u001b[0mcourse_major_counts\u001b[0m \u001b[1;33m<=\u001b[0m \u001b[0mmajor_counts\u001b[0m\u001b[1;33m\u001b[0m\u001b[0m\n\u001b[1;32m----> 6\u001b[1;33m     \u001b[0mpvalue\u001b[0m \u001b[1;33m=\u001b[0m \u001b[0msum\u001b[0m\u001b[1;33m(\u001b[0m\u001b[0mabove\u001b[0m\u001b[1;33m)\u001b[0m \u001b[1;33m/\u001b[0m \u001b[0mfloat\u001b[0m\u001b[1;33m(\u001b[0m\u001b[0mlen\u001b[0m\u001b[1;33m(\u001b[0m\u001b[0mmajor_counts\u001b[0m\u001b[1;33m)\u001b[0m\u001b[1;33m)\u001b[0m\u001b[1;33m\u001b[0m\u001b[0m\n\u001b[0m\u001b[0;32m      7\u001b[0m     \u001b[1;32mreturn\u001b[0m \u001b[0mpvalue\u001b[0m\u001b[1;33m\u001b[0m\u001b[0m\n\u001b[0;32m      8\u001b[0m \u001b[1;33m\u001b[0m\u001b[0m\n",
      "\u001b[1;31mTypeError\u001b[0m: 'bool' object is not iterable"
=======
     "name": "stderr",
     "output_type": "stream",
     "text": [
      "/home/isaac/anaconda/lib/python2.7/site-packages/matplotlib/__init__.py:872: UserWarning: axes.color_cycle is deprecated and replaced with axes.prop_cycle; please use the latter.\n",
      "  warnings.warn(self.msg_depr % (key, alt_key))\n"
>>>>>>> bb0a1d3d00b853026e94a0fa04d83c1309f04614
     ]
    }
   ],
   "source": [
    "import matplotlib.pyplot as plt\n",
    "import seaborn as sns; sns.set()\n",
    "import random\n",
    "\n",
    "%matplotlib inline\n",
    "\n",
    "def courses_in_major_plot(major, courses):\n",
    "    pvalues = [course_part_of_major(course, major) for course in courses]\n",
    "    \n",
    "    sns.barplot(pvalues, courses)\n",
    "    plt.axvline(0.05, color='k', ls='--')\n",
    "\n",
    "    plt.title('Liklihood of Course in ECE major')\n",
    "    plt.xlabel('p-value')\n",
    "    plt.show()"
   ]
  },
  {
   "cell_type": "code",
<<<<<<< HEAD
   "execution_count": 8,
=======
   "execution_count": 6,
>>>>>>> bb0a1d3d00b853026e94a0fa04d83c1309f04614
   "metadata": {
    "collapsed": false
   },
   "outputs": [
    {
     "name": "stderr",
     "output_type": "stream",
     "text": [
<<<<<<< HEAD
      "/home/jkim/anaconda2/lib/python2.7/site-packages/matplotlib/font_manager.py:273: UserWarning: Matplotlib is building the font cache using fc-list. This may take a moment.\n",
      "  warnings.warn('Matplotlib is building the font cache using fc-list. This may take a moment.')\n",
      "/home/jkim/anaconda2/lib/python2.7/site-packages/matplotlib/__init__.py:872: UserWarning: axes.color_cycle is deprecated and replaced with axes.prop_cycle; please use the latter.\n",
=======
      "/home/isaac/anaconda/lib/python2.7/site-packages/matplotlib/__init__.py:892: UserWarning: axes.color_cycle is deprecated and replaced with axes.prop_cycle; please use the latter.\n",
>>>>>>> bb0a1d3d00b853026e94a0fa04d83c1309f04614
      "  warnings.warn(self.msg_depr % (key, alt_key))\n"
     ]
    },
    {
<<<<<<< HEAD
     "ename": "NameError",
     "evalue": "name 'pvalues' is not defined",
     "output_type": "error",
     "traceback": [
      "\u001b[1;31m---------------------------------------------------------------------------\u001b[0m",
      "\u001b[1;31mNameError\u001b[0m                                 Traceback (most recent call last)",
      "\u001b[1;32m<ipython-input-8-55fc147286a0>\u001b[0m in \u001b[0;36m<module>\u001b[1;34m()\u001b[0m\n\u001b[0;32m      3\u001b[0m \u001b[0mget_ipython\u001b[0m\u001b[1;33m(\u001b[0m\u001b[1;33m)\u001b[0m\u001b[1;33m.\u001b[0m\u001b[0mmagic\u001b[0m\u001b[1;33m(\u001b[0m\u001b[1;34mu'matplotlib inline'\u001b[0m\u001b[1;33m)\u001b[0m\u001b[1;33m\u001b[0m\u001b[0m\n\u001b[0;32m      4\u001b[0m \u001b[1;33m\u001b[0m\u001b[0m\n\u001b[1;32m----> 5\u001b[1;33m \u001b[0msns\u001b[0m\u001b[1;33m.\u001b[0m\u001b[0mbarplot\u001b[0m\u001b[1;33m(\u001b[0m\u001b[0mpvalues\u001b[0m\u001b[1;33m,\u001b[0m \u001b[0msome_courses\u001b[0m\u001b[1;33m)\u001b[0m\u001b[1;33m\u001b[0m\u001b[0m\n\u001b[0m\u001b[0;32m      6\u001b[0m \u001b[0mplt\u001b[0m\u001b[1;33m.\u001b[0m\u001b[0mshow\u001b[0m\u001b[1;33m(\u001b[0m\u001b[1;33m)\u001b[0m\u001b[1;33m\u001b[0m\u001b[0m\n",
      "\u001b[1;31mNameError\u001b[0m: name 'pvalues' is not defined"
     ]
=======
     "data": {
      "image/png": "iVBORw0KGgoAAAANSUhEUgAAAsEAAAEbCAYAAAA7/FmgAAAABHNCSVQICAgIfAhkiAAAAAlwSFlz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\nJAmOiIiIiI7z/1Fq3ks+CismAAAAAElFTkSuQmCC\n",
      "text/plain": [
       "<matplotlib.figure.Figure at 0x7ff136965090>"
      ]
     },
     "metadata": {},
     "output_type": "display_data"
>>>>>>> bb0a1d3d00b853026e94a0fa04d83c1309f04614
    }
   ],
   "source": [
    "major = \"Electr'l & Computer Engr\"\n",
    "\n",
    "courses = enrollment.columns[1:]\n",
    "some_courses = random.sample(courses, 5)\n",
    "some_courses += ['Signals and Systems']\n",
    "\n",
    "courses_in_major_plot(major, some_courses)"
   ]
  },
  {
   "cell_type": "code",
   "execution_count": null,
   "metadata": {
    "collapsed": true
   },
   "outputs": [],
   "source": []
  }
 ],
 "metadata": {
  "kernelspec": {
   "display_name": "Python 2",
   "language": "python",
   "name": "python2"
  },
  "language_info": {
   "codemirror_mode": {
    "name": "ipython",
    "version": 2
   },
   "file_extension": ".py",
   "mimetype": "text/x-python",
   "name": "python",
   "nbconvert_exporter": "python",
   "pygments_lexer": "ipython2",
   "version": "2.7.11"
  }
 },
 "nbformat": 4,
 "nbformat_minor": 0
}
