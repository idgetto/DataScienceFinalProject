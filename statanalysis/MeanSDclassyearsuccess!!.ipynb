{
 "cells": [
  {
   "cell_type": "code",
   "execution_count": 1,
   "metadata": {
    "collapsed": true
   },
   "outputs": [],
   "source": [
    "import pandas as pd\n",
    "\n",
    "data = pd.read_csv('../data/registrations.csv')"
   ]
  },
  {
   "cell_type": "code",
   "execution_count": 2,
   "metadata": {
    "collapsed": false
   },
   "outputs": [
    {
     "name": "stdout",
     "output_type": "stream",
     "text": [
      "GR\n",
      "grade error ???\n",
      "XR\n",
      "grade error ???\n",
      "GR\n",
      "grade error ???\n"
     ]
    }
   ],
   "source": [
    "def grade(gr):\n",
    "    if gr == 'FR':\n",
    "        return 1\n",
    "    elif gr == 'SO':\n",
    "        return 2\n",
    "    elif gr == 'SP':\n",
    "        return 2\n",
    "    elif gr == 'JR':\n",
    "        return 3\n",
    "    elif gr == 'SR':\n",
    "        return 4\n",
    "    else:\n",
    "        print gr\n",
    "        print 'grade error ???'\n",
    "        \n",
    "data['numgrade'] = data['grade'].apply(grade)"
   ]
  },
  {
   "cell_type": "code",
   "execution_count": 3,
   "metadata": {
    "collapsed": false
   },
   "outputs": [
    {
     "data": {
      "text/html": [
       "<div>\n",
       "<table border=\"1\" class=\"dataframe\">\n",
       "  <thead>\n",
       "    <tr style=\"text-align: right;\">\n",
       "      <th></th>\n",
       "      <th>studentid</th>\n",
       "      <th>semester</th>\n",
       "      <th>grade</th>\n",
       "      <th>major</th>\n",
       "      <th>concentration</th>\n",
       "      <th>code</th>\n",
       "      <th>section</th>\n",
       "      <th>coursetitle</th>\n",
       "      <th>sectiontitle</th>\n",
       "      <th>professor</th>\n",
       "      <th>course-sectiontitle</th>\n",
       "      <th>code-semester</th>\n",
       "      <th>Unnamed: 0</th>\n",
       "      <th>coursetype</th>\n",
       "      <th>numgrade</th>\n",
       "    </tr>\n",
       "  </thead>\n",
       "  <tbody>\n",
       "    <tr>\n",
       "      <th>0</th>\n",
       "      <td>30876146</td>\n",
       "      <td>0708FA</td>\n",
       "      <td>SR</td>\n",
       "      <td>Engineering</td>\n",
       "      <td>Computing</td>\n",
       "      <td>AHS CAP SPR</td>\n",
       "      <td>1</td>\n",
       "      <td>AHS CapstoneSpring Pre-registration</td>\n",
       "      <td>NaN</td>\n",
       "      <td>Lynch, Caitrin</td>\n",
       "      <td>AHS CapstoneSpring Pre-registration</td>\n",
       "      <td>AHS CAP SPR  0708FA</td>\n",
       "      <td>247</td>\n",
       "      <td>NaN</td>\n",
       "      <td>4</td>\n",
       "    </tr>\n",
       "    <tr>\n",
       "      <th>1</th>\n",
       "      <td>23925034</td>\n",
       "      <td>0607FA</td>\n",
       "      <td>SR</td>\n",
       "      <td>Engineering</td>\n",
       "      <td>Bioengineering</td>\n",
       "      <td>AHS CAP SPR</td>\n",
       "      <td>1</td>\n",
       "      <td>AHS CapstoneSpring Pre-registration</td>\n",
       "      <td>NaN</td>\n",
       "      <td>Martello, Robert</td>\n",
       "      <td>AHS CapstoneSpring Pre-registration</td>\n",
       "      <td>AHS CAP SPR  0607FA</td>\n",
       "      <td>247</td>\n",
       "      <td>NaN</td>\n",
       "      <td>4</td>\n",
       "    </tr>\n",
       "    <tr>\n",
       "      <th>2</th>\n",
       "      <td>99052948</td>\n",
       "      <td>0607FA</td>\n",
       "      <td>SR</td>\n",
       "      <td>Electr'l &amp; Computer Engr</td>\n",
       "      <td>NaN</td>\n",
       "      <td>AHS CAP SPR</td>\n",
       "      <td>1</td>\n",
       "      <td>AHS CapstoneSpring Pre-registration</td>\n",
       "      <td>NaN</td>\n",
       "      <td>Martello, Robert</td>\n",
       "      <td>AHS CapstoneSpring Pre-registration</td>\n",
       "      <td>AHS CAP SPR  0607FA</td>\n",
       "      <td>247</td>\n",
       "      <td>NaN</td>\n",
       "      <td>4</td>\n",
       "    </tr>\n",
       "    <tr>\n",
       "      <th>3</th>\n",
       "      <td>29826367</td>\n",
       "      <td>0607FA</td>\n",
       "      <td>SR</td>\n",
       "      <td>Mechanical Engineering</td>\n",
       "      <td>NaN</td>\n",
       "      <td>AHS CAP SPR</td>\n",
       "      <td>1</td>\n",
       "      <td>AHS CapstoneSpring Pre-registration</td>\n",
       "      <td>NaN</td>\n",
       "      <td>Martello, Robert</td>\n",
       "      <td>AHS CapstoneSpring Pre-registration</td>\n",
       "      <td>AHS CAP SPR  0607FA</td>\n",
       "      <td>247</td>\n",
       "      <td>NaN</td>\n",
       "      <td>4</td>\n",
       "    </tr>\n",
       "    <tr>\n",
       "      <th>4</th>\n",
       "      <td>91614816</td>\n",
       "      <td>0607FA</td>\n",
       "      <td>SR</td>\n",
       "      <td>Mechanical Engineering</td>\n",
       "      <td>NaN</td>\n",
       "      <td>AHS CAP SPR</td>\n",
       "      <td>1</td>\n",
       "      <td>AHS CapstoneSpring Pre-registration</td>\n",
       "      <td>NaN</td>\n",
       "      <td>Martello, Robert</td>\n",
       "      <td>AHS CapstoneSpring Pre-registration</td>\n",
       "      <td>AHS CAP SPR  0607FA</td>\n",
       "      <td>247</td>\n",
       "      <td>NaN</td>\n",
       "      <td>4</td>\n",
       "    </tr>\n",
       "  </tbody>\n",
       "</table>\n",
       "</div>"
      ],
      "text/plain": [
       "   studentid semester grade                     major   concentration  \\\n",
       "0   30876146   0708FA    SR               Engineering       Computing   \n",
       "1   23925034   0607FA    SR               Engineering  Bioengineering   \n",
       "2   99052948   0607FA    SR  Electr'l & Computer Engr             NaN   \n",
       "3   29826367   0607FA    SR    Mechanical Engineering             NaN   \n",
       "4   91614816   0607FA    SR    Mechanical Engineering             NaN   \n",
       "\n",
       "          code section                          coursetitle sectiontitle  \\\n",
       "0  AHS CAP SPR       1  AHS CapstoneSpring Pre-registration          NaN   \n",
       "1  AHS CAP SPR       1  AHS CapstoneSpring Pre-registration          NaN   \n",
       "2  AHS CAP SPR       1  AHS CapstoneSpring Pre-registration          NaN   \n",
       "3  AHS CAP SPR       1  AHS CapstoneSpring Pre-registration          NaN   \n",
       "4  AHS CAP SPR       1  AHS CapstoneSpring Pre-registration          NaN   \n",
       "\n",
       "          professor                  course-sectiontitle        code-semester  \\\n",
       "0    Lynch, Caitrin  AHS CapstoneSpring Pre-registration  AHS CAP SPR  0708FA   \n",
       "1  Martello, Robert  AHS CapstoneSpring Pre-registration  AHS CAP SPR  0607FA   \n",
       "2  Martello, Robert  AHS CapstoneSpring Pre-registration  AHS CAP SPR  0607FA   \n",
       "3  Martello, Robert  AHS CapstoneSpring Pre-registration  AHS CAP SPR  0607FA   \n",
       "4  Martello, Robert  AHS CapstoneSpring Pre-registration  AHS CAP SPR  0607FA   \n",
       "\n",
       "   Unnamed: 0 coursetype  numgrade  \n",
       "0         247        NaN         4  \n",
       "1         247        NaN         4  \n",
       "2         247        NaN         4  \n",
       "3         247        NaN         4  \n",
       "4         247        NaN         4  "
      ]
     },
     "execution_count": 3,
     "metadata": {},
     "output_type": "execute_result"
    }
   ],
   "source": [
    "data.head()"
   ]
  },
  {
   "cell_type": "code",
   "execution_count": 4,
   "metadata": {
    "collapsed": false
   },
   "outputs": [
    {
     "name": "stdout",
     "output_type": "stream",
     "text": [
      "<pandas.core.groupby.DataFrameGroupBy object at 0x7f8cf4bdd950>\n"
     ]
    }
   ],
   "source": [
    "courses = data.groupby('code')\n",
    "print courses"
   ]
  },
  {
   "cell_type": "code",
   "execution_count": 5,
   "metadata": {
    "collapsed": false
   },
   "outputs": [
    {
     "data": {
      "text/html": [
       "<div>\n",
       "<table border=\"1\" class=\"dataframe\">\n",
       "  <thead>\n",
       "    <tr style=\"text-align: right;\">\n",
       "      <th></th>\n",
       "      <th>1.0</th>\n",
       "      <th>2.0</th>\n",
       "      <th>3.0</th>\n",
       "      <th>4.0</th>\n",
       "    </tr>\n",
       "  </thead>\n",
       "  <tbody>\n",
       "    <tr>\n",
       "      <th>AHS CAP SPR</th>\n",
       "      <td>NaN</td>\n",
       "      <td>NaN</td>\n",
       "      <td>NaN</td>\n",
       "      <td>30</td>\n",
       "    </tr>\n",
       "    <tr>\n",
       "      <th>AHS1101</th>\n",
       "      <td>46</td>\n",
       "      <td>NaN</td>\n",
       "      <td>NaN</td>\n",
       "      <td>NaN</td>\n",
       "    </tr>\n",
       "    <tr>\n",
       "      <th>AHS1102</th>\n",
       "      <td>50</td>\n",
       "      <td>NaN</td>\n",
       "      <td>NaN</td>\n",
       "      <td>NaN</td>\n",
       "    </tr>\n",
       "    <tr>\n",
       "      <th>AHS1105</th>\n",
       "      <td>10</td>\n",
       "      <td>6</td>\n",
       "      <td>NaN</td>\n",
       "      <td>NaN</td>\n",
       "    </tr>\n",
       "    <tr>\n",
       "      <th>AHS1110</th>\n",
       "      <td>28</td>\n",
       "      <td>4</td>\n",
       "      <td>NaN</td>\n",
       "      <td>NaN</td>\n",
       "    </tr>\n",
       "  </tbody>\n",
       "</table>\n",
       "</div>"
      ],
      "text/plain": [
       "              1   2   3   4\n",
       "AHS CAP SPR NaN NaN NaN  30\n",
       "AHS1101      46 NaN NaN NaN\n",
       "AHS1102      50 NaN NaN NaN\n",
       "AHS1105      10   6 NaN NaN\n",
       "AHS1110      28   4 NaN NaN"
      ]
     },
     "execution_count": 5,
     "metadata": {},
     "output_type": "execute_result"
    }
   ],
   "source": [
    "coursed = {}\n",
    "for course in courses:\n",
    "    coursed[course[0]] = course[1].numgrade.value_counts()\n",
    "\n",
    "coursedf = pd.DataFrame(coursed)\n",
    "coursedf = coursedf.transpose()\n",
    "coursedf.head()"
   ]
  },
  {
   "cell_type": "code",
   "execution_count": 6,
   "metadata": {
    "collapsed": false
   },
   "outputs": [
    {
     "data": {
      "text/html": [
       "<div>\n",
       "<table border=\"1\" class=\"dataframe\">\n",
       "  <thead>\n",
       "    <tr style=\"text-align: right;\">\n",
       "      <th></th>\n",
       "      <th>1.0</th>\n",
       "      <th>2.0</th>\n",
       "      <th>3.0</th>\n",
       "      <th>4.0</th>\n",
       "      <th>total_students</th>\n",
       "      <th>mean_grade</th>\n",
       "      <th>dev1.0</th>\n",
       "      <th>dev2.0</th>\n",
       "      <th>dev3.0</th>\n",
       "      <th>dev4.0</th>\n",
       "      <th>standard_dev</th>\n",
       "    </tr>\n",
       "  </thead>\n",
       "  <tbody>\n",
       "    <tr>\n",
       "      <th>AHS CAP SPR</th>\n",
       "      <td>NaN</td>\n",
       "      <td>NaN</td>\n",
       "      <td>NaN</td>\n",
       "      <td>30</td>\n",
       "      <td>30</td>\n",
       "      <td>4.000000</td>\n",
       "      <td>NaN</td>\n",
       "      <td>NaN</td>\n",
       "      <td>NaN</td>\n",
       "      <td>0.000000</td>\n",
       "      <td>0.000000</td>\n",
       "    </tr>\n",
       "    <tr>\n",
       "      <th>AHS1101</th>\n",
       "      <td>46</td>\n",
       "      <td>NaN</td>\n",
       "      <td>NaN</td>\n",
       "      <td>NaN</td>\n",
       "      <td>46</td>\n",
       "      <td>1.000000</td>\n",
       "      <td>0.000000</td>\n",
       "      <td>NaN</td>\n",
       "      <td>NaN</td>\n",
       "      <td>NaN</td>\n",
       "      <td>0.000000</td>\n",
       "    </tr>\n",
       "    <tr>\n",
       "      <th>AHS1102</th>\n",
       "      <td>50</td>\n",
       "      <td>NaN</td>\n",
       "      <td>NaN</td>\n",
       "      <td>NaN</td>\n",
       "      <td>50</td>\n",
       "      <td>1.000000</td>\n",
       "      <td>0.000000</td>\n",
       "      <td>NaN</td>\n",
       "      <td>NaN</td>\n",
       "      <td>NaN</td>\n",
       "      <td>0.000000</td>\n",
       "    </tr>\n",
       "    <tr>\n",
       "      <th>AHS1105</th>\n",
       "      <td>10</td>\n",
       "      <td>6</td>\n",
       "      <td>NaN</td>\n",
       "      <td>NaN</td>\n",
       "      <td>16</td>\n",
       "      <td>1.375000</td>\n",
       "      <td>1.406250</td>\n",
       "      <td>2.343750</td>\n",
       "      <td>NaN</td>\n",
       "      <td>NaN</td>\n",
       "      <td>0.234375</td>\n",
       "    </tr>\n",
       "    <tr>\n",
       "      <th>AHS1110</th>\n",
       "      <td>28</td>\n",
       "      <td>4</td>\n",
       "      <td>NaN</td>\n",
       "      <td>NaN</td>\n",
       "      <td>32</td>\n",
       "      <td>1.125000</td>\n",
       "      <td>0.437500</td>\n",
       "      <td>3.062500</td>\n",
       "      <td>NaN</td>\n",
       "      <td>NaN</td>\n",
       "      <td>0.109375</td>\n",
       "    </tr>\n",
       "    <tr>\n",
       "      <th>AHS1111</th>\n",
       "      <td>8</td>\n",
       "      <td>3</td>\n",
       "      <td>1</td>\n",
       "      <td>NaN</td>\n",
       "      <td>12</td>\n",
       "      <td>1.416667</td>\n",
       "      <td>1.388889</td>\n",
       "      <td>1.020833</td>\n",
       "      <td>2.506944</td>\n",
       "      <td>NaN</td>\n",
       "      <td>0.409722</td>\n",
       "    </tr>\n",
       "    <tr>\n",
       "      <th>AHS1120</th>\n",
       "      <td>18</td>\n",
       "      <td>4</td>\n",
       "      <td>NaN</td>\n",
       "      <td>NaN</td>\n",
       "      <td>22</td>\n",
       "      <td>1.181818</td>\n",
       "      <td>0.595041</td>\n",
       "      <td>2.677686</td>\n",
       "      <td>NaN</td>\n",
       "      <td>NaN</td>\n",
       "      <td>0.148760</td>\n",
       "    </tr>\n",
       "    <tr>\n",
       "      <th>AHS1122</th>\n",
       "      <td>9</td>\n",
       "      <td>6</td>\n",
       "      <td>NaN</td>\n",
       "      <td>NaN</td>\n",
       "      <td>15</td>\n",
       "      <td>1.400000</td>\n",
       "      <td>1.440000</td>\n",
       "      <td>2.160000</td>\n",
       "      <td>NaN</td>\n",
       "      <td>NaN</td>\n",
       "      <td>0.240000</td>\n",
       "    </tr>\n",
       "    <tr>\n",
       "      <th>AHS1130</th>\n",
       "      <td>18</td>\n",
       "      <td>2</td>\n",
       "      <td>NaN</td>\n",
       "      <td>NaN</td>\n",
       "      <td>20</td>\n",
       "      <td>1.100000</td>\n",
       "      <td>0.180000</td>\n",
       "      <td>1.620000</td>\n",
       "      <td>NaN</td>\n",
       "      <td>NaN</td>\n",
       "      <td>0.090000</td>\n",
       "    </tr>\n",
       "    <tr>\n",
       "      <th>AHS1140</th>\n",
       "      <td>7</td>\n",
       "      <td>NaN</td>\n",
       "      <td>NaN</td>\n",
       "      <td>NaN</td>\n",
       "      <td>7</td>\n",
       "      <td>1.000000</td>\n",
       "      <td>0.000000</td>\n",
       "      <td>NaN</td>\n",
       "      <td>NaN</td>\n",
       "      <td>NaN</td>\n",
       "      <td>0.000000</td>\n",
       "    </tr>\n",
       "    <tr>\n",
       "      <th>AHS1150</th>\n",
       "      <td>23</td>\n",
       "      <td>5</td>\n",
       "      <td>1</td>\n",
       "      <td>NaN</td>\n",
       "      <td>29</td>\n",
       "      <td>1.241379</td>\n",
       "      <td>1.340071</td>\n",
       "      <td>2.877527</td>\n",
       "      <td>3.092747</td>\n",
       "      <td>NaN</td>\n",
       "      <td>0.252081</td>\n",
       "    </tr>\n",
       "    <tr>\n",
       "      <th>AHS2110</th>\n",
       "      <td>NaN</td>\n",
       "      <td>22</td>\n",
       "      <td>NaN</td>\n",
       "      <td>NaN</td>\n",
       "      <td>22</td>\n",
       "      <td>2.000000</td>\n",
       "      <td>NaN</td>\n",
       "      <td>0.000000</td>\n",
       "      <td>NaN</td>\n",
       "      <td>NaN</td>\n",
       "      <td>0.000000</td>\n",
       "    </tr>\n",
       "    <tr>\n",
       "      <th>AHSE0112</th>\n",
       "      <td>155</td>\n",
       "      <td>94</td>\n",
       "      <td>53</td>\n",
       "      <td>53</td>\n",
       "      <td>355</td>\n",
       "      <td>2.011268</td>\n",
       "      <td>158.512636</td>\n",
       "      <td>0.011934</td>\n",
       "      <td>51.812363</td>\n",
       "      <td>209.617996</td>\n",
       "      <td>1.182972</td>\n",
       "    </tr>\n",
       "    <tr>\n",
       "      <th>AHSE1100</th>\n",
       "      <td>180</td>\n",
       "      <td>1</td>\n",
       "      <td>1</td>\n",
       "      <td>NaN</td>\n",
       "      <td>182</td>\n",
       "      <td>1.016484</td>\n",
       "      <td>0.048907</td>\n",
       "      <td>0.967305</td>\n",
       "      <td>3.934338</td>\n",
       "      <td>NaN</td>\n",
       "      <td>0.027201</td>\n",
       "    </tr>\n",
       "    <tr>\n",
       "      <th>AHSE1101</th>\n",
       "      <td>25</td>\n",
       "      <td>NaN</td>\n",
       "      <td>NaN</td>\n",
       "      <td>NaN</td>\n",
       "      <td>25</td>\n",
       "      <td>1.000000</td>\n",
       "      <td>0.000000</td>\n",
       "      <td>NaN</td>\n",
       "      <td>NaN</td>\n",
       "      <td>NaN</td>\n",
       "      <td>0.000000</td>\n",
       "    </tr>\n",
       "    <tr>\n",
       "      <th>AHSE1102</th>\n",
       "      <td>27</td>\n",
       "      <td>NaN</td>\n",
       "      <td>NaN</td>\n",
       "      <td>NaN</td>\n",
       "      <td>27</td>\n",
       "      <td>1.000000</td>\n",
       "      <td>0.000000</td>\n",
       "      <td>NaN</td>\n",
       "      <td>NaN</td>\n",
       "      <td>NaN</td>\n",
       "      <td>0.000000</td>\n",
       "    </tr>\n",
       "    <tr>\n",
       "      <th>AHSE1122</th>\n",
       "      <td>165</td>\n",
       "      <td>2</td>\n",
       "      <td>NaN</td>\n",
       "      <td>1</td>\n",
       "      <td>168</td>\n",
       "      <td>1.029762</td>\n",
       "      <td>0.146152</td>\n",
       "      <td>1.882724</td>\n",
       "      <td>NaN</td>\n",
       "      <td>8.822314</td>\n",
       "      <td>0.064590</td>\n",
       "    </tr>\n",
       "    <tr>\n",
       "      <th>AHSE1130</th>\n",
       "      <td>49</td>\n",
       "      <td>1</td>\n",
       "      <td>1</td>\n",
       "      <td>NaN</td>\n",
       "      <td>51</td>\n",
       "      <td>1.058824</td>\n",
       "      <td>0.169550</td>\n",
       "      <td>0.885813</td>\n",
       "      <td>3.768166</td>\n",
       "      <td>NaN</td>\n",
       "      <td>0.094579</td>\n",
       "    </tr>\n",
       "    <tr>\n",
       "      <th>AHSE1135</th>\n",
       "      <td>25</td>\n",
       "      <td>1</td>\n",
       "      <td>NaN</td>\n",
       "      <td>NaN</td>\n",
       "      <td>26</td>\n",
       "      <td>1.038462</td>\n",
       "      <td>0.036982</td>\n",
       "      <td>0.924556</td>\n",
       "      <td>NaN</td>\n",
       "      <td>NaN</td>\n",
       "      <td>0.036982</td>\n",
       "    </tr>\n",
       "    <tr>\n",
       "      <th>AHSE1140</th>\n",
       "      <td>37</td>\n",
       "      <td>NaN</td>\n",
       "      <td>NaN</td>\n",
       "      <td>NaN</td>\n",
       "      <td>37</td>\n",
       "      <td>1.000000</td>\n",
       "      <td>0.000000</td>\n",
       "      <td>NaN</td>\n",
       "      <td>NaN</td>\n",
       "      <td>NaN</td>\n",
       "      <td>0.000000</td>\n",
       "    </tr>\n",
       "    <tr>\n",
       "      <th>AHSE1145</th>\n",
       "      <td>52</td>\n",
       "      <td>1</td>\n",
       "      <td>NaN</td>\n",
       "      <td>NaN</td>\n",
       "      <td>53</td>\n",
       "      <td>1.018868</td>\n",
       "      <td>0.018512</td>\n",
       "      <td>0.962620</td>\n",
       "      <td>NaN</td>\n",
       "      <td>NaN</td>\n",
       "      <td>0.018512</td>\n",
       "    </tr>\n",
       "    <tr>\n",
       "      <th>AHSE1150</th>\n",
       "      <td>41</td>\n",
       "      <td>2</td>\n",
       "      <td>NaN</td>\n",
       "      <td>NaN</td>\n",
       "      <td>43</td>\n",
       "      <td>1.046512</td>\n",
       "      <td>0.088697</td>\n",
       "      <td>1.818280</td>\n",
       "      <td>NaN</td>\n",
       "      <td>NaN</td>\n",
       "      <td>0.044348</td>\n",
       "    </tr>\n",
       "    <tr>\n",
       "      <th>AHSE1155</th>\n",
       "      <td>84</td>\n",
       "      <td>3</td>\n",
       "      <td>NaN</td>\n",
       "      <td>3</td>\n",
       "      <td>90</td>\n",
       "      <td>1.133333</td>\n",
       "      <td>1.493333</td>\n",
       "      <td>2.253333</td>\n",
       "      <td>NaN</td>\n",
       "      <td>24.653333</td>\n",
       "      <td>0.315556</td>\n",
       "    </tr>\n",
       "    <tr>\n",
       "      <th>AHSE1199</th>\n",
       "      <td>316</td>\n",
       "      <td>1</td>\n",
       "      <td>1</td>\n",
       "      <td>1</td>\n",
       "      <td>319</td>\n",
       "      <td>1.018809</td>\n",
       "      <td>0.111791</td>\n",
       "      <td>0.962736</td>\n",
       "      <td>3.925119</td>\n",
       "      <td>8.887501</td>\n",
       "      <td>0.043533</td>\n",
       "    </tr>\n",
       "    <tr>\n",
       "      <th>AHSE11BA</th>\n",
       "      <td>NaN</td>\n",
       "      <td>1</td>\n",
       "      <td>NaN</td>\n",
       "      <td>NaN</td>\n",
       "      <td>1</td>\n",
       "      <td>2.000000</td>\n",
       "      <td>NaN</td>\n",
       "      <td>0.000000</td>\n",
       "      <td>NaN</td>\n",
       "      <td>NaN</td>\n",
       "      <td>0.000000</td>\n",
       "    </tr>\n",
       "    <tr>\n",
       "      <th>AHSE1500</th>\n",
       "      <td>331</td>\n",
       "      <td>309</td>\n",
       "      <td>76</td>\n",
       "      <td>30</td>\n",
       "      <td>746</td>\n",
       "      <td>1.738606</td>\n",
       "      <td>180.573301</td>\n",
       "      <td>21.113005</td>\n",
       "      <td>120.924746</td>\n",
       "      <td>153.417099</td>\n",
       "      <td>0.638107</td>\n",
       "    </tr>\n",
       "    <tr>\n",
       "      <th>AHSE1515</th>\n",
       "      <td>166</td>\n",
       "      <td>15</td>\n",
       "      <td>23</td>\n",
       "      <td>7</td>\n",
       "      <td>211</td>\n",
       "      <td>1.388626</td>\n",
       "      <td>25.070955</td>\n",
       "      <td>5.606680</td>\n",
       "      <td>59.720132</td>\n",
       "      <td>47.734934</td>\n",
       "      <td>0.654657</td>\n",
       "    </tr>\n",
       "    <tr>\n",
       "      <th>AHSE1599</th>\n",
       "      <td>NaN</td>\n",
       "      <td>19</td>\n",
       "      <td>5</td>\n",
       "      <td>4</td>\n",
       "      <td>28</td>\n",
       "      <td>2.464286</td>\n",
       "      <td>NaN</td>\n",
       "      <td>4.095663</td>\n",
       "      <td>1.434949</td>\n",
       "      <td>9.433673</td>\n",
       "      <td>0.534439</td>\n",
       "    </tr>\n",
       "    <tr>\n",
       "      <th>AHSE2110</th>\n",
       "      <td>51</td>\n",
       "      <td>105</td>\n",
       "      <td>21</td>\n",
       "      <td>7</td>\n",
       "      <td>184</td>\n",
       "      <td>1.913043</td>\n",
       "      <td>42.516068</td>\n",
       "      <td>0.793951</td>\n",
       "      <td>24.810964</td>\n",
       "      <td>30.487713</td>\n",
       "      <td>0.535917</td>\n",
       "    </tr>\n",
       "    <tr>\n",
       "      <th>AHSE2112</th>\n",
       "      <td>5</td>\n",
       "      <td>13</td>\n",
       "      <td>32</td>\n",
       "      <td>28</td>\n",
       "      <td>78</td>\n",
       "      <td>3.064103</td>\n",
       "      <td>21.302597</td>\n",
       "      <td>14.720085</td>\n",
       "      <td>0.131492</td>\n",
       "      <td>24.525312</td>\n",
       "      <td>0.777942</td>\n",
       "    </tr>\n",
       "    <tr>\n",
       "      <th>...</th>\n",
       "      <td>...</td>\n",
       "      <td>...</td>\n",
       "      <td>...</td>\n",
       "      <td>...</td>\n",
       "      <td>...</td>\n",
       "      <td>...</td>\n",
       "      <td>...</td>\n",
       "      <td>...</td>\n",
       "      <td>...</td>\n",
       "      <td>...</td>\n",
       "      <td>...</td>\n",
       "    </tr>\n",
       "    <tr>\n",
       "      <th>ENG1510</th>\n",
       "      <td>11</td>\n",
       "      <td>10</td>\n",
       "      <td>4</td>\n",
       "      <td>NaN</td>\n",
       "      <td>25</td>\n",
       "      <td>1.720000</td>\n",
       "      <td>5.702400</td>\n",
       "      <td>0.784000</td>\n",
       "      <td>6.553600</td>\n",
       "      <td>NaN</td>\n",
       "      <td>0.521600</td>\n",
       "    </tr>\n",
       "    <tr>\n",
       "      <th>ENGR0097</th>\n",
       "      <td>74</td>\n",
       "      <td>190</td>\n",
       "      <td>126</td>\n",
       "      <td>107</td>\n",
       "      <td>497</td>\n",
       "      <td>2.535211</td>\n",
       "      <td>174.408649</td>\n",
       "      <td>54.425709</td>\n",
       "      <td>27.219599</td>\n",
       "      <td>229.579845</td>\n",
       "      <td>0.977130</td>\n",
       "    </tr>\n",
       "    <tr>\n",
       "      <th>ENGR0098</th>\n",
       "      <td>49</td>\n",
       "      <td>64</td>\n",
       "      <td>44</td>\n",
       "      <td>79</td>\n",
       "      <td>236</td>\n",
       "      <td>2.648305</td>\n",
       "      <td>133.128573</td>\n",
       "      <td>26.899167</td>\n",
       "      <td>5.442330</td>\n",
       "      <td>144.339252</td>\n",
       "      <td>1.312751</td>\n",
       "    </tr>\n",
       "    <tr>\n",
       "      <th>ENGR0098X</th>\n",
       "      <td>NaN</td>\n",
       "      <td>21</td>\n",
       "      <td>5</td>\n",
       "      <td>8</td>\n",
       "      <td>34</td>\n",
       "      <td>2.617647</td>\n",
       "      <td>NaN</td>\n",
       "      <td>8.011246</td>\n",
       "      <td>0.730969</td>\n",
       "      <td>15.287197</td>\n",
       "      <td>0.706747</td>\n",
       "    </tr>\n",
       "    <tr>\n",
       "      <th>ENGR1097</th>\n",
       "      <td>NaN</td>\n",
       "      <td>9</td>\n",
       "      <td>4</td>\n",
       "      <td>NaN</td>\n",
       "      <td>13</td>\n",
       "      <td>2.307692</td>\n",
       "      <td>NaN</td>\n",
       "      <td>0.852071</td>\n",
       "      <td>1.917160</td>\n",
       "      <td>NaN</td>\n",
       "      <td>0.213018</td>\n",
       "    </tr>\n",
       "    <tr>\n",
       "      <th>ENGR1110</th>\n",
       "      <td>832</td>\n",
       "      <td>1</td>\n",
       "      <td>2</td>\n",
       "      <td>NaN</td>\n",
       "      <td>835</td>\n",
       "      <td>1.005988</td>\n",
       "      <td>0.029833</td>\n",
       "      <td>0.988060</td>\n",
       "      <td>7.952168</td>\n",
       "      <td>NaN</td>\n",
       "      <td>0.010743</td>\n",
       "    </tr>\n",
       "    <tr>\n",
       "      <th>ENGR1120</th>\n",
       "      <td>453</td>\n",
       "      <td>26</td>\n",
       "      <td>NaN</td>\n",
       "      <td>NaN</td>\n",
       "      <td>479</td>\n",
       "      <td>1.054280</td>\n",
       "      <td>1.334670</td>\n",
       "      <td>23.254057</td>\n",
       "      <td>NaN</td>\n",
       "      <td>NaN</td>\n",
       "      <td>0.051333</td>\n",
       "    </tr>\n",
       "    <tr>\n",
       "      <th>ENGR1121</th>\n",
       "      <td>335</td>\n",
       "      <td>6</td>\n",
       "      <td>NaN</td>\n",
       "      <td>NaN</td>\n",
       "      <td>341</td>\n",
       "      <td>1.017595</td>\n",
       "      <td>0.103714</td>\n",
       "      <td>5.790714</td>\n",
       "      <td>NaN</td>\n",
       "      <td>NaN</td>\n",
       "      <td>0.017286</td>\n",
       "    </tr>\n",
       "    <tr>\n",
       "      <th>ENGR1125</th>\n",
       "      <td>169</td>\n",
       "      <td>NaN</td>\n",
       "      <td>2</td>\n",
       "      <td>NaN</td>\n",
       "      <td>171</td>\n",
       "      <td>1.023392</td>\n",
       "      <td>0.092473</td>\n",
       "      <td>NaN</td>\n",
       "      <td>7.813960</td>\n",
       "      <td>NaN</td>\n",
       "      <td>0.046236</td>\n",
       "    </tr>\n",
       "    <tr>\n",
       "      <th>ENGR1199</th>\n",
       "      <td>12</td>\n",
       "      <td>16</td>\n",
       "      <td>6</td>\n",
       "      <td>3</td>\n",
       "      <td>37</td>\n",
       "      <td>2.000000</td>\n",
       "      <td>12.000000</td>\n",
       "      <td>0.000000</td>\n",
       "      <td>6.000000</td>\n",
       "      <td>12.000000</td>\n",
       "      <td>0.810811</td>\n",
       "    </tr>\n",
       "    <tr>\n",
       "      <th>ENGR1199A</th>\n",
       "      <td>12</td>\n",
       "      <td>2</td>\n",
       "      <td>NaN</td>\n",
       "      <td>NaN</td>\n",
       "      <td>14</td>\n",
       "      <td>1.142857</td>\n",
       "      <td>0.244898</td>\n",
       "      <td>1.469388</td>\n",
       "      <td>NaN</td>\n",
       "      <td>NaN</td>\n",
       "      <td>0.122449</td>\n",
       "    </tr>\n",
       "    <tr>\n",
       "      <th>ENGR1200</th>\n",
       "      <td>999</td>\n",
       "      <td>NaN</td>\n",
       "      <td>NaN</td>\n",
       "      <td>NaN</td>\n",
       "      <td>999</td>\n",
       "      <td>1.000000</td>\n",
       "      <td>0.000000</td>\n",
       "      <td>NaN</td>\n",
       "      <td>NaN</td>\n",
       "      <td>NaN</td>\n",
       "      <td>0.000000</td>\n",
       "    </tr>\n",
       "    <tr>\n",
       "      <th>ENGR1330</th>\n",
       "      <td>NaN</td>\n",
       "      <td>13</td>\n",
       "      <td>56</td>\n",
       "      <td>3</td>\n",
       "      <td>72</td>\n",
       "      <td>2.861111</td>\n",
       "      <td>NaN</td>\n",
       "      <td>9.639660</td>\n",
       "      <td>1.080247</td>\n",
       "      <td>3.891204</td>\n",
       "      <td>0.202932</td>\n",
       "    </tr>\n",
       "    <tr>\n",
       "      <th>ENGR1510</th>\n",
       "      <td>99</td>\n",
       "      <td>2</td>\n",
       "      <td>NaN</td>\n",
       "      <td>NaN</td>\n",
       "      <td>101</td>\n",
       "      <td>1.019802</td>\n",
       "      <td>0.038820</td>\n",
       "      <td>1.921576</td>\n",
       "      <td>NaN</td>\n",
       "      <td>NaN</td>\n",
       "      <td>0.019410</td>\n",
       "    </tr>\n",
       "    <tr>\n",
       "      <th>ENGR2141</th>\n",
       "      <td>20</td>\n",
       "      <td>1</td>\n",
       "      <td>2</td>\n",
       "      <td>NaN</td>\n",
       "      <td>23</td>\n",
       "      <td>1.217391</td>\n",
       "      <td>0.945180</td>\n",
       "      <td>0.612476</td>\n",
       "      <td>6.355388</td>\n",
       "      <td>NaN</td>\n",
       "      <td>0.344045</td>\n",
       "    </tr>\n",
       "    <tr>\n",
       "      <th>ENGR2199</th>\n",
       "      <td>23</td>\n",
       "      <td>17</td>\n",
       "      <td>4</td>\n",
       "      <td>7</td>\n",
       "      <td>51</td>\n",
       "      <td>1.901961</td>\n",
       "      <td>18.711265</td>\n",
       "      <td>0.163399</td>\n",
       "      <td>4.822760</td>\n",
       "      <td>30.812380</td>\n",
       "      <td>1.068820</td>\n",
       "    </tr>\n",
       "    <tr>\n",
       "      <th>ENGR2199A</th>\n",
       "      <td>7</td>\n",
       "      <td>16</td>\n",
       "      <td>7</td>\n",
       "      <td>6</td>\n",
       "      <td>36</td>\n",
       "      <td>2.333333</td>\n",
       "      <td>12.444444</td>\n",
       "      <td>1.777778</td>\n",
       "      <td>3.111111</td>\n",
       "      <td>16.666667</td>\n",
       "      <td>0.944444</td>\n",
       "    </tr>\n",
       "    <tr>\n",
       "      <th>ENGR2199B</th>\n",
       "      <td>3</td>\n",
       "      <td>14</td>\n",
       "      <td>7</td>\n",
       "      <td>3</td>\n",
       "      <td>27</td>\n",
       "      <td>2.370370</td>\n",
       "      <td>5.633745</td>\n",
       "      <td>1.920439</td>\n",
       "      <td>2.775034</td>\n",
       "      <td>7.967078</td>\n",
       "      <td>0.677641</td>\n",
       "    </tr>\n",
       "    <tr>\n",
       "      <th>ENGR2199C</th>\n",
       "      <td>2</td>\n",
       "      <td>11</td>\n",
       "      <td>10</td>\n",
       "      <td>5</td>\n",
       "      <td>28</td>\n",
       "      <td>2.642857</td>\n",
       "      <td>5.397959</td>\n",
       "      <td>4.545918</td>\n",
       "      <td>1.275510</td>\n",
       "      <td>9.209184</td>\n",
       "      <td>0.729592</td>\n",
       "    </tr>\n",
       "    <tr>\n",
       "      <th>ENGR2210</th>\n",
       "      <td>87</td>\n",
       "      <td>701</td>\n",
       "      <td>126</td>\n",
       "      <td>28</td>\n",
       "      <td>942</td>\n",
       "      <td>2.100849</td>\n",
       "      <td>105.432611</td>\n",
       "      <td>7.129571</td>\n",
       "      <td>101.867479</td>\n",
       "      <td>100.989659</td>\n",
       "      <td>0.334840</td>\n",
       "    </tr>\n",
       "    <tr>\n",
       "      <th>ENGR2250</th>\n",
       "      <td>1</td>\n",
       "      <td>891</td>\n",
       "      <td>69</td>\n",
       "      <td>1</td>\n",
       "      <td>962</td>\n",
       "      <td>2.072765</td>\n",
       "      <td>1.150825</td>\n",
       "      <td>4.717627</td>\n",
       "      <td>59.323758</td>\n",
       "      <td>3.714234</td>\n",
       "      <td>0.071628</td>\n",
       "    </tr>\n",
       "    <tr>\n",
       "      <th>ENGR2299</th>\n",
       "      <td>NaN</td>\n",
       "      <td>2</td>\n",
       "      <td>1</td>\n",
       "      <td>4</td>\n",
       "      <td>7</td>\n",
       "      <td>3.285714</td>\n",
       "      <td>NaN</td>\n",
       "      <td>3.306122</td>\n",
       "      <td>0.081633</td>\n",
       "      <td>2.040816</td>\n",
       "      <td>0.775510</td>\n",
       "    </tr>\n",
       "    <tr>\n",
       "      <th>ENGR2320</th>\n",
       "      <td>3</td>\n",
       "      <td>199</td>\n",
       "      <td>67</td>\n",
       "      <td>13</td>\n",
       "      <td>282</td>\n",
       "      <td>2.319149</td>\n",
       "      <td>5.220462</td>\n",
       "      <td>20.269353</td>\n",
       "      <td>31.058397</td>\n",
       "      <td>36.728384</td>\n",
       "      <td>0.330768</td>\n",
       "    </tr>\n",
       "    <tr>\n",
       "      <th>ENGR2330</th>\n",
       "      <td>55</td>\n",
       "      <td>60</td>\n",
       "      <td>39</td>\n",
       "      <td>15</td>\n",
       "      <td>169</td>\n",
       "      <td>2.082840</td>\n",
       "      <td>64.489864</td>\n",
       "      <td>0.411750</td>\n",
       "      <td>32.806099</td>\n",
       "      <td>55.132523</td>\n",
       "      <td>0.904380</td>\n",
       "    </tr>\n",
       "    <tr>\n",
       "      <th>ENGR2340</th>\n",
       "      <td>5</td>\n",
       "      <td>134</td>\n",
       "      <td>91</td>\n",
       "      <td>28</td>\n",
       "      <td>258</td>\n",
       "      <td>2.550388</td>\n",
       "      <td>12.018509</td>\n",
       "      <td>40.592152</td>\n",
       "      <td>18.395769</td>\n",
       "      <td>58.838531</td>\n",
       "      <td>0.503275</td>\n",
       "    </tr>\n",
       "    <tr>\n",
       "      <th>ENGR2350</th>\n",
       "      <td>9</td>\n",
       "      <td>110</td>\n",
       "      <td>80</td>\n",
       "      <td>41</td>\n",
       "      <td>240</td>\n",
       "      <td>2.637500</td>\n",
       "      <td>24.132656</td>\n",
       "      <td>44.704688</td>\n",
       "      <td>10.512500</td>\n",
       "      <td>76.112656</td>\n",
       "      <td>0.647760</td>\n",
       "    </tr>\n",
       "    <tr>\n",
       "      <th>ENGR2410</th>\n",
       "      <td>10</td>\n",
       "      <td>296</td>\n",
       "      <td>61</td>\n",
       "      <td>10</td>\n",
       "      <td>377</td>\n",
       "      <td>2.188329</td>\n",
       "      <td>14.121256</td>\n",
       "      <td>10.498463</td>\n",
       "      <td>40.187407</td>\n",
       "      <td>32.821521</td>\n",
       "      <td>0.258962</td>\n",
       "    </tr>\n",
       "    <tr>\n",
       "      <th>ENGR2420</th>\n",
       "      <td>1</td>\n",
       "      <td>136</td>\n",
       "      <td>113</td>\n",
       "      <td>42</td>\n",
       "      <td>292</td>\n",
       "      <td>2.671233</td>\n",
       "      <td>2.793019</td>\n",
       "      <td>61.275286</td>\n",
       "      <td>12.213924</td>\n",
       "      <td>74.156127</td>\n",
       "      <td>0.515200</td>\n",
       "    </tr>\n",
       "    <tr>\n",
       "      <th>ENGR2420 L</th>\n",
       "      <td>NaN</td>\n",
       "      <td>42</td>\n",
       "      <td>34</td>\n",
       "      <td>17</td>\n",
       "      <td>93</td>\n",
       "      <td>2.731183</td>\n",
       "      <td>NaN</td>\n",
       "      <td>22.454388</td>\n",
       "      <td>2.456931</td>\n",
       "      <td>27.368251</td>\n",
       "      <td>0.562146</td>\n",
       "    </tr>\n",
       "    <tr>\n",
       "      <th>ENGR2510</th>\n",
       "      <td>344</td>\n",
       "      <td>245</td>\n",
       "      <td>74</td>\n",
       "      <td>27</td>\n",
       "      <td>690</td>\n",
       "      <td>1.686957</td>\n",
       "      <td>162.336786</td>\n",
       "      <td>24.009074</td>\n",
       "      <td>127.582155</td>\n",
       "      <td>144.454594</td>\n",
       "      <td>0.664323</td>\n",
       "    </tr>\n",
       "  </tbody>\n",
       "</table>\n",
       "<p>100 rows × 11 columns</p>\n",
       "</div>"
      ],
      "text/plain": [
       "             1.0  2.0  3.0  4.0  total_students  mean_grade      dev1.0  \\\n",
       "AHS CAP SPR  NaN  NaN  NaN   30              30    4.000000         NaN   \n",
       "AHS1101       46  NaN  NaN  NaN              46    1.000000    0.000000   \n",
       "AHS1102       50  NaN  NaN  NaN              50    1.000000    0.000000   \n",
       "AHS1105       10    6  NaN  NaN              16    1.375000    1.406250   \n",
       "AHS1110       28    4  NaN  NaN              32    1.125000    0.437500   \n",
       "AHS1111        8    3    1  NaN              12    1.416667    1.388889   \n",
       "AHS1120       18    4  NaN  NaN              22    1.181818    0.595041   \n",
       "AHS1122        9    6  NaN  NaN              15    1.400000    1.440000   \n",
       "AHS1130       18    2  NaN  NaN              20    1.100000    0.180000   \n",
       "AHS1140        7  NaN  NaN  NaN               7    1.000000    0.000000   \n",
       "AHS1150       23    5    1  NaN              29    1.241379    1.340071   \n",
       "AHS2110      NaN   22  NaN  NaN              22    2.000000         NaN   \n",
       "AHSE0112     155   94   53   53             355    2.011268  158.512636   \n",
       "AHSE1100     180    1    1  NaN             182    1.016484    0.048907   \n",
       "AHSE1101      25  NaN  NaN  NaN              25    1.000000    0.000000   \n",
       "AHSE1102      27  NaN  NaN  NaN              27    1.000000    0.000000   \n",
       "AHSE1122     165    2  NaN    1             168    1.029762    0.146152   \n",
       "AHSE1130      49    1    1  NaN              51    1.058824    0.169550   \n",
       "AHSE1135      25    1  NaN  NaN              26    1.038462    0.036982   \n",
       "AHSE1140      37  NaN  NaN  NaN              37    1.000000    0.000000   \n",
       "AHSE1145      52    1  NaN  NaN              53    1.018868    0.018512   \n",
       "AHSE1150      41    2  NaN  NaN              43    1.046512    0.088697   \n",
       "AHSE1155      84    3  NaN    3              90    1.133333    1.493333   \n",
       "AHSE1199     316    1    1    1             319    1.018809    0.111791   \n",
       "AHSE11BA     NaN    1  NaN  NaN               1    2.000000         NaN   \n",
       "AHSE1500     331  309   76   30             746    1.738606  180.573301   \n",
       "AHSE1515     166   15   23    7             211    1.388626   25.070955   \n",
       "AHSE1599     NaN   19    5    4              28    2.464286         NaN   \n",
       "AHSE2110      51  105   21    7             184    1.913043   42.516068   \n",
       "AHSE2112       5   13   32   28              78    3.064103   21.302597   \n",
       "...          ...  ...  ...  ...             ...         ...         ...   \n",
       "ENG1510       11   10    4  NaN              25    1.720000    5.702400   \n",
       "ENGR0097      74  190  126  107             497    2.535211  174.408649   \n",
       "ENGR0098      49   64   44   79             236    2.648305  133.128573   \n",
       "ENGR0098X    NaN   21    5    8              34    2.617647         NaN   \n",
       "ENGR1097     NaN    9    4  NaN              13    2.307692         NaN   \n",
       "ENGR1110     832    1    2  NaN             835    1.005988    0.029833   \n",
       "ENGR1120     453   26  NaN  NaN             479    1.054280    1.334670   \n",
       "ENGR1121     335    6  NaN  NaN             341    1.017595    0.103714   \n",
       "ENGR1125     169  NaN    2  NaN             171    1.023392    0.092473   \n",
       "ENGR1199      12   16    6    3              37    2.000000   12.000000   \n",
       "ENGR1199A     12    2  NaN  NaN              14    1.142857    0.244898   \n",
       "ENGR1200     999  NaN  NaN  NaN             999    1.000000    0.000000   \n",
       "ENGR1330     NaN   13   56    3              72    2.861111         NaN   \n",
       "ENGR1510      99    2  NaN  NaN             101    1.019802    0.038820   \n",
       "ENGR2141      20    1    2  NaN              23    1.217391    0.945180   \n",
       "ENGR2199      23   17    4    7              51    1.901961   18.711265   \n",
       "ENGR2199A      7   16    7    6              36    2.333333   12.444444   \n",
       "ENGR2199B      3   14    7    3              27    2.370370    5.633745   \n",
       "ENGR2199C      2   11   10    5              28    2.642857    5.397959   \n",
       "ENGR2210      87  701  126   28             942    2.100849  105.432611   \n",
       "ENGR2250       1  891   69    1             962    2.072765    1.150825   \n",
       "ENGR2299     NaN    2    1    4               7    3.285714         NaN   \n",
       "ENGR2320       3  199   67   13             282    2.319149    5.220462   \n",
       "ENGR2330      55   60   39   15             169    2.082840   64.489864   \n",
       "ENGR2340       5  134   91   28             258    2.550388   12.018509   \n",
       "ENGR2350       9  110   80   41             240    2.637500   24.132656   \n",
       "ENGR2410      10  296   61   10             377    2.188329   14.121256   \n",
       "ENGR2420       1  136  113   42             292    2.671233    2.793019   \n",
       "ENGR2420 L   NaN   42   34   17              93    2.731183         NaN   \n",
       "ENGR2510     344  245   74   27             690    1.686957  162.336786   \n",
       "\n",
       "                dev2.0      dev3.0      dev4.0  standard_dev  \n",
       "AHS CAP SPR        NaN         NaN    0.000000      0.000000  \n",
       "AHS1101            NaN         NaN         NaN      0.000000  \n",
       "AHS1102            NaN         NaN         NaN      0.000000  \n",
       "AHS1105       2.343750         NaN         NaN      0.234375  \n",
       "AHS1110       3.062500         NaN         NaN      0.109375  \n",
       "AHS1111       1.020833    2.506944         NaN      0.409722  \n",
       "AHS1120       2.677686         NaN         NaN      0.148760  \n",
       "AHS1122       2.160000         NaN         NaN      0.240000  \n",
       "AHS1130       1.620000         NaN         NaN      0.090000  \n",
       "AHS1140            NaN         NaN         NaN      0.000000  \n",
       "AHS1150       2.877527    3.092747         NaN      0.252081  \n",
       "AHS2110       0.000000         NaN         NaN      0.000000  \n",
       "AHSE0112      0.011934   51.812363  209.617996      1.182972  \n",
       "AHSE1100      0.967305    3.934338         NaN      0.027201  \n",
       "AHSE1101           NaN         NaN         NaN      0.000000  \n",
       "AHSE1102           NaN         NaN         NaN      0.000000  \n",
       "AHSE1122      1.882724         NaN    8.822314      0.064590  \n",
       "AHSE1130      0.885813    3.768166         NaN      0.094579  \n",
       "AHSE1135      0.924556         NaN         NaN      0.036982  \n",
       "AHSE1140           NaN         NaN         NaN      0.000000  \n",
       "AHSE1145      0.962620         NaN         NaN      0.018512  \n",
       "AHSE1150      1.818280         NaN         NaN      0.044348  \n",
       "AHSE1155      2.253333         NaN   24.653333      0.315556  \n",
       "AHSE1199      0.962736    3.925119    8.887501      0.043533  \n",
       "AHSE11BA      0.000000         NaN         NaN      0.000000  \n",
       "AHSE1500     21.113005  120.924746  153.417099      0.638107  \n",
       "AHSE1515      5.606680   59.720132   47.734934      0.654657  \n",
       "AHSE1599      4.095663    1.434949    9.433673      0.534439  \n",
       "AHSE2110      0.793951   24.810964   30.487713      0.535917  \n",
       "AHSE2112     14.720085    0.131492   24.525312      0.777942  \n",
       "...                ...         ...         ...           ...  \n",
       "ENG1510       0.784000    6.553600         NaN      0.521600  \n",
       "ENGR0097     54.425709   27.219599  229.579845      0.977130  \n",
       "ENGR0098     26.899167    5.442330  144.339252      1.312751  \n",
       "ENGR0098X     8.011246    0.730969   15.287197      0.706747  \n",
       "ENGR1097      0.852071    1.917160         NaN      0.213018  \n",
       "ENGR1110      0.988060    7.952168         NaN      0.010743  \n",
       "ENGR1120     23.254057         NaN         NaN      0.051333  \n",
       "ENGR1121      5.790714         NaN         NaN      0.017286  \n",
       "ENGR1125           NaN    7.813960         NaN      0.046236  \n",
       "ENGR1199      0.000000    6.000000   12.000000      0.810811  \n",
       "ENGR1199A     1.469388         NaN         NaN      0.122449  \n",
       "ENGR1200           NaN         NaN         NaN      0.000000  \n",
       "ENGR1330      9.639660    1.080247    3.891204      0.202932  \n",
       "ENGR1510      1.921576         NaN         NaN      0.019410  \n",
       "ENGR2141      0.612476    6.355388         NaN      0.344045  \n",
       "ENGR2199      0.163399    4.822760   30.812380      1.068820  \n",
       "ENGR2199A     1.777778    3.111111   16.666667      0.944444  \n",
       "ENGR2199B     1.920439    2.775034    7.967078      0.677641  \n",
       "ENGR2199C     4.545918    1.275510    9.209184      0.729592  \n",
       "ENGR2210      7.129571  101.867479  100.989659      0.334840  \n",
       "ENGR2250      4.717627   59.323758    3.714234      0.071628  \n",
       "ENGR2299      3.306122    0.081633    2.040816      0.775510  \n",
       "ENGR2320     20.269353   31.058397   36.728384      0.330768  \n",
       "ENGR2330      0.411750   32.806099   55.132523      0.904380  \n",
       "ENGR2340     40.592152   18.395769   58.838531      0.503275  \n",
       "ENGR2350     44.704688   10.512500   76.112656      0.647760  \n",
       "ENGR2410     10.498463   40.187407   32.821521      0.258962  \n",
       "ENGR2420     61.275286   12.213924   74.156127      0.515200  \n",
       "ENGR2420 L   22.454388    2.456931   27.368251      0.562146  \n",
       "ENGR2510     24.009074  127.582155  144.454594      0.664323  \n",
       "\n",
       "[100 rows x 11 columns]"
      ]
     },
     "execution_count": 6,
     "metadata": {},
     "output_type": "execute_result"
    }
   ],
   "source": [
    "import math\n",
    "def nan(value):\n",
    "    if math.isnan(value):\n",
    "        return 0\n",
    "    else:\n",
    "        return value\n",
    "\n",
    "def nan_subtract(numgradeval, meanval):\n",
    "    if math.isnan(numgradeval):\n",
    "        return 0\n",
    "    else:\n",
    "        return numbradeval - meanval\n",
    "    \n",
    "coursedf['total_students'] = (coursedf[1.0].apply(nan) + coursedf[2.0].apply(nan) \n",
    "                              + coursedf[3.0].apply(nan) + coursedf[4.0].apply(nan))\n",
    "coursedf['mean_grade'] = (coursedf[1.0].apply(nan) + 2*coursedf[2.0].apply(nan) \n",
    "                          + 3*coursedf[3.0].apply(nan) + 4*coursedf[4.0].apply(nan))/coursedf['total_students']\n",
    "\n",
    "coursedf['dev1.0'] = (1.0-coursedf['mean_grade'])**2 * coursedf[1.0]\n",
    "coursedf['dev2.0'] = (2.0-coursedf['mean_grade'])**2 * coursedf[2.0]\n",
    "coursedf['dev3.0'] = (3.0-coursedf['mean_grade'])**2 * coursedf[3.0]\n",
    "coursedf['dev4.0'] = (4.0-coursedf['mean_grade'])**2 * coursedf[4.0]\n",
    "\n",
    "\n",
    "coursedf['standard_dev'] = (coursedf['dev1.0'].apply(nan) \n",
    "                            + coursedf['dev2.0'].apply(nan) \n",
    "                            + coursedf['dev3.0'].apply(nan) + \n",
    "                            coursedf['dev4.0'].apply(nan))/(coursedf['total_students'])\n",
    "\n",
    "coursedf.head(100) "
   ]
  },
  {
   "cell_type": "code",
   "execution_count": 7,
   "metadata": {
    "collapsed": false
   },
   "outputs": [
    {
     "name": "stderr",
     "output_type": "stream",
     "text": [
      "/home/tj/anaconda2/lib/python2.7/site-packages/ipykernel/__main__.py:10: SettingWithCopyWarning: \n",
      "A value is trying to be set on a copy of a slice from a DataFrame\n",
      "\n",
      "See the caveats in the documentation: http://pandas.pydata.org/pandas-docs/stable/indexing.html#indexing-view-versus-copy\n"
     ]
    }
   ],
   "source": [
    "newcoursedf = pd.read_csv('../data/classyearmeansd.csv')\n",
    "\n",
    "newcoursedf['course_name'] = 'ah'\n",
    "\n",
    "data_i = -1\n",
    "\n",
    "for i in range(len(newcoursedf['code'])):\n",
    "    a = data[data['code'] == newcoursedf['code'][i]]\n",
    "    data_i += len(a)\n",
    "    newcoursedf['course_name'][i] = a['coursetitle'][data_i]\n",
    "   "
   ]
  },
  {
   "cell_type": "code",
   "execution_count": 8,
   "metadata": {
    "collapsed": false
   },
   "outputs": [
    {
     "data": {
      "text/html": [
       "<div>\n",
       "<table border=\"1\" class=\"dataframe\">\n",
       "  <thead>\n",
       "    <tr style=\"text-align: right;\">\n",
       "      <th></th>\n",
       "      <th>index</th>\n",
       "      <th>code</th>\n",
       "      <th>1</th>\n",
       "      <th>2</th>\n",
       "      <th>3</th>\n",
       "      <th>4</th>\n",
       "      <th>total_students</th>\n",
       "      <th>mean_grade</th>\n",
       "      <th>dev1.0</th>\n",
       "      <th>dev2.0</th>\n",
       "      <th>dev3.0</th>\n",
       "      <th>dev4.0</th>\n",
       "      <th>standard_dev</th>\n",
       "      <th>course_name</th>\n",
       "    </tr>\n",
       "  </thead>\n",
       "  <tbody>\n",
       "    <tr>\n",
       "      <th>0</th>\n",
       "      <td>0</td>\n",
       "      <td>AHS CAP SPR</td>\n",
       "      <td>NaN</td>\n",
       "      <td>NaN</td>\n",
       "      <td>NaN</td>\n",
       "      <td>30</td>\n",
       "      <td>30</td>\n",
       "      <td>4.000</td>\n",
       "      <td>NaN</td>\n",
       "      <td>NaN</td>\n",
       "      <td>NaN</td>\n",
       "      <td>0</td>\n",
       "      <td>0.000000</td>\n",
       "      <td>AHS CapstoneSpring Pre-registration</td>\n",
       "    </tr>\n",
       "    <tr>\n",
       "      <th>1</th>\n",
       "      <td>1</td>\n",
       "      <td>AHS1101</td>\n",
       "      <td>46</td>\n",
       "      <td>NaN</td>\n",
       "      <td>NaN</td>\n",
       "      <td>NaN</td>\n",
       "      <td>46</td>\n",
       "      <td>1.000</td>\n",
       "      <td>0.00000</td>\n",
       "      <td>NaN</td>\n",
       "      <td>NaN</td>\n",
       "      <td>NaN</td>\n",
       "      <td>0.000000</td>\n",
       "      <td>History and Society</td>\n",
       "    </tr>\n",
       "    <tr>\n",
       "      <th>2</th>\n",
       "      <td>2</td>\n",
       "      <td>AHS1102</td>\n",
       "      <td>50</td>\n",
       "      <td>NaN</td>\n",
       "      <td>NaN</td>\n",
       "      <td>NaN</td>\n",
       "      <td>50</td>\n",
       "      <td>1.000</td>\n",
       "      <td>0.00000</td>\n",
       "      <td>NaN</td>\n",
       "      <td>NaN</td>\n",
       "      <td>NaN</td>\n",
       "      <td>0.000000</td>\n",
       "      <td>Arts and Humanities</td>\n",
       "    </tr>\n",
       "    <tr>\n",
       "      <th>3</th>\n",
       "      <td>3</td>\n",
       "      <td>AHS1105</td>\n",
       "      <td>10</td>\n",
       "      <td>6</td>\n",
       "      <td>NaN</td>\n",
       "      <td>NaN</td>\n",
       "      <td>16</td>\n",
       "      <td>1.375</td>\n",
       "      <td>1.40625</td>\n",
       "      <td>2.34375</td>\n",
       "      <td>NaN</td>\n",
       "      <td>NaN</td>\n",
       "      <td>0.234375</td>\n",
       "      <td>Arts, Humanities, Social ScienceFoundation wit...</td>\n",
       "    </tr>\n",
       "    <tr>\n",
       "      <th>4</th>\n",
       "      <td>4</td>\n",
       "      <td>AHS1110</td>\n",
       "      <td>28</td>\n",
       "      <td>4</td>\n",
       "      <td>NaN</td>\n",
       "      <td>NaN</td>\n",
       "      <td>32</td>\n",
       "      <td>1.125</td>\n",
       "      <td>0.43750</td>\n",
       "      <td>3.06250</td>\n",
       "      <td>NaN</td>\n",
       "      <td>NaN</td>\n",
       "      <td>0.109375</td>\n",
       "      <td>History of TechnologyFoundation: Technology, S...</td>\n",
       "    </tr>\n",
       "  </tbody>\n",
       "</table>\n",
       "</div>"
      ],
      "text/plain": [
       "   index         code   1   2   3   4  total_students  mean_grade   dev1.0  \\\n",
       "0      0  AHS CAP SPR NaN NaN NaN  30              30       4.000      NaN   \n",
       "1      1      AHS1101  46 NaN NaN NaN              46       1.000  0.00000   \n",
       "2      2      AHS1102  50 NaN NaN NaN              50       1.000  0.00000   \n",
       "3      3      AHS1105  10   6 NaN NaN              16       1.375  1.40625   \n",
       "4      4      AHS1110  28   4 NaN NaN              32       1.125  0.43750   \n",
       "\n",
       "    dev2.0  dev3.0  dev4.0  standard_dev  \\\n",
       "0      NaN     NaN       0      0.000000   \n",
       "1      NaN     NaN     NaN      0.000000   \n",
       "2      NaN     NaN     NaN      0.000000   \n",
       "3  2.34375     NaN     NaN      0.234375   \n",
       "4  3.06250     NaN     NaN      0.109375   \n",
       "\n",
       "                                         course_name  \n",
       "0                AHS CapstoneSpring Pre-registration  \n",
       "1                                History and Society  \n",
       "2                                Arts and Humanities  \n",
       "3  Arts, Humanities, Social ScienceFoundation wit...  \n",
       "4  History of TechnologyFoundation: Technology, S...  "
      ]
     },
     "execution_count": 8,
     "metadata": {},
     "output_type": "execute_result"
    }
   ],
   "source": [
    "newcoursedf.head()"
   ]
  },
  {
   "cell_type": "code",
   "execution_count": 9,
   "metadata": {
    "collapsed": true
   },
   "outputs": [],
   "source": [
    "meandict = {}\n",
    "sddict = {}\n",
    "\n",
    "for i in range(len(newcoursedf)):\n",
    "    meandict[newcoursedf['code'][i]] = newcoursedf['mean_grade'][i]\n",
    "    sddict[newcoursedf['code'][i]] = newcoursedf['standard_dev'][i]"
   ]
  },
  {
   "cell_type": "code",
   "execution_count": 10,
   "metadata": {
    "collapsed": false
   },
   "outputs": [
    {
     "name": "stderr",
     "output_type": "stream",
     "text": [
      "/home/tj/anaconda2/lib/python2.7/site-packages/matplotlib/font_manager.py:273: UserWarning: Matplotlib is building the font cache using fc-list. This may take a moment.\n",
      "  warnings.warn('Matplotlib is building the font cache using fc-list. This may take a moment.')\n"
     ]
    },
    {
     "data": {
      "image/png": "[encoded data removed]",
      "text/plain": [
       "<matplotlib.figure.Figure at 0x7f8cf21c3090>"
      ]
     },
     "metadata": {},
     "output_type": "display_data"
    },
    {
     "data": {
      "text/plain": [
       "<matplotlib.figure.Figure at 0x7f8cf219ea50>"
      ]
     },
     "metadata": {},
     "output_type": "display_data"
    }
   ],
   "source": [
    "import numpy as np\n",
    "import matplotlib.mlab as mlab\n",
    "import math\n",
    "import thinkplot as tplt\n",
    "import matplotlib.pyplot as plt\n",
    "%matplotlib inline\n",
    "\n",
    "code_mean = meandict\n",
    "code_sd = sddict\n",
    "\n",
    "i = 30\n",
    "i2 =12\n",
    "key = newcoursedf['code'][i]\n",
    "key2 = newcoursedf['code'][i2]\n",
    "\n",
    "mean = code_mean[key]\n",
    "sigma = code_sd[key]\n",
    "mean2 = code_mean[key2]\n",
    "sigma2 = code_sd[key2]\n",
    "\n",
    "labels = [code_sd[key],code_sd[key2]]\n",
    "\n",
    "x = np.linspace(-3,7,50)\n",
    "tplt.plot(x,mlab.normpdf(x,mean,sigma),label = key)\n",
    "tplt.plot(x,mlab.normpdf(x,mean2,sigma2),label = key2)\n",
    "tplt.show()"
   ]
  },
  {
   "cell_type": "code",
   "execution_count": 11,
   "metadata": {
    "collapsed": true
   },
   "outputs": [],
   "source": [
    "for key in code_sd:\n",
    "    if code_sd[key] == 0.0:\n",
    "        code_sd[key] = 0.001"
   ]
  },
  {
   "cell_type": "code",
   "execution_count": 12,
   "metadata": {
    "collapsed": false
   },
   "outputs": [],
   "source": [
    "import re\n",
    "key_to_title = {}\n",
    "for i in range(len(newcoursedf)):\n",
    "    key_to_title[newcoursedf['code'][i]] = re.sub('[\\W]+', '_', newcoursedf['course_name'][i])"
   ]
  },
  {
   "cell_type": "code",
   "execution_count": 13,
   "metadata": {
    "collapsed": false
   },
   "outputs": [
    {
     "name": "stderr",
     "output_type": "stream",
     "text": [
      "/home/tj/anaconda2/lib/python2.7/site-packages/matplotlib/pyplot.py:516: RuntimeWarning: More than 20 figures have been opened. Figures created through the pyplot interface (`matplotlib.pyplot.figure`) are retained until explicitly closed and may consume too much memory. (To control this warning, see the rcParam `figure.max_open_warning`).\n",
      "  max_open_warning, RuntimeWarning)\n"
     ]
    },
    {
     "data": {
      "text/plain": [
       "<matplotlib.figure.Figure at 0x7f8ceb467910>"
      ]
     },
     "metadata": {},
     "output_type": "display_data"
    },
    {
     "data": {
      "text/plain": [
       "<matplotlib.figure.Figure at 0x7f8ceb467b50>"
      ]
     },
     "metadata": {},
     "output_type": "display_data"
    },
    {
     "data": {
      "text/plain": [
       "<matplotlib.figure.Figure at 0x7f8cead798d0>"
      ]
     },
     "metadata": {},
     "output_type": "display_data"
    },
    {
     "data": {
      "text/plain": [
       "<matplotlib.figure.Figure at 0x7f8cead51910>"
      ]
     },
     "metadata": {},
     "output_type": "display_data"
    },
    {
     "data": {
      "text/plain": [
       "<matplotlib.figure.Figure at 0x7f8cead95790>"
      ]
     },
     "metadata": {},
     "output_type": "display_data"
    },
    {
     "data": {
      "text/plain": [
       "<matplotlib.figure.Figure at 0x7f8ceb4dcb10>"
      ]
     },
     "metadata": {},
     "output_type": "display_data"
    },
    {
     "data": {
      "text/plain": [
       "<matplotlib.figure.Figure at 0x7f8ceb4e88d0>"
      ]
     },
     "metadata": {},
     "output_type": "display_data"
    },
    {
     "data": {
      "text/plain": [
       "<matplotlib.figure.Figure at 0x7f8ceaf128d0>"
      ]
     },
     "metadata": {},
     "output_type": "display_data"
    },
    {
     "data": {
      "text/plain": [
       "<matplotlib.figure.Figure at 0x7f8ceae8b450>"
      ]
     },
     "metadata": {},
     "output_type": "display_data"
    },
    {
     "data": {
      "text/plain": [
       "<matplotlib.figure.Figure at 0x7f8ceab43150>"
      ]
     },
     "metadata": {},
     "output_type": "display_data"
    },
    {
     "data": {
      "text/plain": [
       "<matplotlib.figure.Figure at 0x7f8ceabc7a50>"
      ]
     },
     "metadata": {},
     "output_type": "display_data"
    },
    {
     "data": {
      "text/plain": [
       "<matplotlib.figure.Figure at 0x7f8ceab1a0d0>"
      ]
     },
     "metadata": {},
     "output_type": "display_data"
    },
    {
     "data": {
      "text/plain": [
       "<matplotlib.figure.Figure at 0x7f8ceaaf62d0>"
      ]
     },
     "metadata": {},
     "output_type": "display_data"
    },
    {
     "data": {
      "text/plain": [
       "<matplotlib.figure.Figure at 0x7f8cea9b5310>"
      ]
     },
     "metadata": {},
     "output_type": "display_data"
    },
    {
     "data": {
      "text/plain": [
       "<matplotlib.figure.Figure at 0x7f8cea8f3d10>"
      ]
     },
     "metadata": {},
     "output_type": "display_data"
    },
    {
     "data": {
      "text/plain": [
       "<matplotlib.figure.Figure at 0x7f8cea832c90>"
      ]
     },
     "metadata": {},
     "output_type": "display_data"
    },
    {
     "data": {
      "text/plain": [
       "<matplotlib.figure.Figure at 0x7f8cea8dc650>"
      ]
     },
     "metadata": {},
     "output_type": "display_data"
    },
    {
     "data": {
      "text/plain": [
       "<matplotlib.figure.Figure at 0x7f8cea8d5250>"
      ]
     },
     "metadata": {},
     "output_type": "display_data"
    },
    {
     "data": {
      "text/plain": [
       "<matplotlib.figure.Figure at 0x7f8ceaa51e90>"
      ]
     },
     "metadata": {},
     "output_type": "display_data"
    },
    {
     "data": {
      "text/plain": [
       "<matplotlib.figure.Figure at 0x7f8ceaa39d10>"
      ]
     },
     "metadata": {},
     "output_type": "display_data"
    },
    {
     "data": {
      "text/plain": [
       "<matplotlib.figure.Figure at 0x7f8ceaccf390>"
      ]
     },
     "metadata": {},
     "output_type": "display_data"
    },
    {
     "data": {
      "text/plain": [
       "<matplotlib.figure.Figure at 0x7f8ceace0a50>"
      ]
     },
     "metadata": {},
     "output_type": "display_data"
    },
    {
     "data": {
      "text/plain": [
       "<matplotlib.figure.Figure at 0x7f8ceb4e8e50>"
      ]
     },
     "metadata": {},
     "output_type": "display_data"
    },
    {
     "data": {
      "text/plain": [
       "<matplotlib.figure.Figure at 0x7f8ced889b50>"
      ]
     },
     "metadata": {},
     "output_type": "display_data"
    },
    {
     "data": {
      "text/plain": [
       "<matplotlib.figure.Figure at 0x7f8ceaee3e10>"
      ]
     },
     "metadata": {},
     "output_type": "display_data"
    },
    {
     "data": {
      "text/plain": [
       "<matplotlib.figure.Figure at 0x7f8cea8f3410>"
      ]
     },
     "metadata": {},
     "output_type": "display_data"
    },
    {
     "data": {
      "text/plain": [
       "<matplotlib.figure.Figure at 0x7f8cead9e750>"
      ]
     },
     "metadata": {},
     "output_type": "display_data"
    },
    {
     "data": {
      "text/plain": [
       "<matplotlib.figure.Figure at 0x7f8ceacb1090>"
      ]
     },
     "metadata": {},
     "output_type": "display_data"
    },
    {
     "data": {
      "text/plain": [
       "<matplotlib.figure.Figure at 0x7f8ceac9d2d0>"
      ]
     },
     "metadata": {},
     "output_type": "display_data"
    },
    {
     "data": {
      "text/plain": [
       "<matplotlib.figure.Figure at 0x7f8ceac69f90>"
      ]
     },
     "metadata": {},
     "output_type": "display_data"
    },
    {
     "data": {
      "text/plain": [
       "<matplotlib.figure.Figure at 0x7f8cead64dd0>"
      ]
     },
     "metadata": {},
     "output_type": "display_data"
    },
    {
     "data": {
      "text/plain": [
       "<matplotlib.figure.Figure at 0x7f8cead24c50>"
      ]
     },
     "metadata": {},
     "output_type": "display_data"
    },
    {
     "data": {
      "text/plain": [
       "<matplotlib.figure.Figure at 0x7f8ceb4e86d0>"
      ]
     },
     "metadata": {},
     "output_type": "display_data"
    },
    {
     "data": {
      "text/plain": [
       "<matplotlib.figure.Figure at 0x7f8ceacf7cd0>"
      ]
     },
     "metadata": {},
     "output_type": "display_data"
    },
    {
     "data": {
      "text/plain": [
       "<matplotlib.figure.Figure at 0x7f8ceab1ac90>"
      ]
     },
     "metadata": {},
     "output_type": "display_data"
    },
    {
     "data": {
      "text/plain": [
       "<matplotlib.figure.Figure at 0x7f8ceab06610>"
      ]
     },
     "metadata": {},
     "output_type": "display_data"
    },
    {
     "data": {
      "text/plain": [
       "<matplotlib.figure.Figure at 0x7f8cea9ad150>"
      ]
     },
     "metadata": {},
     "output_type": "display_data"
    },
    {
     "data": {
      "text/plain": [
       "<matplotlib.figure.Figure at 0x7f8cea8e3f10>"
      ]
     },
     "metadata": {},
     "output_type": "display_data"
    },
    {
     "data": {
      "text/plain": [
       "<matplotlib.figure.Figure at 0x7f8cead0ae10>"
      ]
     },
     "metadata": {},
     "output_type": "display_data"
    },
    {
     "data": {
      "text/plain": [
       "<matplotlib.figure.Figure at 0x7f8ceaf1ab50>"
      ]
     },
     "metadata": {},
     "output_type": "display_data"
    },
    {
     "data": {
      "text/plain": [
       "<matplotlib.figure.Figure at 0x7f8cea78eb50>"
      ]
     },
     "metadata": {},
     "output_type": "display_data"
    },
    {
     "data": {
      "text/plain": [
       "<matplotlib.figure.Figure at 0x7f8cea867cd0>"
      ]
     },
     "metadata": {},
     "output_type": "display_data"
    },
    {
     "data": {
      "text/plain": [
       "<matplotlib.figure.Figure at 0x7f8cea9bec90>"
      ]
     },
     "metadata": {},
     "output_type": "display_data"
    },
    {
     "data": {
      "text/plain": [
       "<matplotlib.figure.Figure at 0x7f8ceaa9fbd0>"
      ]
     },
     "metadata": {},
     "output_type": "display_data"
    },
    {
     "data": {
      "text/plain": [
       "<matplotlib.figure.Figure at 0x7f8ceae58410>"
      ]
     },
     "metadata": {},
     "output_type": "display_data"
    },
    {
     "data": {
      "text/plain": [
       "<matplotlib.figure.Figure at 0x7f8ceab1af50>"
      ]
     },
     "metadata": {},
     "output_type": "display_data"
    },
    {
     "data": {
      "text/plain": [
       "<matplotlib.figure.Figure at 0x7f8ceacd2dd0>"
      ]
     },
     "metadata": {},
     "output_type": "display_data"
    },
    {
     "data": {
      "text/plain": [
       "<matplotlib.figure.Figure at 0x7f8ceaf90d10>"
      ]
     },
     "metadata": {},
     "output_type": "display_data"
    },
    {
     "data": {
      "text/plain": [
       "<matplotlib.figure.Figure at 0x7f8ceae1ce90>"
      ]
     },
     "metadata": {},
     "output_type": "display_data"
    },
    {
     "data": {
      "text/plain": [
       "<matplotlib.figure.Figure at 0x7f8ceac69c90>"
      ]
     },
     "metadata": {},
     "output_type": "display_data"
    },
    {
     "data": {
      "text/plain": [
       "<matplotlib.figure.Figure at 0x7f8ceab562d0>"
      ]
     },
     "metadata": {},
     "output_type": "display_data"
    },
    {
     "data": {
      "text/plain": [
       "<matplotlib.figure.Figure at 0x7f8ceac69fd0>"
      ]
     },
     "metadata": {},
     "output_type": "display_data"
    },
    {
     "data": {
      "text/plain": [
       "<matplotlib.figure.Figure at 0x7f8cea6ba110>"
      ]
     },
     "metadata": {},
     "output_type": "display_data"
    },
    {
     "data": {
      "text/plain": [
       "<matplotlib.figure.Figure at 0x7f8ceadd9a50>"
      ]
     },
     "metadata": {},
     "output_type": "display_data"
    },
    {
     "data": {
      "text/plain": [
       "<matplotlib.figure.Figure at 0x7f8ceabdd090>"
      ]
     },
     "metadata": {},
     "output_type": "display_data"
    },
    {
     "data": {
      "text/plain": [
       "<matplotlib.figure.Figure at 0x7f8ceae1cad0>"
      ]
     },
     "metadata": {},
     "output_type": "display_data"
    },
    {
     "data": {
      "text/plain": [
       "<matplotlib.figure.Figure at 0x7f8ceaf27490>"
      ]
     },
     "metadata": {},
     "output_type": "display_data"
    },
    {
     "data": {
      "text/plain": [
       "<matplotlib.figure.Figure at 0x7f8cead0f510>"
      ]
     },
     "metadata": {},
     "output_type": "display_data"
    },
    {
     "data": {
      "text/plain": [
       "<matplotlib.figure.Figure at 0x7f8ceac04850>"
      ]
     },
     "metadata": {},
     "output_type": "display_data"
    },
    {
     "data": {
      "text/plain": [
       "<matplotlib.figure.Figure at 0x7f8ceaad6d90>"
      ]
     },
     "metadata": {},
     "output_type": "display_data"
    },
    {
     "data": {
      "text/plain": [
       "<matplotlib.figure.Figure at 0x7f8ceab4cf50>"
      ]
     },
     "metadata": {},
     "output_type": "display_data"
    },
    {
     "data": {
      "text/plain": [
       "<matplotlib.figure.Figure at 0x7f8cea8fd690>"
      ]
     },
     "metadata": {},
     "output_type": "display_data"
    },
    {
     "data": {
      "text/plain": [
       "<matplotlib.figure.Figure at 0x7f8cea7781d0>"
      ]
     },
     "metadata": {},
     "output_type": "display_data"
    },
    {
     "data": {
      "text/plain": [
       "<matplotlib.figure.Figure at 0x7f8cea913d10>"
      ]
     },
     "metadata": {},
     "output_type": "display_data"
    },
    {
     "data": {
      "text/plain": [
       "<matplotlib.figure.Figure at 0x7f8ceaefda90>"
      ]
     },
     "metadata": {},
     "output_type": "display_data"
    },
    {
     "data": {
      "text/plain": [
       "<matplotlib.figure.Figure at 0x7f8cea6854d0>"
      ]
     },
     "metadata": {},
     "output_type": "display_data"
    },
    {
     "data": {
      "text/plain": [
       "<matplotlib.figure.Figure at 0x7f8cea9089d0>"
      ]
     },
     "metadata": {},
     "output_type": "display_data"
    },
    {
     "data": {
      "text/plain": [
       "<matplotlib.figure.Figure at 0x7f8cea8e3e10>"
      ]
     },
     "metadata": {},
     "output_type": "display_data"
    },
    {
     "data": {
      "text/plain": [
       "<matplotlib.figure.Figure at 0x7f8cea9f2e10>"
      ]
     },
     "metadata": {},
     "output_type": "display_data"
    },
    {
     "data": {
      "text/plain": [
       "<matplotlib.figure.Figure at 0x7f8ceab81050>"
      ]
     },
     "metadata": {},
     "output_type": "display_data"
    },
    {
     "data": {
      "text/plain": [
       "<matplotlib.figure.Figure at 0x7f8ceab53690>"
      ]
     },
     "metadata": {},
     "output_type": "display_data"
    },
    {
     "data": {
      "text/plain": [
       "<matplotlib.figure.Figure at 0x7f8ceab43d90>"
      ]
     },
     "metadata": {},
     "output_type": "display_data"
    },
    {
     "data": {
      "text/plain": [
       "<matplotlib.figure.Figure at 0x7f8ced874590>"
      ]
     },
     "metadata": {},
     "output_type": "display_data"
    },
    {
     "data": {
      "text/plain": [
       "<matplotlib.figure.Figure at 0x7f8ceb4b4050>"
      ]
     },
     "metadata": {},
     "output_type": "display_data"
    },
    {
     "data": {
      "text/plain": [
       "<matplotlib.figure.Figure at 0x7f8cea943390>"
      ]
     },
     "metadata": {},
     "output_type": "display_data"
    },
    {
     "data": {
      "text/plain": [
       "<matplotlib.figure.Figure at 0x7f8cea9b5110>"
      ]
     },
     "metadata": {},
     "output_type": "display_data"
    },
    {
     "data": {
      "text/plain": [
       "<matplotlib.figure.Figure at 0x7f8cea6ba710>"
      ]
     },
     "metadata": {},
     "output_type": "display_data"
    },
    {
     "data": {
      "text/plain": [
       "<matplotlib.figure.Figure at 0x7f8cea75c310>"
      ]
     },
     "metadata": {},
     "output_type": "display_data"
    },
    {
     "data": {
      "text/plain": [
       "<matplotlib.figure.Figure at 0x7f8cea931a10>"
      ]
     },
     "metadata": {},
     "output_type": "display_data"
    },
    {
     "data": {
      "text/plain": [
       "<matplotlib.figure.Figure at 0x7f8cea9e7e90>"
      ]
     },
     "metadata": {},
     "output_type": "display_data"
    },
    {
     "data": {
      "text/plain": [
       "<matplotlib.figure.Figure at 0x7f8cea7099d0>"
      ]
     },
     "metadata": {},
     "output_type": "display_data"
    },
    {
     "data": {
      "text/plain": [
       "<matplotlib.figure.Figure at 0x7f8ceaed4a10>"
      ]
     },
     "metadata": {},
     "output_type": "display_data"
    },
    {
     "data": {
      "text/plain": [
       "<matplotlib.figure.Figure at 0x7f8cea832590>"
      ]
     },
     "metadata": {},
     "output_type": "display_data"
    },
    {
     "data": {
      "text/plain": [
       "<matplotlib.figure.Figure at 0x7f8ceab8a110>"
      ]
     },
     "metadata": {},
     "output_type": "display_data"
    },
    {
     "data": {
      "text/plain": [
       "<matplotlib.figure.Figure at 0x7f8ceacd2a10>"
      ]
     },
     "metadata": {},
     "output_type": "display_data"
    },
    {
     "data": {
      "text/plain": [
       "<matplotlib.figure.Figure at 0x7f8ceaee3d50>"
      ]
     },
     "metadata": {},
     "output_type": "display_data"
    },
    {
     "data": {
      "text/plain": [
       "<matplotlib.figure.Figure at 0x7f8cea8d5950>"
      ]
     },
     "metadata": {},
     "output_type": "display_data"
    },
    {
     "data": {
      "text/plain": [
       "<matplotlib.figure.Figure at 0x7f8cea8cb290>"
      ]
     },
     "metadata": {},
     "output_type": "display_data"
    },
    {
     "data": {
      "text/plain": [
       "<matplotlib.figure.Figure at 0x7f8ceabf8c50>"
      ]
     },
     "metadata": {},
     "output_type": "display_data"
    },
    {
     "data": {
      "text/plain": [
       "<matplotlib.figure.Figure at 0x7f8cea920a90>"
      ]
     },
     "metadata": {},
     "output_type": "display_data"
    },
    {
     "data": {
      "text/plain": [
       "<matplotlib.figure.Figure at 0x7f8cea580ad0>"
      ]
     },
     "metadata": {},
     "output_type": "display_data"
    },
    {
     "data": {
      "text/plain": [
       "<matplotlib.figure.Figure at 0x7f8cea5dc3d0>"
      ]
     },
     "metadata": {},
     "output_type": "display_data"
    },
    {
     "data": {
      "text/plain": [
       "<matplotlib.figure.Figure at 0x7f8ceaa958d0>"
      ]
     },
     "metadata": {},
     "output_type": "display_data"
    },
    {
     "data": {
      "text/plain": [
       "<matplotlib.figure.Figure at 0x7f8ceab06d90>"
      ]
     },
     "metadata": {},
     "output_type": "display_data"
    },
    {
     "data": {
      "text/plain": [
       "<matplotlib.figure.Figure at 0x7f8ceabf82d0>"
      ]
     },
     "metadata": {},
     "output_type": "display_data"
    },
    {
     "data": {
      "text/plain": [
       "<matplotlib.figure.Figure at 0x7f8ceac042d0>"
      ]
     },
     "metadata": {},
     "output_type": "display_data"
    },
    {
     "data": {
      "text/plain": [
       "<matplotlib.figure.Figure at 0x7f8ceabc7ed0>"
      ]
     },
     "metadata": {},
     "output_type": "display_data"
    },
    {
     "data": {
      "text/plain": [
       "<matplotlib.figure.Figure at 0x7f8cea8fdf10>"
      ]
     },
     "metadata": {},
     "output_type": "display_data"
    },
    {
     "data": {
      "text/plain": [
       "<matplotlib.figure.Figure at 0x7f8cea6fd990>"
      ]
     },
     "metadata": {},
     "output_type": "display_data"
    },
    {
     "data": {
      "text/plain": [
       "<matplotlib.figure.Figure at 0x7f8ceaad6890>"
      ]
     },
     "metadata": {},
     "output_type": "display_data"
    },
    {
     "data": {
      "text/plain": [
       "<matplotlib.figure.Figure at 0x7f8cea607e10>"
      ]
     },
     "metadata": {},
     "output_type": "display_data"
    },
    {
     "data": {
      "text/plain": [
       "<matplotlib.figure.Figure at 0x7f8cea931690>"
      ]
     },
     "metadata": {},
     "output_type": "display_data"
    },
    {
     "data": {
      "text/plain": [
       "<matplotlib.figure.Figure at 0x7f8cea94df10>"
      ]
     },
     "metadata": {},
     "output_type": "display_data"
    },
    {
     "data": {
      "text/plain": [
       "<matplotlib.figure.Figure at 0x7f8cea623750>"
      ]
     },
     "metadata": {},
     "output_type": "display_data"
    },
    {
     "data": {
      "text/plain": [
       "<matplotlib.figure.Figure at 0x7f8ceaf1ac10>"
      ]
     },
     "metadata": {},
     "output_type": "display_data"
    },
    {
     "data": {
      "text/plain": [
       "<matplotlib.figure.Figure at 0x7f8ceaeb1910>"
      ]
     },
     "metadata": {},
     "output_type": "display_data"
    },
    {
     "data": {
      "text/plain": [
       "<matplotlib.figure.Figure at 0x7f8cea7dd710>"
      ]
     },
     "metadata": {},
     "output_type": "display_data"
    },
    {
     "data": {
      "text/plain": [
       "<matplotlib.figure.Figure at 0x7f8cea5ff950>"
      ]
     },
     "metadata": {},
     "output_type": "display_data"
    },
    {
     "data": {
      "text/plain": [
       "<matplotlib.figure.Figure at 0x7f8ceae99d90>"
      ]
     },
     "metadata": {},
     "output_type": "display_data"
    },
    {
     "data": {
      "text/plain": [
       "<matplotlib.figure.Figure at 0x7f8ceab3a8d0>"
      ]
     },
     "metadata": {},
     "output_type": "display_data"
    },
    {
     "data": {
      "text/plain": [
       "<matplotlib.figure.Figure at 0x7f8ceb434790>"
      ]
     },
     "metadata": {},
     "output_type": "display_data"
    },
    {
     "data": {
      "text/plain": [
       "<matplotlib.figure.Figure at 0x7f8ceaf5d510>"
      ]
     },
     "metadata": {},
     "output_type": "display_data"
    },
    {
     "data": {
      "text/plain": [
       "<matplotlib.figure.Figure at 0x7f8ceb4292d0>"
      ]
     },
     "metadata": {},
     "output_type": "display_data"
    },
    {
     "data": {
      "text/plain": [
       "<matplotlib.figure.Figure at 0x7f8cea72cad0>"
      ]
     },
     "metadata": {},
     "output_type": "display_data"
    },
    {
     "data": {
      "text/plain": [
       "<matplotlib.figure.Figure at 0x7f8ceab06350>"
      ]
     },
     "metadata": {},
     "output_type": "display_data"
    },
    {
     "data": {
      "text/plain": [
       "<matplotlib.figure.Figure at 0x7f8cea5070d0>"
      ]
     },
     "metadata": {},
     "output_type": "display_data"
    },
    {
     "data": {
      "text/plain": [
       "<matplotlib.figure.Figure at 0x7f8cea4ba850>"
      ]
     },
     "metadata": {},
     "output_type": "display_data"
    },
    {
     "data": {
      "text/plain": [
       "<matplotlib.figure.Figure at 0x7f8cea9db350>"
      ]
     },
     "metadata": {},
     "output_type": "display_data"
    },
    {
     "data": {
      "text/plain": [
       "<matplotlib.figure.Figure at 0x7f8ceaf469d0>"
      ]
     },
     "metadata": {},
     "output_type": "display_data"
    },
    {
     "data": {
      "text/plain": [
       "<matplotlib.figure.Figure at 0x7f8ceaad6110>"
      ]
     },
     "metadata": {},
     "output_type": "display_data"
    },
    {
     "data": {
      "text/plain": [
       "<matplotlib.figure.Figure at 0x7f8ceab534d0>"
      ]
     },
     "metadata": {},
     "output_type": "display_data"
    },
    {
     "data": {
      "text/plain": [
       "<matplotlib.figure.Figure at 0x7f8ceaf90610>"
      ]
     },
     "metadata": {},
     "output_type": "display_data"
    },
    {
     "data": {
      "text/plain": [
       "<matplotlib.figure.Figure at 0x7f8ceb509d50>"
      ]
     },
     "metadata": {},
     "output_type": "display_data"
    },
    {
     "data": {
      "text/plain": [
       "<matplotlib.figure.Figure at 0x7f8ceaa51290>"
      ]
     },
     "metadata": {},
     "output_type": "display_data"
    },
    {
     "data": {
      "text/plain": [
       "<matplotlib.figure.Figure at 0x7f8cea741b50>"
      ]
     },
     "metadata": {},
     "output_type": "display_data"
    },
    {
     "data": {
      "text/plain": [
       "<matplotlib.figure.Figure at 0x7f8cea4ecd90>"
      ]
     },
     "metadata": {},
     "output_type": "display_data"
    },
    {
     "data": {
      "text/plain": [
       "<matplotlib.figure.Figure at 0x7f8cea85ca90>"
      ]
     },
     "metadata": {},
     "output_type": "display_data"
    },
    {
     "data": {
      "text/plain": [
       "<matplotlib.figure.Figure at 0x7f8ceabdf990>"
      ]
     },
     "metadata": {},
     "output_type": "display_data"
    },
    {
     "data": {
      "text/plain": [
       "<matplotlib.figure.Figure at 0x7f8cea465550>"
      ]
     },
     "metadata": {},
     "output_type": "display_data"
    },
    {
     "data": {
      "text/plain": [
       "<matplotlib.figure.Figure at 0x7f8cea59ff50>"
      ]
     },
     "metadata": {},
     "output_type": "display_data"
    },
    {
     "data": {
      "text/plain": [
       "<matplotlib.figure.Figure at 0x7f8ceaa4b650>"
      ]
     },
     "metadata": {},
     "output_type": "display_data"
    },
    {
     "data": {
      "text/plain": [
       "<matplotlib.figure.Figure at 0x7f8cea770550>"
      ]
     },
     "metadata": {},
     "output_type": "display_data"
    },
    {
     "data": {
      "text/plain": [
       "<matplotlib.figure.Figure at 0x7f8ceb48a250>"
      ]
     },
     "metadata": {},
     "output_type": "display_data"
    },
    {
     "data": {
      "text/plain": [
       "<matplotlib.figure.Figure at 0x7f8ceb4d9210>"
      ]
     },
     "metadata": {},
     "output_type": "display_data"
    },
    {
     "data": {
      "text/plain": [
       "<matplotlib.figure.Figure at 0x7f8cea87a810>"
      ]
     },
     "metadata": {},
     "output_type": "display_data"
    },
    {
     "data": {
      "text/plain": [
       "<matplotlib.figure.Figure at 0x7f8ceab81b90>"
      ]
     },
     "metadata": {},
     "output_type": "display_data"
    },
    {
     "data": {
      "text/plain": [
       "<matplotlib.figure.Figure at 0x7f8cea6acf10>"
      ]
     },
     "metadata": {},
     "output_type": "display_data"
    },
    {
     "data": {
      "text/plain": [
       "<matplotlib.figure.Figure at 0x7f8cea9a7590>"
      ]
     },
     "metadata": {},
     "output_type": "display_data"
    },
    {
     "data": {
      "text/plain": [
       "<matplotlib.figure.Figure at 0x7f8cea43fd10>"
      ]
     },
     "metadata": {},
     "output_type": "display_data"
    },
    {
     "data": {
      "text/plain": [
       "<matplotlib.figure.Figure at 0x7f8cea698a10>"
      ]
     },
     "metadata": {},
     "output_type": "display_data"
    },
    {
     "data": {
      "text/plain": [
       "<matplotlib.figure.Figure at 0x7f8cea5f6410>"
      ]
     },
     "metadata": {},
     "output_type": "display_data"
    },
    {
     "data": {
      "text/plain": [
       "<matplotlib.figure.Figure at 0x7f8cea43fd50>"
      ]
     },
     "metadata": {},
     "output_type": "display_data"
    },
    {
     "data": {
      "text/plain": [
       "<matplotlib.figure.Figure at 0x7f8ceaf79350>"
      ]
     },
     "metadata": {},
     "output_type": "display_data"
    },
    {
     "data": {
      "text/plain": [
       "<matplotlib.figure.Figure at 0x7f8cea623350>"
      ]
     },
     "metadata": {},
     "output_type": "display_data"
    },
    {
     "data": {
      "text/plain": [
       "<matplotlib.figure.Figure at 0x7f8cea698750>"
      ]
     },
     "metadata": {},
     "output_type": "display_data"
    },
    {
     "data": {
      "text/plain": [
       "<matplotlib.figure.Figure at 0x7f8ceb467f10>"
      ]
     },
     "metadata": {},
     "output_type": "display_data"
    },
    {
     "data": {
      "text/plain": [
       "<matplotlib.figure.Figure at 0x7f8ced874b90>"
      ]
     },
     "metadata": {},
     "output_type": "display_data"
    },
    {
     "data": {
      "text/plain": [
       "<matplotlib.figure.Figure at 0x7f8ceac87390>"
      ]
     },
     "metadata": {},
     "output_type": "display_data"
    },
    {
     "data": {
      "text/plain": [
       "<matplotlib.figure.Figure at 0x7f8cead9e5d0>"
      ]
     },
     "metadata": {},
     "output_type": "display_data"
    },
    {
     "data": {
      "text/plain": [
       "<matplotlib.figure.Figure at 0x7f8ceae10a90>"
      ]
     },
     "metadata": {},
     "output_type": "display_data"
    },
    {
     "data": {
      "text/plain": [
       "<matplotlib.figure.Figure at 0x7f8cea7a7f90>"
      ]
     },
     "metadata": {},
     "output_type": "display_data"
    },
    {
     "data": {
      "text/plain": [
       "<matplotlib.figure.Figure at 0x7f8cea67ad10>"
      ]
     },
     "metadata": {},
     "output_type": "display_data"
    },
    {
     "data": {
      "text/plain": [
       "<matplotlib.figure.Figure at 0x7f8cea7dd350>"
      ]
     },
     "metadata": {},
     "output_type": "display_data"
    },
    {
     "data": {
      "text/plain": [
       "<matplotlib.figure.Figure at 0x7f8ceabb4490>"
      ]
     },
     "metadata": {},
     "output_type": "display_data"
    },
    {
     "data": {
      "text/plain": [
       "<matplotlib.figure.Figure at 0x7f8cea38ded0>"
      ]
     },
     "metadata": {},
     "output_type": "display_data"
    },
    {
     "data": {
      "text/plain": [
       "<matplotlib.figure.Figure at 0x7f8cea6ae650>"
      ]
     },
     "metadata": {},
     "output_type": "display_data"
    },
    {
     "data": {
      "text/plain": [
       "<matplotlib.figure.Figure at 0x7f8ceaf6b810>"
      ]
     },
     "metadata": {},
     "output_type": "display_data"
    },
    {
     "data": {
      "text/plain": [
       "<matplotlib.figure.Figure at 0x7f8ceadaa5d0>"
      ]
     },
     "metadata": {},
     "output_type": "display_data"
    },
    {
     "data": {
      "text/plain": [
       "<matplotlib.figure.Figure at 0x7f8cea6acb10>"
      ]
     },
     "metadata": {},
     "output_type": "display_data"
    },
    {
     "data": {
      "text/plain": [
       "<matplotlib.figure.Figure at 0x7f8ceaf46b90>"
      ]
     },
     "metadata": {},
     "output_type": "display_data"
    },
    {
     "data": {
      "text/plain": [
       "<matplotlib.figure.Figure at 0x7f8ceae8b4d0>"
      ]
     },
     "metadata": {},
     "output_type": "display_data"
    },
    {
     "data": {
      "text/plain": [
       "<matplotlib.figure.Figure at 0x7f8ceb429350>"
      ]
     },
     "metadata": {},
     "output_type": "display_data"
    },
    {
     "data": {
      "text/plain": [
       "<matplotlib.figure.Figure at 0x7f8ceade2710>"
      ]
     },
     "metadata": {},
     "output_type": "display_data"
    },
    {
     "data": {
      "text/plain": [
       "<matplotlib.figure.Figure at 0x7f8cea6e3190>"
      ]
     },
     "metadata": {},
     "output_type": "display_data"
    },
    {
     "data": {
      "text/plain": [
       "<matplotlib.figure.Figure at 0x7f8cea43fed0>"
      ]
     },
     "metadata": {},
     "output_type": "display_data"
    },
    {
     "data": {
      "text/plain": [
       "<matplotlib.figure.Figure at 0x7f8ceaf79f90>"
      ]
     },
     "metadata": {},
     "output_type": "display_data"
    },
    {
     "data": {
      "text/plain": [
       "<matplotlib.figure.Figure at 0x7f8cea335550>"
      ]
     },
     "metadata": {},
     "output_type": "display_data"
    },
    {
     "data": {
      "text/plain": [
       "<matplotlib.figure.Figure at 0x7f8cea651a90>"
      ]
     },
     "metadata": {},
     "output_type": "display_data"
    },
    {
     "data": {
      "text/plain": [
       "<matplotlib.figure.Figure at 0x7f8ceaeb14d0>"
      ]
     },
     "metadata": {},
     "output_type": "display_data"
    },
    {
     "data": {
      "text/plain": [
       "<matplotlib.figure.Figure at 0x7f8cea507d90>"
      ]
     },
     "metadata": {},
     "output_type": "display_data"
    },
    {
     "data": {
      "text/plain": [
       "<matplotlib.figure.Figure at 0x7f8cea908950>"
      ]
     },
     "metadata": {},
     "output_type": "display_data"
    },
    {
     "data": {
      "text/plain": [
       "<matplotlib.figure.Figure at 0x7f8ceac37cd0>"
      ]
     },
     "metadata": {},
     "output_type": "display_data"
    },
    {
     "data": {
      "text/plain": [
       "<matplotlib.figure.Figure at 0x7f8cea670c90>"
      ]
     },
     "metadata": {},
     "output_type": "display_data"
    },
    {
     "data": {
      "text/plain": [
       "<matplotlib.figure.Figure at 0x7f8ceabdd190>"
      ]
     },
     "metadata": {},
     "output_type": "display_data"
    },
    {
     "data": {
      "text/plain": [
       "<matplotlib.figure.Figure at 0x7f8cea7e7990>"
      ]
     },
     "metadata": {},
     "output_type": "display_data"
    },
    {
     "data": {
      "text/plain": [
       "<matplotlib.figure.Figure at 0x7f8cea741d90>"
      ]
     },
     "metadata": {},
     "output_type": "display_data"
    },
    {
     "data": {
      "text/plain": [
       "<matplotlib.figure.Figure at 0x7f8cea3a0fd0>"
      ]
     },
     "metadata": {},
     "output_type": "display_data"
    },
    {
     "data": {
      "text/plain": [
       "<matplotlib.figure.Figure at 0x7f8cea808fd0>"
      ]
     },
     "metadata": {},
     "output_type": "display_data"
    },
    {
     "data": {
      "text/plain": [
       "<matplotlib.figure.Figure at 0x7f8ceaba0b50>"
      ]
     },
     "metadata": {},
     "output_type": "display_data"
    },
    {
     "data": {
      "text/plain": [
       "<matplotlib.figure.Figure at 0x7f8cea4ba450>"
      ]
     },
     "metadata": {},
     "output_type": "display_data"
    },
    {
     "data": {
      "text/plain": [
       "<matplotlib.figure.Figure at 0x7f8cea456750>"
      ]
     },
     "metadata": {},
     "output_type": "display_data"
    },
    {
     "data": {
      "text/plain": [
       "<matplotlib.figure.Figure at 0x7f8cea50f4d0>"
      ]
     },
     "metadata": {},
     "output_type": "display_data"
    },
    {
     "data": {
      "text/plain": [
       "<matplotlib.figure.Figure at 0x7f8cea557b10>"
      ]
     },
     "metadata": {},
     "output_type": "display_data"
    },
    {
     "data": {
      "text/plain": [
       "<matplotlib.figure.Figure at 0x7f8ceae1c7d0>"
      ]
     },
     "metadata": {},
     "output_type": "display_data"
    },
    {
     "data": {
      "text/plain": [
       "<matplotlib.figure.Figure at 0x7f8cead0a550>"
      ]
     },
     "metadata": {},
     "output_type": "display_data"
    },
    {
     "data": {
      "text/plain": [
       "<matplotlib.figure.Figure at 0x7f8ceaaf6050>"
      ]
     },
     "metadata": {},
     "output_type": "display_data"
    },
    {
     "data": {
      "text/plain": [
       "<matplotlib.figure.Figure at 0x7f8ceab380d0>"
      ]
     },
     "metadata": {},
     "output_type": "display_data"
    },
    {
     "data": {
      "text/plain": [
       "<matplotlib.figure.Figure at 0x7f8cea580610>"
      ]
     },
     "metadata": {},
     "output_type": "display_data"
    },
    {
     "data": {
      "text/plain": [
       "<matplotlib.figure.Figure at 0x7f8cea984ad0>"
      ]
     },
     "metadata": {},
     "output_type": "display_data"
    },
    {
     "data": {
      "text/plain": [
       "<matplotlib.figure.Figure at 0x7f8cea685710>"
      ]
     },
     "metadata": {},
     "output_type": "display_data"
    },
    {
     "data": {
      "text/plain": [
       "<matplotlib.figure.Figure at 0x7f8cea231690>"
      ]
     },
     "metadata": {},
     "output_type": "display_data"
    },
    {
     "data": {
      "text/plain": [
       "<matplotlib.figure.Figure at 0x7f8cea1b5c10>"
      ]
     },
     "metadata": {},
     "output_type": "display_data"
    },
    {
     "data": {
      "text/plain": [
       "<matplotlib.figure.Figure at 0x7f8cea231890>"
      ]
     },
     "metadata": {},
     "output_type": "display_data"
    },
    {
     "data": {
      "text/plain": [
       "<matplotlib.figure.Figure at 0x7f8cea580290>"
      ]
     },
     "metadata": {},
     "output_type": "display_data"
    },
    {
     "data": {
      "text/plain": [
       "<matplotlib.figure.Figure at 0x7f8cead24090>"
      ]
     },
     "metadata": {},
     "output_type": "display_data"
    },
    {
     "data": {
      "text/plain": [
       "<matplotlib.figure.Figure at 0x7f8cea6235d0>"
      ]
     },
     "metadata": {},
     "output_type": "display_data"
    },
    {
     "data": {
      "text/plain": [
       "<matplotlib.figure.Figure at 0x7f8ceabc7b50>"
      ]
     },
     "metadata": {},
     "output_type": "display_data"
    },
    {
     "data": {
      "text/plain": [
       "<matplotlib.figure.Figure at 0x7f8cead9e950>"
      ]
     },
     "metadata": {},
     "output_type": "display_data"
    },
    {
     "data": {
      "text/plain": [
       "<matplotlib.figure.Figure at 0x7f8ceac04250>"
      ]
     },
     "metadata": {},
     "output_type": "display_data"
    },
    {
     "data": {
      "text/plain": [
       "<matplotlib.figure.Figure at 0x7f8cea939250>"
      ]
     },
     "metadata": {},
     "output_type": "display_data"
    },
    {
     "data": {
      "text/plain": [
       "<matplotlib.figure.Figure at 0x7f8cead79990>"
      ]
     },
     "metadata": {},
     "output_type": "display_data"
    },
    {
     "data": {
      "text/plain": [
       "<matplotlib.figure.Figure at 0x7f8cea6aea50>"
      ]
     },
     "metadata": {},
     "output_type": "display_data"
    },
    {
     "data": {
      "text/plain": [
       "<matplotlib.figure.Figure at 0x7f8cea75c1d0>"
      ]
     },
     "metadata": {},
     "output_type": "display_data"
    },
    {
     "data": {
      "text/plain": [
       "<matplotlib.figure.Figure at 0x7f8cea2f0190>"
      ]
     },
     "metadata": {},
     "output_type": "display_data"
    },
    {
     "data": {
      "text/plain": [
       "<matplotlib.figure.Figure at 0x7f8cea54ded0>"
      ]
     },
     "metadata": {},
     "output_type": "display_data"
    },
    {
     "data": {
      "text/plain": [
       "<matplotlib.figure.Figure at 0x7f8cea8bdd10>"
      ]
     },
     "metadata": {},
     "output_type": "display_data"
    },
    {
     "data": {
      "text/plain": [
       "<matplotlib.figure.Figure at 0x7f8cea27e910>"
      ]
     },
     "metadata": {},
     "output_type": "display_data"
    },
    {
     "data": {
      "text/plain": [
       "<matplotlib.figure.Figure at 0x7f8cea282490>"
      ]
     },
     "metadata": {},
     "output_type": "display_data"
    },
    {
     "data": {
      "text/plain": [
       "<matplotlib.figure.Figure at 0x7f8cea5ff410>"
      ]
     },
     "metadata": {},
     "output_type": "display_data"
    },
    {
     "data": {
      "text/plain": [
       "<matplotlib.figure.Figure at 0x7f8cea8bd110>"
      ]
     },
     "metadata": {},
     "output_type": "display_data"
    },
    {
     "data": {
      "text/plain": [
       "<matplotlib.figure.Figure at 0x7f8ceae99310>"
      ]
     },
     "metadata": {},
     "output_type": "display_data"
    },
    {
     "data": {
      "text/plain": [
       "<matplotlib.figure.Figure at 0x7f8cea5b5350>"
      ]
     },
     "metadata": {},
     "output_type": "display_data"
    },
    {
     "data": {
      "text/plain": [
       "<matplotlib.figure.Figure at 0x7f8cea9b5690>"
      ]
     },
     "metadata": {},
     "output_type": "display_data"
    },
    {
     "data": {
      "text/plain": [
       "<matplotlib.figure.Figure at 0x7f8cea5a4a50>"
      ]
     },
     "metadata": {},
     "output_type": "display_data"
    },
    {
     "data": {
      "text/plain": [
       "<matplotlib.figure.Figure at 0x7f8ceaf4c1d0>"
      ]
     },
     "metadata": {},
     "output_type": "display_data"
    },
    {
     "data": {
      "text/plain": [
       "<matplotlib.figure.Figure at 0x7f8cea265810>"
      ]
     },
     "metadata": {},
     "output_type": "display_data"
    },
    {
     "data": {
      "text/plain": [
       "<matplotlib.figure.Figure at 0x7f8cea14f790>"
      ]
     },
     "metadata": {},
     "output_type": "display_data"
    },
    {
     "data": {
      "text/plain": [
       "<matplotlib.figure.Figure at 0x7f8cea0d6490>"
      ]
     },
     "metadata": {},
     "output_type": "display_data"
    },
    {
     "data": {
      "text/plain": [
       "<matplotlib.figure.Figure at 0x7f8cea112d90>"
      ]
     },
     "metadata": {},
     "output_type": "display_data"
    },
    {
     "data": {
      "text/plain": [
       "<matplotlib.figure.Figure at 0x7f8cea778e10>"
      ]
     },
     "metadata": {},
     "output_type": "display_data"
    },
    {
     "data": {
      "text/plain": [
       "<matplotlib.figure.Figure at 0x7f8ceab0f410>"
      ]
     },
     "metadata": {},
     "output_type": "display_data"
    },
    {
     "data": {
      "text/plain": [
       "<matplotlib.figure.Figure at 0x7f8cea9c7a90>"
      ]
     },
     "metadata": {},
     "output_type": "display_data"
    },
    {
     "data": {
      "text/plain": [
       "<matplotlib.figure.Figure at 0x7f8ceabdfd10>"
      ]
     },
     "metadata": {},
     "output_type": "display_data"
    },
    {
     "data": {
      "text/plain": [
       "<matplotlib.figure.Figure at 0x7f8ceaefd850>"
      ]
     },
     "metadata": {},
     "output_type": "display_data"
    },
    {
     "data": {
      "text/plain": [
       "<matplotlib.figure.Figure at 0x7f8cea5611d0>"
      ]
     },
     "metadata": {},
     "output_type": "display_data"
    },
    {
     "data": {
      "text/plain": [
       "<matplotlib.figure.Figure at 0x7f8ceaeefa50>"
      ]
     },
     "metadata": {},
     "output_type": "display_data"
    },
    {
     "data": {
      "text/plain": [
       "<matplotlib.figure.Figure at 0x7f8ceb494ed0>"
      ]
     },
     "metadata": {},
     "output_type": "display_data"
    },
    {
     "data": {
      "text/plain": [
       "<matplotlib.figure.Figure at 0x7f8ceb4a7890>"
      ]
     },
     "metadata": {},
     "output_type": "display_data"
    },
    {
     "data": {
      "text/plain": [
       "<matplotlib.figure.Figure at 0x7f8cea21d990>"
      ]
     },
     "metadata": {},
     "output_type": "display_data"
    },
    {
     "data": {
      "text/plain": [
       "<matplotlib.figure.Figure at 0x7f8ceac9d590>"
      ]
     },
     "metadata": {},
     "output_type": "display_data"
    },
    {
     "data": {
      "text/plain": [
       "<matplotlib.figure.Figure at 0x7f8cea7a7650>"
      ]
     },
     "metadata": {},
     "output_type": "display_data"
    },
    {
     "data": {
      "text/plain": [
       "<matplotlib.figure.Figure at 0x7f8ceaa4bed0>"
      ]
     },
     "metadata": {},
     "output_type": "display_data"
    },
    {
     "data": {
      "text/plain": [
       "<matplotlib.figure.Figure at 0x7f8ceabc0090>"
      ]
     },
     "metadata": {},
     "output_type": "display_data"
    },
    {
     "data": {
      "text/plain": [
       "<matplotlib.figure.Figure at 0x7f8cea5078d0>"
      ]
     },
     "metadata": {},
     "output_type": "display_data"
    },
    {
     "data": {
      "text/plain": [
       "<matplotlib.figure.Figure at 0x7f8cea623910>"
      ]
     },
     "metadata": {},
     "output_type": "display_data"
    },
    {
     "data": {
      "text/plain": [
       "<matplotlib.figure.Figure at 0x7f8cea5a4490>"
      ]
     },
     "metadata": {},
     "output_type": "display_data"
    },
    {
     "data": {
      "text/plain": [
       "<matplotlib.figure.Figure at 0x7f8cea13f9d0>"
      ]
     },
     "metadata": {},
     "output_type": "display_data"
    },
    {
     "data": {
      "text/plain": [
       "<matplotlib.figure.Figure at 0x7f8cea0bb550>"
      ]
     },
     "metadata": {},
     "output_type": "display_data"
    },
    {
     "data": {
      "text/plain": [
       "<matplotlib.figure.Figure at 0x7f8cea1f5890>"
      ]
     },
     "metadata": {},
     "output_type": "display_data"
    },
    {
     "data": {
      "text/plain": [
       "<matplotlib.figure.Figure at 0x7f8cea488c50>"
      ]
     },
     "metadata": {},
     "output_type": "display_data"
    },
    {
     "data": {
      "text/plain": [
       "<matplotlib.figure.Figure at 0x7f8cea2452d0>"
      ]
     },
     "metadata": {},
     "output_type": "display_data"
    },
    {
     "data": {
      "text/plain": [
       "<matplotlib.figure.Figure at 0x7f8cead79b50>"
      ]
     },
     "metadata": {},
     "output_type": "display_data"
    },
    {
     "data": {
      "text/plain": [
       "<matplotlib.figure.Figure at 0x7f8cea16ca10>"
      ]
     },
     "metadata": {},
     "output_type": "display_data"
    },
    {
     "data": {
      "text/plain": [
       "<matplotlib.figure.Figure at 0x7f8cea1f5f50>"
      ]
     },
     "metadata": {},
     "output_type": "display_data"
    },
    {
     "data": {
      "text/plain": [
       "<matplotlib.figure.Figure at 0x7f8cea400110>"
      ]
     },
     "metadata": {},
     "output_type": "display_data"
    },
    {
     "data": {
      "text/plain": [
       "<matplotlib.figure.Figure at 0x7f8ceaeb1190>"
      ]
     },
     "metadata": {},
     "output_type": "display_data"
    },
    {
     "data": {
      "text/plain": [
       "<matplotlib.figure.Figure at 0x7f8cea8d50d0>"
      ]
     },
     "metadata": {},
     "output_type": "display_data"
    },
    {
     "data": {
      "text/plain": [
       "<matplotlib.figure.Figure at 0x7f8cea46dd10>"
      ]
     },
     "metadata": {},
     "output_type": "display_data"
    },
    {
     "data": {
      "text/plain": [
       "<matplotlib.figure.Figure at 0x7f8cea670ed0>"
      ]
     },
     "metadata": {},
     "output_type": "display_data"
    },
    {
     "data": {
      "text/plain": [
       "<matplotlib.figure.Figure at 0x7f8cea5619d0>"
      ]
     },
     "metadata": {},
     "output_type": "display_data"
    },
    {
     "data": {
      "text/plain": [
       "<matplotlib.figure.Figure at 0x7f8cea3a06d0>"
      ]
     },
     "metadata": {},
     "output_type": "display_data"
    },
    {
     "data": {
      "text/plain": [
       "<matplotlib.figure.Figure at 0x7f8cea7cd690>"
      ]
     },
     "metadata": {},
     "output_type": "display_data"
    },
    {
     "data": {
      "text/plain": [
       "<matplotlib.figure.Figure at 0x7f8cea1120d0>"
      ]
     },
     "metadata": {},
     "output_type": "display_data"
    },
    {
     "data": {
      "text/plain": [
       "<matplotlib.figure.Figure at 0x7f8cea619390>"
      ]
     },
     "metadata": {},
     "output_type": "display_data"
    },
    {
     "data": {
      "text/plain": [
       "<matplotlib.figure.Figure at 0x7f8cea112a90>"
      ]
     },
     "metadata": {},
     "output_type": "display_data"
    },
    {
     "data": {
      "text/plain": [
       "<matplotlib.figure.Figure at 0x7f8cea44ee50>"
      ]
     },
     "metadata": {},
     "output_type": "display_data"
    },
    {
     "data": {
      "text/plain": [
       "<matplotlib.figure.Figure at 0x7f8cea387c90>"
      ]
     },
     "metadata": {},
     "output_type": "display_data"
    },
    {
     "data": {
      "text/plain": [
       "<matplotlib.figure.Figure at 0x7f8cea31f5d0>"
      ]
     },
     "metadata": {},
     "output_type": "display_data"
    },
    {
     "data": {
      "text/plain": [
       "<matplotlib.figure.Figure at 0x7f8cea72c9d0>"
      ]
     },
     "metadata": {},
     "output_type": "display_data"
    },
    {
     "data": {
      "text/plain": [
       "<matplotlib.figure.Figure at 0x7f8ced889fd0>"
      ]
     },
     "metadata": {},
     "output_type": "display_data"
    },
    {
     "data": {
      "text/plain": [
       "<matplotlib.figure.Figure at 0x7f8cea8abd50>"
      ]
     },
     "metadata": {},
     "output_type": "display_data"
    },
    {
     "data": {
      "text/plain": [
       "<matplotlib.figure.Figure at 0x7f8cea400790>"
      ]
     },
     "metadata": {},
     "output_type": "display_data"
    },
    {
     "data": {
      "text/plain": [
       "<matplotlib.figure.Figure at 0x7f8ceaaa73d0>"
      ]
     },
     "metadata": {},
     "output_type": "display_data"
    },
    {
     "data": {
      "text/plain": [
       "<matplotlib.figure.Figure at 0x7f8ceaeb1fd0>"
      ]
     },
     "metadata": {},
     "output_type": "display_data"
    },
    {
     "data": {
      "text/plain": [
       "<matplotlib.figure.Figure at 0x7f8ceaba0c50>"
      ]
     },
     "metadata": {},
     "output_type": "display_data"
    },
    {
     "data": {
      "text/plain": [
       "<matplotlib.figure.Figure at 0x7f8cea0f5150>"
      ]
     },
     "metadata": {},
     "output_type": "display_data"
    },
    {
     "data": {
      "text/plain": [
       "<matplotlib.figure.Figure at 0x7f8ce9f82710>"
      ]
     },
     "metadata": {},
     "output_type": "display_data"
    },
    {
     "data": {
      "text/plain": [
       "<matplotlib.figure.Figure at 0x7f8cea278d50>"
      ]
     },
     "metadata": {},
     "output_type": "display_data"
    },
    {
     "data": {
      "text/plain": [
       "<matplotlib.figure.Figure at 0x7f8cea709510>"
      ]
     },
     "metadata": {},
     "output_type": "display_data"
    },
    {
     "data": {
      "text/plain": [
       "<matplotlib.figure.Figure at 0x7f8cead79dd0>"
      ]
     },
     "metadata": {},
     "output_type": "display_data"
    },
    {
     "data": {
      "text/plain": [
       "<matplotlib.figure.Figure at 0x7f8cea9e80d0>"
      ]
     },
     "metadata": {},
     "output_type": "display_data"
    },
    {
     "data": {
      "text/plain": [
       "<matplotlib.figure.Figure at 0x7f8cea84b090>"
      ]
     },
     "metadata": {},
     "output_type": "display_data"
    },
    {
     "data": {
      "text/plain": [
       "<matplotlib.figure.Figure at 0x7f8cea6e9790>"
      ]
     },
     "metadata": {},
     "output_type": "display_data"
    },
    {
     "data": {
      "text/plain": [
       "<matplotlib.figure.Figure at 0x7f8ceb4c3510>"
      ]
     },
     "metadata": {},
     "output_type": "display_data"
    },
    {
     "data": {
      "text/plain": [
       "<matplotlib.figure.Figure at 0x7f8cea175810>"
      ]
     },
     "metadata": {},
     "output_type": "display_data"
    },
    {
     "data": {
      "text/plain": [
       "<matplotlib.figure.Figure at 0x7f8cea18a810>"
      ]
     },
     "metadata": {},
     "output_type": "display_data"
    },
    {
     "data": {
      "text/plain": [
       "<matplotlib.figure.Figure at 0x7f8cea832dd0>"
      ]
     },
     "metadata": {},
     "output_type": "display_data"
    },
    {
     "data": {
      "text/plain": [
       "<matplotlib.figure.Figure at 0x7f8ce9f73890>"
      ]
     },
     "metadata": {},
     "output_type": "display_data"
    },
    {
     "data": {
      "text/plain": [
       "<matplotlib.figure.Figure at 0x7f8ce9f24410>"
      ]
     },
     "metadata": {},
     "output_type": "display_data"
    },
    {
     "data": {
      "text/plain": [
       "<matplotlib.figure.Figure at 0x7f8ceb494b50>"
      ]
     },
     "metadata": {},
     "output_type": "display_data"
    },
    {
     "data": {
      "text/plain": [
       "<matplotlib.figure.Figure at 0x7f8ceae9c210>"
      ]
     },
     "metadata": {},
     "output_type": "display_data"
    },
    {
     "data": {
      "text/plain": [
       "<matplotlib.figure.Figure at 0x7f8cea07d3d0>"
      ]
     },
     "metadata": {},
     "output_type": "display_data"
    },
    {
     "data": {
      "text/plain": [
       "<matplotlib.figure.Figure at 0x7f8cead95b90>"
      ]
     },
     "metadata": {},
     "output_type": "display_data"
    },
    {
     "data": {
      "text/plain": [
       "<matplotlib.figure.Figure at 0x7f8cea815dd0>"
      ]
     },
     "metadata": {},
     "output_type": "display_data"
    },
    {
     "data": {
      "text/plain": [
       "<matplotlib.figure.Figure at 0x7f8cead6fb50>"
      ]
     },
     "metadata": {},
     "output_type": "display_data"
    },
    {
     "data": {
      "text/plain": [
       "<matplotlib.figure.Figure at 0x7f8cea224a90>"
      ]
     },
     "metadata": {},
     "output_type": "display_data"
    },
    {
     "data": {
      "text/plain": [
       "<matplotlib.figure.Figure at 0x7f8cea3b6d90>"
      ]
     },
     "metadata": {},
     "output_type": "display_data"
    },
    {
     "data": {
      "text/plain": [
       "<matplotlib.figure.Figure at 0x7f8cea224f50>"
      ]
     },
     "metadata": {},
     "output_type": "display_data"
    },
    {
     "data": {
      "text/plain": [
       "<matplotlib.figure.Figure at 0x7f8cea0fdad0>"
      ]
     },
     "metadata": {},
     "output_type": "display_data"
    },
    {
     "data": {
      "text/plain": [
       "<matplotlib.figure.Figure at 0x7f8cea096150>"
      ]
     },
     "metadata": {},
     "output_type": "display_data"
    },
    {
     "data": {
      "text/plain": [
       "<matplotlib.figure.Figure at 0x7f8cea456f10>"
      ]
     },
     "metadata": {},
     "output_type": "display_data"
    },
    {
     "data": {
      "text/plain": [
       "<matplotlib.figure.Figure at 0x7f8ce9f97410>"
      ]
     },
     "metadata": {},
     "output_type": "display_data"
    },
    {
     "data": {
      "text/plain": [
       "<matplotlib.figure.Figure at 0x7f8cea28ce10>"
      ]
     },
     "metadata": {},
     "output_type": "display_data"
    },
    {
     "data": {
      "text/plain": [
       "<matplotlib.figure.Figure at 0x7f8ce9fd4250>"
      ]
     },
     "metadata": {},
     "output_type": "display_data"
    },
    {
     "data": {
      "text/plain": [
       "<matplotlib.figure.Figure at 0x7f8cea456a90>"
      ]
     },
     "metadata": {},
     "output_type": "display_data"
    },
    {
     "data": {
      "text/plain": [
       "<matplotlib.figure.Figure at 0x7f8cea4bc810>"
      ]
     },
     "metadata": {},
     "output_type": "display_data"
    },
    {
     "data": {
      "text/plain": [
       "<matplotlib.figure.Figure at 0x7f8ceaaf63d0>"
      ]
     },
     "metadata": {},
     "output_type": "display_data"
    },
    {
     "data": {
      "text/plain": [
       "<matplotlib.figure.Figure at 0x7f8cea418e10>"
      ]
     },
     "metadata": {},
     "output_type": "display_data"
    },
    {
     "data": {
      "text/plain": [
       "<matplotlib.figure.Figure at 0x7f8ceabdde50>"
      ]
     },
     "metadata": {},
     "output_type": "display_data"
    },
    {
     "data": {
      "text/plain": [
       "<matplotlib.figure.Figure at 0x7f8ceb509a90>"
      ]
     },
     "metadata": {},
     "output_type": "display_data"
    },
    {
     "data": {
      "text/plain": [
       "<matplotlib.figure.Figure at 0x7f8cea56bc50>"
      ]
     },
     "metadata": {},
     "output_type": "display_data"
    },
    {
     "data": {
      "text/plain": [
       "<matplotlib.figure.Figure at 0x7f8cea53eb50>"
      ]
     },
     "metadata": {},
     "output_type": "display_data"
    },
    {
     "data": {
      "text/plain": [
       "<matplotlib.figure.Figure at 0x7f8cea26c490>"
      ]
     },
     "metadata": {},
     "output_type": "display_data"
    },
    {
     "data": {
      "text/plain": [
       "<matplotlib.figure.Figure at 0x7f8cea398110>"
      ]
     },
     "metadata": {},
     "output_type": "display_data"
    },
    {
     "data": {
      "text/plain": [
       "<matplotlib.figure.Figure at 0x7f8ce9fe7110>"
      ]
     },
     "metadata": {},
     "output_type": "display_data"
    },
    {
     "data": {
      "text/plain": [
       "<matplotlib.figure.Figure at 0x7f8cea71a210>"
      ]
     },
     "metadata": {},
     "output_type": "display_data"
    }
   ],
   "source": [
    "for key in code_mean:\n",
    "    fig = plt.figure()\n",
    "    ax = fig.add_subplot(111)\n",
    "    fig.subplots_adjust(top=0.85)\n",
    "    ax.set_title('Student vs Years: ' + key)\n",
    "    ax.set_xlabel('Student Year')\n",
    "    ax.set_ylabel('Proportion')\n",
    "    #x = np.linspace(code_mean[key]-8*code_sd[key],code_mean[key]+8*code_sd[key],50)\n",
    "    x = np.linspace(0.5,4.5,1000)\n",
    "    ax.plot(x,mlab.normpdf(x,code_mean[key],code_sd[key]),label = key, linewidth=3.0)\n",
    "    \n",
    "    plt.savefig('../data/stuyear/stuyear_'+key)\n",
    "    plt.clf()"
   ]
  },
  {
   "cell_type": "code",
   "execution_count": 14,
   "metadata": {
    "collapsed": false
   },
   "outputs": [],
   "source": [
    "#coursedf.to_csv('../data/classyearmeansd.csv', index = True)"
   ]
  },
  {
   "cell_type": "code",
   "execution_count": 15,
   "metadata": {
    "collapsed": false
   },
   "outputs": [],
   "source": [
    "#data = pd.read_csv('../data/classyearmeansd.csv')\n",
    "#data.head()"
   ]
  },
  {
   "cell_type": "code",
   "execution_count": 16,
   "metadata": {
    "collapsed": false
   },
   "outputs": [],
   "source": [
    "#columns = ['code','1','2','3','4','total_students','mean_grade','standard_dev']\n",
    "#data = data[columns]\n",
    "#data.head()"
   ]
  },
  {
   "cell_type": "code",
   "execution_count": 17,
   "metadata": {
    "collapsed": false
   },
   "outputs": [],
   "source": [
    "#data = pd.read_csv('../data/classyearmeansd.csv')\n",
    "#data.head()"
   ]
  },
  {
   "cell_type": "code",
   "execution_count": null,
   "metadata": {
    "collapsed": true
   },
   "outputs": [],
   "source": []
  }
 ],
 "metadata": {
  "kernelspec": {
   "display_name": "Python 2",
   "language": "python",
   "name": "python2"
  },
  "language_info": {
   "codemirror_mode": {
    "name": "ipython",
    "version": 2
   },
   "file_extension": ".py",
   "mimetype": "text/x-python",
   "name": "python",
   "nbconvert_exporter": "python",
   "pygments_lexer": "ipython2",
   "version": "2.7.11"
  }
 },
 "nbformat": 4,
 "nbformat_minor": 0
}
