{
 "cells": [
  {
   "cell_type": "markdown",
   "metadata": {},
   "source": [
    "# Generating Graphs Based upon Mean and SD\n",
    "\n",
    "Mean and SD are statistically significant so we want to provide the user with some statistical information to guide them through their decision making process.\n",
    "\n",
    "Standard imports"
   ]
  },
  {
   "cell_type": "code",
   "execution_count": 2,
   "metadata": {
    "collapsed": false
   },
   "outputs": [
    {
     "name": "stdout",
     "output_type": "stream",
     "text": [
      "25\n"
     ]
    }
   ],
   "source": [
    "import pandas as pd\n",
    "import numpy as np\n",
    "\n",
    "\n",
    "# Import needed for Data Exploration and Algorithm Developing\\\n",
    "\n",
    "# Import Useful for plotting\n",
    "import matplotlib.pyplot as plt\n",
    "from matplotlib.colors import LogNorm\n",
    "import seaborn as sns\n",
    "from sklearn import preprocessing\n",
    "\n",
    "\n",
    "data = pd.read_csv('../data/course-semesters.csv')\n",
    "print len(data['student_ids'][0][1:-1].split(','))"
   ]
  },
  {
   "cell_type": "code",
   "execution_count": 3,
   "metadata": {
    "collapsed": false
   },
   "outputs": [
    {
     "data": {
      "text/html": [
       "<div>\n",
       "<table border=\"1\" class=\"dataframe\">\n",
       "  <thead>\n",
       "    <tr style=\"text-align: right;\">\n",
       "      <th></th>\n",
       "      <th>code-semester</th>\n",
       "      <th>code</th>\n",
       "      <th>semester</th>\n",
       "      <th>name</th>\n",
       "      <th>prof</th>\n",
       "      <th>redundant_codes</th>\n",
       "      <th>prereqs</th>\n",
       "      <th>student_ids</th>\n",
       "    </tr>\n",
       "  </thead>\n",
       "  <tbody>\n",
       "    <tr>\n",
       "      <th>0</th>\n",
       "      <td>AHS CAP SPR 0607FA</td>\n",
       "      <td>AHS CAP SPR</td>\n",
       "      <td>0607FA</td>\n",
       "      <td>AHS CapstoneSpring Pre-registration</td>\n",
       "      <td>Martello, Robert</td>\n",
       "      <td>[]</td>\n",
       "      <td>[]</td>\n",
       "      <td>[23925034, 99052948, 29826367, 91614816, 95699...</td>\n",
       "    </tr>\n",
       "    <tr>\n",
       "      <th>1</th>\n",
       "      <td>AHS CAP SPR 0708FA</td>\n",
       "      <td>AHS CAP SPR</td>\n",
       "      <td>0708FA</td>\n",
       "      <td>AHS CapstoneSpring Pre-registration</td>\n",
       "      <td>Lynch, Caitrin</td>\n",
       "      <td>[]</td>\n",
       "      <td>[]</td>\n",
       "      <td>[30876146, 98014488, 67373835, 67291012, 84935...</td>\n",
       "    </tr>\n",
       "    <tr>\n",
       "      <th>2</th>\n",
       "      <td>AHS1101     0203FA</td>\n",
       "      <td>AHS1101</td>\n",
       "      <td>0203FA</td>\n",
       "      <td>History and Society Bodies in Motion: Migratio...</td>\n",
       "      <td>Fleischmann, Fritz</td>\n",
       "      <td>[]</td>\n",
       "      <td>[]</td>\n",
       "      <td>[39854219, 16495441, 74816072, 85835441, 28902...</td>\n",
       "    </tr>\n",
       "    <tr>\n",
       "      <th>3</th>\n",
       "      <td>AHS1101     0304FA</td>\n",
       "      <td>AHS1101</td>\n",
       "      <td>0304FA</td>\n",
       "      <td>History and Society Bodies in Motion: Migratio...</td>\n",
       "      <td>Fleischmann, Fritz</td>\n",
       "      <td>[]</td>\n",
       "      <td>[]</td>\n",
       "      <td>[42715736, 29826367, 10463379, 22502956, 91614...</td>\n",
       "    </tr>\n",
       "    <tr>\n",
       "      <th>4</th>\n",
       "      <td>AHS1102     0203FA</td>\n",
       "      <td>AHS1102</td>\n",
       "      <td>0203FA</td>\n",
       "      <td>Arts and Humanities The Quest</td>\n",
       "      <td>Tropp, Martin</td>\n",
       "      <td>[]</td>\n",
       "      <td>[]</td>\n",
       "      <td>[41057699, 96482981, 16062888, 59108778, 39329...</td>\n",
       "    </tr>\n",
       "  </tbody>\n",
       "</table>\n",
       "</div>"
      ],
      "text/plain": [
       "        code-semester         code semester  \\\n",
       "0  AHS CAP SPR 0607FA  AHS CAP SPR   0607FA   \n",
       "1  AHS CAP SPR 0708FA  AHS CAP SPR   0708FA   \n",
       "2  AHS1101     0203FA      AHS1101   0203FA   \n",
       "3  AHS1101     0304FA      AHS1101   0304FA   \n",
       "4  AHS1102     0203FA      AHS1102   0203FA   \n",
       "\n",
       "                                                name                prof  \\\n",
       "0                AHS CapstoneSpring Pre-registration    Martello, Robert   \n",
       "1                AHS CapstoneSpring Pre-registration      Lynch, Caitrin   \n",
       "2  History and Society Bodies in Motion: Migratio...  Fleischmann, Fritz   \n",
       "3  History and Society Bodies in Motion: Migratio...  Fleischmann, Fritz   \n",
       "4                      Arts and Humanities The Quest       Tropp, Martin   \n",
       "\n",
       "  redundant_codes prereqs                                        student_ids  \n",
       "0              []      []  [23925034, 99052948, 29826367, 91614816, 95699...  \n",
       "1              []      []  [30876146, 98014488, 67373835, 67291012, 84935...  \n",
       "2              []      []  [39854219, 16495441, 74816072, 85835441, 28902...  \n",
       "3              []      []  [42715736, 29826367, 10463379, 22502956, 91614...  \n",
       "4              []      []  [41057699, 96482981, 16062888, 59108778, 39329...  "
      ]
     },
     "execution_count": 3,
     "metadata": {},
     "output_type": "execute_result"
    }
   ],
   "source": [
    "data.head()"
   ]
  },
  {
   "cell_type": "code",
   "execution_count": 4,
   "metadata": {
    "collapsed": false
   },
   "outputs": [
    {
     "name": "stdout",
     "output_type": "stream",
     "text": [
      "total no. of cases:  1614\n",
      "no. of unique data in code-semester: 1614\n",
      "no. of unique data in code: 306\n",
      "no. of unique data in semester: 28\n",
      "no. of unique data in name: 490\n",
      "no. of unique data in prof: 135\n",
      "no. of unique data in redundant_codes: 1\n",
      "no. of unique data in prereqs: 1\n",
      "no. of unique data in student_ids: 1501\n"
     ]
    }
   ],
   "source": [
    "# Checking total number of unique data in each column of data set\n",
    "print 'total no. of cases: ', len(data)\n",
    "for field in data:\n",
    "    if field in ['Id']:\n",
    "        continue\n",
    "    else:\n",
    "        print 'no. of unique data in ' + field + ':', len(data[field].unique())"
   ]
  },
  {
   "cell_type": "markdown",
   "metadata": {},
   "source": [
    "## Functions for Determining Mean and SD for Class ver num students"
   ]
  },
  {
   "cell_type": "code",
   "execution_count": 5,
   "metadata": {
    "collapsed": false
   },
   "outputs": [],
   "source": [
    "def edit_course_names_in_dataframe(data):\n",
    "    \"\"\"\n",
    "    Rids of repetitive courses with alphabet in the end\n",
    "    \"\"\"\n",
    "    for i in range(len(data['code'])):\n",
    "        if data['code'][i][-1].isalpha():\n",
    "            if data['code'][i][-1] is 'R':\n",
    "                pass\n",
    "            else:\n",
    "                data['code'][i] = data['code'][i][0:-1]\n",
    "        else:\n",
    "            pass\n",
    "    return data['code']\n",
    "\n",
    "def list_all_courses(data):\n",
    "    \"\"\"\n",
    "    Works for the course-semester.csv dataset\n",
    "    finds mean number of students and standard deviation for each course\n",
    "    throughout the years\n",
    "    \"\"\"\n",
    "    course_data = edit_course_names_in_dataframe(data)\n",
    "    holder = []\n",
    "    for i in range(len(data)):\n",
    "        if data['code'][i] not in holder:\n",
    "            holder += [data['code'][i]]\n",
    "        else:\n",
    "            continue\n",
    "    return holder        \n",
    "\n",
    "def dict_code_index(data):\n",
    "    \"\"\"\n",
    "    generates dictionary linking each course to index in csv\n",
    "    \"\"\"\n",
    "    data2 = data\n",
    "    data2['code'] = edit_course_names_in_dataframe(data)\n",
    "    dict_code_index = {}\n",
    "    for i in range(len(data2['code'])):\n",
    "        if data2['code'][i] in dict_code_index:\n",
    "            dict_code_index[data2['code'][i]] = dict_code_index[data2['code'][i]] + [i]\n",
    "        else:\n",
    "            dict_code_index[data2['code'][i]] = [i]\n",
    "    return dict_code_index\n",
    "\n",
    "def dict_code_mean(data):\n",
    "    \"\"\"\n",
    "    Generates dictionary linking each course to mean num of students\n",
    "    \"\"\"\n",
    "    data2 = data\n",
    "    code_index = dict_code_index(data2)\n",
    "    dict_code_mean = {}\n",
    "    \n",
    "    for key in code_index:\n",
    "        a = float(0)\n",
    "        for index in code_index[key]:\n",
    "            a += len(data2['student_ids'][index][1:-1].split(','))\n",
    "        dict_code_mean[key] = a/len(code_index[key])\n",
    "    return dict_code_mean\n",
    "\n",
    "from math import sqrt\n",
    "\n",
    "def dict_code_sd(data):\n",
    "    data2 = data\n",
    "    code_mean = dict_code_mean(data2)\n",
    "    code_index = dict_code_index(data2)\n",
    "    \n",
    "    dict_code_sd = {}\n",
    "    \n",
    "    for key in code_index:\n",
    "        a = float(0)\n",
    "        for index in code_index[key]:\n",
    "            a += (len(data2['student_ids'][index][1:-1].split(',')) - code_mean[key])**2\n",
    "        dict_code_sd[key] = sqrt(a/len(code_index[key]))\n",
    "    \n",
    "    return dict_code_sd"
   ]
  },
  {
   "cell_type": "markdown",
   "metadata": {},
   "source": [
    "## Normal Distribution amongst mean"
   ]
  },
  {
   "cell_type": "code",
   "execution_count": 43,
   "metadata": {
    "collapsed": false
   },
   "outputs": [
    {
     "data": {
      "image/png": "[encoded data removed]",
      "text/plain": [
       "<matplotlib.figure.Figure at 0x7fd8d6bbb9d0>"
      ]
     },
     "metadata": {},
     "output_type": "display_data"
    },
    {
     "data": {
      "text/plain": [
       "<matplotlib.figure.Figure at 0x7fd8d6bbb7d0>"
      ]
     },
     "metadata": {},
     "output_type": "display_data"
    }
   ],
   "source": [
    "# import matplotlib.pyplot as plt\n",
    "import numpy as np\n",
    "import matplotlib.mlab as mlab\n",
    "import math\n",
    "import thinkplot as tplt\n",
    "%matplotlib inline\n",
    "\n",
    "wow = dict_code_index(data)\n",
    "code_mean = dict_code_mean(data)\n",
    "code_sd = dict_code_sd(data)\n",
    "\n",
    "i = 30\n",
    "i2 =12\n",
    "key = data['code'][i]\n",
    "key2 = data['code'][i2]\n",
    "\n",
    "mean = code_mean[key]\n",
    "sigma = code_sd[key]\n",
    "mean2 = code_mean[key2]\n",
    "sigma2 = code_sd[key2]\n",
    "\n",
    "labels = [code_sd[key],code_sd[key2]]\n",
    "\n",
    "x = np.linspace(-10,35,100)\n",
    "tplt.plot(x,mlab.normpdf(x,mean,sigma),label = key)\n",
    "tplt.plot(x,mlab.normpdf(x,mean2,sigma2),label = key2)\n",
    "tplt.show()\n"
   ]
  },
  {
   "cell_type": "code",
   "execution_count": null,
   "metadata": {
    "collapsed": true
   },
   "outputs": [],
   "source": []
  },
  {
   "cell_type": "code",
   "execution_count": null,
   "metadata": {
    "collapsed": false
   },
   "outputs": [],
   "source": [
    "code_mean"
   ]
  },
  {
   "cell_type": "code",
   "execution_count": null,
   "metadata": {
    "collapsed": false
   },
   "outputs": [],
   "source": [
    "code_sd"
   ]
  },
  {
   "cell_type": "code",
   "execution_count": null,
   "metadata": {
    "collapsed": true
   },
   "outputs": [],
   "source": []
  }
 ],
 "metadata": {
  "kernelspec": {
   "display_name": "Python 2",
   "language": "python",
   "name": "python2"
  },
  "language_info": {
   "codemirror_mode": {
    "name": "ipython",
    "version": 2
   },
   "file_extension": ".py",
   "mimetype": "text/x-python",
   "name": "python",
   "nbconvert_exporter": "python",
   "pygments_lexer": "ipython2",
   "version": "2.7.11"
  }
 },
 "nbformat": 4,
 "nbformat_minor": 0
}
