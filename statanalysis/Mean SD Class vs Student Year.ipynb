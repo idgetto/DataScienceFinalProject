{
 "cells": [
  {
   "cell_type": "markdown",
   "metadata": {},
   "source": [
    "# Generating Graphs Based upon Mean and SD\n",
    "\n",
    "Mean and SD are statistically significant so we want to provide the user with some statistical information to guide them through their decision making process.\n",
    "\n",
    "Standard imports"
   ]
  },
  {
   "cell_type": "code",
   "execution_count": 1,
   "metadata": {
    "collapsed": false
   },
   "outputs": [
    {
     "name": "stderr",
     "output_type": "stream",
     "text": [
      "/home/tj/anaconda2/lib/python2.7/site-packages/matplotlib/font_manager.py:273: UserWarning: Matplotlib is building the font cache using fc-list. This may take a moment.\n",
      "  warnings.warn('Matplotlib is building the font cache using fc-list. This may take a moment.')\n"
     ]
    }
   ],
   "source": [
    "import pandas as pd\n",
    "import numpy as np\n",
    "\n",
    "\n",
    "# Import needed for Data Exploration and Algorithm Developing\\\n",
    "\n",
    "# Import Useful for plotting\n",
    "import matplotlib.pyplot as plt\n",
    "from matplotlib.colors import LogNorm\n",
    "import seaborn as sns\n",
    "from sklearn import preprocessing\n",
    "\n",
    "\n",
    "data = pd.read_csv('../data/course-semesters.csv')\n",
    "orig = pd.read_csv('../data/student0216.csv')"
   ]
  },
  {
   "cell_type": "code",
   "execution_count": 2,
   "metadata": {
    "collapsed": false
   },
   "outputs": [
    {
     "data": {
      "text/html": [
       "<div>\n",
       "<table border=\"1\" class=\"dataframe\">\n",
       "  <thead>\n",
       "    <tr style=\"text-align: right;\">\n",
       "      <th></th>\n",
       "      <th>studentid</th>\n",
       "      <th>entranceyear</th>\n",
       "      <th>finalyear</th>\n",
       "      <th>majors</th>\n",
       "      <th>concentrations</th>\n",
       "      <th>finalmajor</th>\n",
       "      <th>finalconcentration</th>\n",
       "      <th>code-semester</th>\n",
       "    </tr>\n",
       "  </thead>\n",
       "  <tbody>\n",
       "    <tr>\n",
       "      <th>0</th>\n",
       "      <td>10136845</td>\n",
       "      <td>2013</td>\n",
       "      <td>2016</td>\n",
       "      <td>['Undeclared' 'Mechanical Engineering']</td>\n",
       "      <td>[nan]</td>\n",
       "      <td>Mechanical Engineering</td>\n",
       "      <td>NaN</td>\n",
       "      <td>['AHSE1145 1314FA' 'AHSE2141 1314SP' 'AHSE2199...</td>\n",
       "    </tr>\n",
       "    <tr>\n",
       "      <th>1</th>\n",
       "      <td>10191843</td>\n",
       "      <td>2014</td>\n",
       "      <td>2015</td>\n",
       "      <td>['Undeclared']</td>\n",
       "      <td>[nan]</td>\n",
       "      <td>Undeclared</td>\n",
       "      <td>NaN</td>\n",
       "      <td>['AHSE1145 1415FA' 'AHSE1515 1415SP' 'ENGR1125...</td>\n",
       "    </tr>\n",
       "    <tr>\n",
       "      <th>2</th>\n",
       "      <td>10208842</td>\n",
       "      <td>2014</td>\n",
       "      <td>2016</td>\n",
       "      <td>['Undeclared' 'Engineering']</td>\n",
       "      <td>['Computing']</td>\n",
       "      <td>Engineering</td>\n",
       "      <td>Computing</td>\n",
       "      <td>['AHSE1199 1415FA' 'AHSE1515 1415SP' 'ENGR0097...</td>\n",
       "    </tr>\n",
       "    <tr>\n",
       "      <th>3</th>\n",
       "      <td>10324389</td>\n",
       "      <td>2007</td>\n",
       "      <td>2011</td>\n",
       "      <td>['Undeclared' 'Engineering']</td>\n",
       "      <td>['Self Designed']</td>\n",
       "      <td>Engineering</td>\n",
       "      <td>Self Designed</td>\n",
       "      <td>['AHSE1199 0708FA' 'AHSE1500 0809FA' 'AHSE2199...</td>\n",
       "    </tr>\n",
       "    <tr>\n",
       "      <th>4</th>\n",
       "      <td>10463379</td>\n",
       "      <td>2003</td>\n",
       "      <td>2007</td>\n",
       "      <td>['Undeclared' \"Electr'l &amp; Computer Engr\" 'Mech...</td>\n",
       "      <td>[nan]</td>\n",
       "      <td>Mechanical Engineering</td>\n",
       "      <td>NaN</td>\n",
       "      <td>['AHS1101 0304FA' 'AHS1111 0304SP' 'AHSE1500 0...</td>\n",
       "    </tr>\n",
       "  </tbody>\n",
       "</table>\n",
       "</div>"
      ],
      "text/plain": [
       "   studentid  entranceyear  finalyear  \\\n",
       "0   10136845          2013       2016   \n",
       "1   10191843          2014       2015   \n",
       "2   10208842          2014       2016   \n",
       "3   10324389          2007       2011   \n",
       "4   10463379          2003       2007   \n",
       "\n",
       "                                              majors     concentrations  \\\n",
       "0            ['Undeclared' 'Mechanical Engineering']              [nan]   \n",
       "1                                     ['Undeclared']              [nan]   \n",
       "2                       ['Undeclared' 'Engineering']      ['Computing']   \n",
       "3                       ['Undeclared' 'Engineering']  ['Self Designed']   \n",
       "4  ['Undeclared' \"Electr'l & Computer Engr\" 'Mech...              [nan]   \n",
       "\n",
       "               finalmajor finalconcentration  \\\n",
       "0  Mechanical Engineering                NaN   \n",
       "1              Undeclared                NaN   \n",
       "2             Engineering          Computing   \n",
       "3             Engineering      Self Designed   \n",
       "4  Mechanical Engineering                NaN   \n",
       "\n",
       "                                       code-semester  \n",
       "0  ['AHSE1145 1314FA' 'AHSE2141 1314SP' 'AHSE2199...  \n",
       "1  ['AHSE1145 1415FA' 'AHSE1515 1415SP' 'ENGR1125...  \n",
       "2  ['AHSE1199 1415FA' 'AHSE1515 1415SP' 'ENGR0097...  \n",
       "3  ['AHSE1199 0708FA' 'AHSE1500 0809FA' 'AHSE2199...  \n",
       "4  ['AHS1101 0304FA' 'AHS1111 0304SP' 'AHSE1500 0...  "
      ]
     },
     "execution_count": 2,
     "metadata": {},
     "output_type": "execute_result"
    }
   ],
   "source": [
    "orig.head()"
   ]
  },
  {
   "cell_type": "code",
   "execution_count": 4,
   "metadata": {
    "collapsed": false
   },
   "outputs": [
    {
     "data": {
      "text/html": [
       "<div>\n",
       "<table border=\"1\" class=\"dataframe\">\n",
       "  <thead>\n",
       "    <tr style=\"text-align: right;\">\n",
       "      <th></th>\n",
       "      <th>code-semester</th>\n",
       "      <th>code</th>\n",
       "      <th>semester</th>\n",
       "      <th>name</th>\n",
       "      <th>prof</th>\n",
       "      <th>redundant_codes</th>\n",
       "      <th>prereqs</th>\n",
       "      <th>student_ids</th>\n",
       "    </tr>\n",
       "  </thead>\n",
       "  <tbody>\n",
       "    <tr>\n",
       "      <th>0</th>\n",
       "      <td>AHS CAP SPR 0607FA</td>\n",
       "      <td>AHS CAP SPR</td>\n",
       "      <td>0607FA</td>\n",
       "      <td>AHS CapstoneSpring Pre-registration</td>\n",
       "      <td>Martello, Robert</td>\n",
       "      <td>[]</td>\n",
       "      <td>[]</td>\n",
       "      <td>[23925034, 99052948, 29826367, 91614816, 95699...</td>\n",
       "    </tr>\n",
       "    <tr>\n",
       "      <th>1</th>\n",
       "      <td>AHS CAP SPR 0708FA</td>\n",
       "      <td>AHS CAP SPR</td>\n",
       "      <td>0708FA</td>\n",
       "      <td>AHS CapstoneSpring Pre-registration</td>\n",
       "      <td>Lynch, Caitrin</td>\n",
       "      <td>[]</td>\n",
       "      <td>[]</td>\n",
       "      <td>[30876146, 98014488, 67373835, 67291012, 84935...</td>\n",
       "    </tr>\n",
       "    <tr>\n",
       "      <th>2</th>\n",
       "      <td>AHS1101     0203FA</td>\n",
       "      <td>AHS1101</td>\n",
       "      <td>0203FA</td>\n",
       "      <td>History and Society Bodies in Motion: Migratio...</td>\n",
       "      <td>Fleischmann, Fritz</td>\n",
       "      <td>[]</td>\n",
       "      <td>[]</td>\n",
       "      <td>[39854219, 16495441, 74816072, 85835441, 28902...</td>\n",
       "    </tr>\n",
       "    <tr>\n",
       "      <th>3</th>\n",
       "      <td>AHS1101     0304FA</td>\n",
       "      <td>AHS1101</td>\n",
       "      <td>0304FA</td>\n",
       "      <td>History and Society Bodies in Motion: Migratio...</td>\n",
       "      <td>Fleischmann, Fritz</td>\n",
       "      <td>[]</td>\n",
       "      <td>[]</td>\n",
       "      <td>[42715736, 29826367, 10463379, 22502956, 91614...</td>\n",
       "    </tr>\n",
       "    <tr>\n",
       "      <th>4</th>\n",
       "      <td>AHS1102     0203FA</td>\n",
       "      <td>AHS1102</td>\n",
       "      <td>0203FA</td>\n",
       "      <td>Arts and Humanities The Quest</td>\n",
       "      <td>Tropp, Martin</td>\n",
       "      <td>[]</td>\n",
       "      <td>[]</td>\n",
       "      <td>[41057699, 96482981, 16062888, 59108778, 39329...</td>\n",
       "    </tr>\n",
       "  </tbody>\n",
       "</table>\n",
       "</div>"
      ],
      "text/plain": [
       "        code-semester         code semester  \\\n",
       "0  AHS CAP SPR 0607FA  AHS CAP SPR   0607FA   \n",
       "1  AHS CAP SPR 0708FA  AHS CAP SPR   0708FA   \n",
       "2  AHS1101     0203FA      AHS1101   0203FA   \n",
       "3  AHS1101     0304FA      AHS1101   0304FA   \n",
       "4  AHS1102     0203FA      AHS1102   0203FA   \n",
       "\n",
       "                                                name                prof  \\\n",
       "0                AHS CapstoneSpring Pre-registration    Martello, Robert   \n",
       "1                AHS CapstoneSpring Pre-registration      Lynch, Caitrin   \n",
       "2  History and Society Bodies in Motion: Migratio...  Fleischmann, Fritz   \n",
       "3  History and Society Bodies in Motion: Migratio...  Fleischmann, Fritz   \n",
       "4                      Arts and Humanities The Quest       Tropp, Martin   \n",
       "\n",
       "  redundant_codes prereqs                                        student_ids  \n",
       "0              []      []  [23925034, 99052948, 29826367, 91614816, 95699...  \n",
       "1              []      []  [30876146, 98014488, 67373835, 67291012, 84935...  \n",
       "2              []      []  [39854219, 16495441, 74816072, 85835441, 28902...  \n",
       "3              []      []  [42715736, 29826367, 10463379, 22502956, 91614...  \n",
       "4              []      []  [41057699, 96482981, 16062888, 59108778, 39329...  "
      ]
     },
     "execution_count": 4,
     "metadata": {},
     "output_type": "execute_result"
    }
   ],
   "source": [
    "data.head()"
   ]
  },
  {
   "cell_type": "code",
   "execution_count": 5,
   "metadata": {
    "collapsed": false
   },
   "outputs": [
    {
     "name": "stdout",
     "output_type": "stream",
     "text": [
      "total no. of cases:  1614\n",
      "no. of unique data in code-semester: 1614\n",
      "no. of unique data in code: 306\n",
      "no. of unique data in semester: 28\n",
      "no. of unique data in name: 490\n",
      "no. of unique data in prof: 135\n",
      "no. of unique data in redundant_codes: 1\n",
      "no. of unique data in prereqs: 1\n",
      "no. of unique data in student_ids: 1501\n"
     ]
    }
   ],
   "source": [
    "# Checking total number of unique data in each column of data set\n",
    "print 'total no. of cases: ', len(data)\n",
    "for field in data:\n",
    "    if field in ['Id']:\n",
    "        continue\n",
    "    else:\n",
    "        print 'no. of unique data in ' + field + ':', len(data[field].unique())"
   ]
  },
  {
   "cell_type": "code",
   "execution_count": null,
   "metadata": {
    "collapsed": false
   },
   "outputs": [],
   "source": [
    "# editing orig data\n",
    "\n",
    "def add_year(orig):\n",
    "    orig['numgrade'] = 0\n",
    "    for i in range(len(orig)):\n",
    "        a = 0\n",
    "        \n",
    "        if orig['grade'][i] == 'FR':\n",
    "            a = 1\n",
    "            if orig['semester'][i][-2:] == 'SP':\n",
    "                a = 1.5\n",
    "            else:\n",
    "                pass\n",
    "        elif orig['grade'][i] == 'SO':\n",
    "            a = 2\n",
    "            if orig['semester'][i][-2:] == 'SP':\n",
    "                a = 2.5\n",
    "            else:\n",
    "                pass\n",
    "        elif orig['grade'][i] == 'JR':\n",
    "            a = 3\n",
    "            if orig['semester'][i][-2:] == 'SP':\n",
    "                a = 3.5\n",
    "            else:\n",
    "                pass\n",
    "        elif orig['grade'][i] == 'SR':\n",
    "            a = 4\n",
    "            if orig['semester'][i][-2:] == 'SP':\n",
    "                a = 4.5\n",
    "            else:\n",
    "                pass\n",
    "            \n",
    "        orig['numgrade'][i] = a"
   ]
  },
  {
   "cell_type": "markdown",
   "metadata": {},
   "source": [
    "## Functions for Determining Mean and SD for Class ver student years"
   ]
  },
  {
   "cell_type": "code",
   "execution_count": 7,
   "metadata": {
    "collapsed": false
   },
   "outputs": [
    {
     "ename": "ValueError",
     "evalue": "The truth value of a Series is ambiguous. Use a.empty, a.bool(), a.item(), a.any() or a.all().",
     "output_type": "error",
     "traceback": [
      "\u001b[1;31m---------------------------------------------------------------------------\u001b[0m",
      "\u001b[1;31mValueError\u001b[0m                                Traceback (most recent call last)",
      "\u001b[1;32m<ipython-input-7-b19bcb876696>\u001b[0m in \u001b[0;36m<module>\u001b[1;34m()\u001b[0m\n\u001b[0;32m     56\u001b[0m                 \u001b[1;32mprint\u001b[0m \u001b[0mhold\u001b[0m\u001b[1;33m\u001b[0m\u001b[0m\n\u001b[0;32m     57\u001b[0m \u001b[1;33m\u001b[0m\u001b[0m\n\u001b[1;32m---> 58\u001b[1;33m \u001b[0mgrab_year\u001b[0m\u001b[1;33m(\u001b[0m\u001b[0mdata\u001b[0m\u001b[1;33m,\u001b[0m\u001b[0morig\u001b[0m\u001b[1;33m)\u001b[0m\u001b[1;33m\u001b[0m\u001b[0m\n\u001b[0m\u001b[0;32m     59\u001b[0m \u001b[1;33m\u001b[0m\u001b[0m\n\u001b[0;32m     60\u001b[0m \u001b[1;32mdef\u001b[0m \u001b[0mdict_code_mean\u001b[0m\u001b[1;33m(\u001b[0m\u001b[0mdata\u001b[0m\u001b[1;33m)\u001b[0m\u001b[1;33m:\u001b[0m\u001b[1;33m\u001b[0m\u001b[0m\n",
      "\u001b[1;32m<ipython-input-7-b19bcb876696>\u001b[0m in \u001b[0;36mgrab_year\u001b[1;34m(data, orig)\u001b[0m\n\u001b[0;32m     53\u001b[0m         \u001b[1;32mfor\u001b[0m \u001b[0mindex\u001b[0m \u001b[1;32min\u001b[0m \u001b[0mcode_index\u001b[0m\u001b[1;33m[\u001b[0m\u001b[0mkey\u001b[0m\u001b[1;33m]\u001b[0m\u001b[1;33m:\u001b[0m\u001b[1;33m\u001b[0m\u001b[0m\n\u001b[0;32m     54\u001b[0m             \u001b[1;32mfor\u001b[0m \u001b[0mstudent\u001b[0m \u001b[1;32min\u001b[0m \u001b[0mdata2\u001b[0m\u001b[1;33m[\u001b[0m\u001b[1;34m'student_ids'\u001b[0m\u001b[1;33m]\u001b[0m\u001b[1;33m[\u001b[0m\u001b[0mindex\u001b[0m\u001b[1;33m]\u001b[0m\u001b[1;33m[\u001b[0m\u001b[1;36m1\u001b[0m\u001b[1;33m:\u001b[0m\u001b[1;33m-\u001b[0m\u001b[1;36m1\u001b[0m\u001b[1;33m]\u001b[0m\u001b[1;33m.\u001b[0m\u001b[0msplit\u001b[0m\u001b[1;33m(\u001b[0m\u001b[1;34m', '\u001b[0m\u001b[1;33m)\u001b[0m\u001b[1;33m:\u001b[0m\u001b[1;33m\u001b[0m\u001b[0m\n\u001b[1;32m---> 55\u001b[1;33m                 \u001b[0mhold\u001b[0m \u001b[1;33m=\u001b[0m \u001b[0morig2\u001b[0m\u001b[1;33m[\u001b[0m\u001b[0morig2\u001b[0m\u001b[1;33m[\u001b[0m\u001b[1;34m'studentid'\u001b[0m\u001b[1;33m]\u001b[0m \u001b[1;33m==\u001b[0m \u001b[0mfloat\u001b[0m\u001b[1;33m(\u001b[0m\u001b[0mstudent\u001b[0m\u001b[1;33m)\u001b[0m \u001b[1;32mand\u001b[0m \u001b[0morig2\u001b[0m\u001b[1;33m[\u001b[0m\u001b[1;34m'code-semester'\u001b[0m\u001b[1;33m]\u001b[0m \u001b[1;33m==\u001b[0m \u001b[0mdata2\u001b[0m\u001b[1;33m[\u001b[0m\u001b[1;34m'code-semester'\u001b[0m\u001b[1;33m]\u001b[0m\u001b[1;33m[\u001b[0m\u001b[0mindex\u001b[0m\u001b[1;33m]\u001b[0m\u001b[1;33m]\u001b[0m\u001b[1;33m\u001b[0m\u001b[0m\n\u001b[0m\u001b[0;32m     56\u001b[0m                 \u001b[1;32mprint\u001b[0m \u001b[0mhold\u001b[0m\u001b[1;33m\u001b[0m\u001b[0m\n\u001b[0;32m     57\u001b[0m \u001b[1;33m\u001b[0m\u001b[0m\n",
      "\u001b[1;32m/home/tj/anaconda2/lib/python2.7/site-packages/pandas/core/generic.pyc\u001b[0m in \u001b[0;36m__nonzero__\u001b[1;34m(self)\u001b[0m\n\u001b[0;32m    729\u001b[0m         raise ValueError(\"The truth value of a {0} is ambiguous. \"\n\u001b[0;32m    730\u001b[0m                          \u001b[1;34m\"Use a.empty, a.bool(), a.item(), a.any() or a.all().\"\u001b[0m\u001b[1;33m\u001b[0m\u001b[0m\n\u001b[1;32m--> 731\u001b[1;33m                          .format(self.__class__.__name__))\n\u001b[0m\u001b[0;32m    732\u001b[0m \u001b[1;33m\u001b[0m\u001b[0m\n\u001b[0;32m    733\u001b[0m     \u001b[0m__bool__\u001b[0m \u001b[1;33m=\u001b[0m \u001b[0m__nonzero__\u001b[0m\u001b[1;33m\u001b[0m\u001b[0m\n",
      "\u001b[1;31mValueError\u001b[0m: The truth value of a Series is ambiguous. Use a.empty, a.bool(), a.item(), a.any() or a.all()."
     ]
    }
   ],
   "source": [
    "def edit_course_names_in_dataframe(data):\n",
    "    \"\"\"\n",
    "    Rids of repetitive courses with alphabet in the end\n",
    "    \"\"\"\n",
    "    for i in range(len(data['code'])):\n",
    "        if data['code'][i][-1].isalpha():\n",
    "            if data['code'][i][-1] is 'R':\n",
    "                pass\n",
    "            else:\n",
    "                data['code'][i] = data['code'][i][0:-1]\n",
    "        else:\n",
    "            pass\n",
    "    return data['code']\n",
    "\n",
    "def list_all_courses(data):\n",
    "    \"\"\"\n",
    "    Works for the course-semester.csv dataset\n",
    "    finds mean number of students and standard deviation for each course\n",
    "    throughout the years\n",
    "    \"\"\"\n",
    "    course_data = edit_course_names_in_dataframe(data)\n",
    "    holder = []\n",
    "    for i in range(len(data)):\n",
    "        if data['code'][i] not in holder:\n",
    "            holder += [data['code'][i]]\n",
    "        else:\n",
    "            continue\n",
    "    return holder        \n",
    "\n",
    "def dict_code_index(data):\n",
    "    \"\"\"\n",
    "    generates dictionary linking each course to index in csv\n",
    "    \"\"\"\n",
    "    data2 = data\n",
    "    data2['code'] = edit_course_names_in_dataframe(data)\n",
    "    dict_code_index = {}\n",
    "    for i in range(len(data2['code'])):\n",
    "        if data2['code'][i] in dict_code_index:\n",
    "            dict_code_index[data2['code'][i]] = dict_code_index[data2['code'][i]] + [i]\n",
    "        else:\n",
    "            dict_code_index[data2['code'][i]] = [i]\n",
    "    return dict_code_index\n",
    "\n",
    "def grab_year(data, orig):\n",
    "    \"\"\"\n",
    "    Grabs mean year of students for each class\n",
    "    \"\"\"\n",
    "    data2 = data.copy()\n",
    "    orig2 = orig.copy()\n",
    "    code_index = dict_code_index(data)\n",
    "    dict_grab_year = {}\n",
    "    for key in code_index:\n",
    "        for index in code_index[key]:\n",
    "            for student in data2['student_ids'][index][1:-1].split(', '):\n",
    "                hold = orig2[orig2['studentid'] == float(student)]\n",
    "                hold = orig2[orig2['code-semester'] == data2['code-semester'][index]]\n",
    "                print hold\n",
    "                \n",
    "grab_year(data,orig)\n",
    "    \n",
    "def dict_code_mean(data):\n",
    "    \"\"\"\n",
    "    Generates dictionary linking each course to mean num of students\n",
    "    \"\"\"\n",
    "    data2 = data\n",
    "    code_index = dict_code_index(data2)\n",
    "    dict_code_mean = {}\n",
    "    \n",
    "    for key in code_index:\n",
    "        a = float(0)\n",
    "        for index in code_index[key]:\n",
    "            a += len(data2['student_ids'][index][1:-1].split(', '))\n",
    "        dict_code_mean[key] = a/len(code_index[key])\n",
    "    return dict_code_mean\n",
    "\n",
    "from math import sqrt\n",
    "\n",
    "def dict_code_sd(data):\n",
    "    data2 = data\n",
    "    code_mean = dict_code_mean(data2)\n",
    "    code_index = dict_code_index(data2)\n",
    "    \n",
    "    dict_code_sd = {}\n",
    "    \n",
    "    for key in code_index:\n",
    "        a = float(0)\n",
    "        for index in code_index[key]:\n",
    "            a += (len(data2['student_ids'][index][1:-1].split(', ')) - code_mean[key])**2\n",
    "        dict_code_sd[key] = sqrt(a/len(code_index[key]))\n",
    "    \n",
    "    return dict_code_sd"
   ]
  },
  {
   "cell_type": "code",
   "execution_count": 26,
   "metadata": {
    "collapsed": false
   },
   "outputs": [
    {
     "data": {
      "text/plain": [
       "numpy.int64"
      ]
     },
     "execution_count": 26,
     "metadata": {},
     "output_type": "execute_result"
    }
   ],
   "source": [
    "type(orig['studentid'][1])"
   ]
  },
  {
   "cell_type": "code",
   "execution_count": null,
   "metadata": {
    "collapsed": true
   },
   "outputs": [],
   "source": []
  }
 ],
 "metadata": {
  "kernelspec": {
   "display_name": "Python 2",
   "language": "python",
   "name": "python2"
  },
  "language_info": {
   "codemirror_mode": {
    "name": "ipython",
    "version": 2
   },
   "file_extension": ".py",
   "mimetype": "text/x-python",
   "name": "python",
   "nbconvert_exporter": "python",
   "pygments_lexer": "ipython2",
   "version": "2.7.11"
  }
 },
 "nbformat": 4,
 "nbformat_minor": 0
}
